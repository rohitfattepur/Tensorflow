{
  "nbformat": 4,
  "nbformat_minor": 0,
  "metadata": {
    "colab": {
      "name": "SO_Home.ipynb",
      "provenance": [],
      "collapsed_sections": [
        "SKWwG5iU_Bt2",
        "iutilLUp9AsZ",
        "sjwfJo493IAV",
        "DEyyro-xMnwS",
        "5f2C617e-BFu",
        "g_jgkP3sdF4r",
        "_Dqzlnvmwrr3",
        "q_FhnDE9wzlF",
        "eVLkvAkPatDD",
        "pb4cJKwt2eIK",
        "z_5aAAf82LIE",
        "Iah4GD0dbRBW",
        "-1vXRhpz0mou",
        "Mk6am3SF58J6",
        "2Ip33pHpNOVU",
        "SVB8mbWfNCIF",
        "4s_VHK_PNWCO",
        "Wjw2f-GyThTk",
        "6kEKp1C76nw6",
        "cWYVNZs-6ujU",
        "0fARWvSOS0xo",
        "sUvdRR4EyO6-",
        "nj1v2ptOIvyc",
        "nvI2gcXuUZ_A",
        "nyAx1Zp1Us4F",
        "4ecy2vH3X6gU",
        "H0zJAoNLU7pu",
        "5u1qthgoVMUL",
        "7x-CnHNIH0r1",
        "xDqxUBulbZua",
        "3yg9AIIvdD7b",
        "OwhjPAkYvkBV",
        "aWjlUrHl0Nr1",
        "n9_kieW013Bh",
        "XjDDrht_4wca"
      ],
      "authorship_tag": "ABX9TyOfOJ3C0Ahc0G3UyjIOK8bA",
      "include_colab_link": true
    },
    "kernelspec": {
      "name": "python3",
      "display_name": "Python 3"
    },
    "accelerator": "GPU"
  },
  "cells": [
    {
      "cell_type": "markdown",
      "metadata": {
        "id": "view-in-github",
        "colab_type": "text"
      },
      "source": [
        "<a href=\"https://colab.research.google.com/github/rohitfattepur/Tensorflow/blob/master/SO_Home.ipynb\" target=\"_parent\"><img src=\"https://colab.research.google.com/assets/colab-badge.svg\" alt=\"Open In Colab\"/></a>"
      ]
    },
    {
      "cell_type": "markdown",
      "metadata": {
        "id": "SKWwG5iU_Bt2",
        "colab_type": "text"
      },
      "source": [
        "# Unwanted Code"
      ]
    },
    {
      "cell_type": "code",
      "metadata": {
        "id": "NWPhM3KGN4TA",
        "colab_type": "code",
        "colab": {}
      },
      "source": [
        "from __future__ import print_function\n",
        "import torch\n",
        "import torch.nn as nn\n",
        "import torch.nn.functional as F\n",
        "import torch.optim as optim\n",
        "from torchvision import datasets, transforms"
      ],
      "execution_count": 0,
      "outputs": []
    },
    {
      "cell_type": "code",
      "metadata": {
        "id": "RxQKG938OI4L",
        "colab_type": "code",
        "colab": {}
      },
      "source": [
        "!pip install torchsummary\n",
        "from torchsummary import summary\n",
        "use_cuda = torch.cuda.is_available()\n",
        "device = torch.device(\"cuda\" if use_cuda else \"cpu\")\n",
        "model = Net().to(device)\n",
        "summary(model, input_size=(1, 28, 28))"
      ],
      "execution_count": 0,
      "outputs": []
    },
    {
      "cell_type": "code",
      "metadata": {
        "id": "yZcVrTbBOOA6",
        "colab_type": "code",
        "colab": {}
      },
      "source": [
        "torch.manual_seed(1)\n",
        "batch_size = 128\n",
        "\n",
        "kwargs = {'num_workers': 1, 'pin_memory': True} if use_cuda else {}\n",
        "train_loader = torch.utils.data.DataLoader(\n",
        "    datasets.MNIST('../data', train=True, download=True,\n",
        "                    transform=transforms.Compose([\n",
        "                        transforms.ToTensor(),\n",
        "                        transforms.Normalize((0.1307,), (0.3081,))\n",
        "                    ])),\n",
        "    batch_size=batch_size, shuffle=True, **kwargs)\n",
        "test_loader = torch.utils.data.DataLoader(\n",
        "    datasets.MNIST('../data', train=False, transform=transforms.Compose([\n",
        "                        transforms.ToTensor(),\n",
        "                        transforms.Normalize((0.1307,), (0.3081,))\n",
        "                    ])),\n",
        "    batch_size=batch_size, shuffle=True, **kwargs)"
      ],
      "execution_count": 0,
      "outputs": []
    },
    {
      "cell_type": "code",
      "metadata": {
        "id": "_n1sw4uUOUq5",
        "colab_type": "code",
        "colab": {}
      },
      "source": [
        "from tqdm import tqdm\n",
        "def train(model, device, train_loader, optimizer, epoch):\n",
        "    model.train()\n",
        "    pbar = tqdm(train_loader)\n",
        "    for batch_idx, (data, target) in enumerate(pbar):\n",
        "        data, target = data.to(device), target.to(device)\n",
        "        optimizer.zero_grad()\n",
        "        output = model(data)\n",
        "        loss = F.nll_loss(output, target)\n",
        "        loss.backward()\n",
        "        optimizer.step()\n",
        "        pbar.set_description(desc= f'loss={loss.item()} batch_id={batch_idx}')\n",
        "\n",
        "\n",
        "def test(model, device, test_loader):\n",
        "    model.eval()\n",
        "    test_loss = 0\n",
        "    correct = 0\n",
        "    with torch.no_grad():\n",
        "        for data, target in test_loader:\n",
        "            data, target = data.to(device), target.to(device)\n",
        "            output = model(data)\n",
        "            test_loss += F.nll_loss(output, target, reduction='sum').item()  # sum up batch loss\n",
        "            pred = output.argmax(dim=1, keepdim=True)  # get the index of the max log-probability\n",
        "            correct += pred.eq(target.view_as(pred)).sum().item()\n",
        "\n",
        "    test_loss /= len(test_loader.dataset)\n",
        "\n",
        "    print('\\nTest set: Average loss: {:.4f}, Accuracy: {}/{} ({:.0f}%)\\n'.format(\n",
        "        test_loss, correct, len(test_loader.dataset),\n",
        "        100. * correct / len(test_loader.dataset)))"
      ],
      "execution_count": 0,
      "outputs": []
    },
    {
      "cell_type": "code",
      "metadata": {
        "id": "zCQEsTdrOaj9",
        "colab_type": "code",
        "colab": {}
      },
      "source": [
        "model = Net().to(device)\n",
        "optimizer = optim.SGD(model.parameters(), lr=0.01, momentum=0.9)\n",
        "\n",
        "#for epoch in range(19, 21):\n",
        "train(model, device, train_loader, optimizer, epoch = 20)\n",
        "test(model, device, test_loader)"
      ],
      "execution_count": 0,
      "outputs": []
    },
    {
      "cell_type": "code",
      "metadata": {
        "id": "24tVvrWxp2kU",
        "colab_type": "code",
        "outputId": "c4f7d1fa-4e6b-46ca-b471-7255708f62ad",
        "colab": {
          "base_uri": "https://localhost:8080/",
          "height": 71
        }
      },
      "source": [
        "import tensorflow as tf\n",
        "from tensorflow.keras.applications import MobileNetV2\n",
        "print(\"Tensorflow Version:\",tf.__version__)\n",
        "  \n",
        "model = MobileNetV2(input_shape=[128, 128, 3], include_top=False) #or whatever model\n",
        "\n",
        "print(\"Weights of the Layer\",model.trainable_weights)"
      ],
      "execution_count": 0,
      "outputs": [
        {
          "output_type": "stream",
          "text": [
            "Tensorflow Version: 1.15.0\n",
            "Weights of the Layer [<tf.Variable 'Conv1_1/kernel:0' shape=(3, 3, 3, 32) dtype=float32>, <tf.Variable 'bn_Conv1_1/gamma:0' shape=(32,) dtype=float32>, <tf.Variable 'bn_Conv1_1/beta:0' shape=(32,) dtype=float32>, <tf.Variable 'expanded_conv_depthwise_1/depthwise_kernel:0' shape=(3, 3, 32, 1) dtype=float32>, <tf.Variable 'expanded_conv_depthwise_BN_1/gamma:0' shape=(32,) dtype=float32>, <tf.Variable 'expanded_conv_depthwise_BN_1/beta:0' shape=(32,) dtype=float32>, <tf.Variable 'expanded_conv_project_1/kernel:0' shape=(1, 1, 32, 16) dtype=float32>, <tf.Variable 'expanded_conv_project_BN_1/gamma:0' shape=(16,) dtype=float32>, <tf.Variable 'expanded_conv_project_BN_1/beta:0' shape=(16,) dtype=float32>, <tf.Variable 'block_1_expand_1/kernel:0' shape=(1, 1, 16, 96) dtype=float32>, <tf.Variable 'block_1_expand_BN_1/gamma:0' shape=(96,) dtype=float32>, <tf.Variable 'block_1_expand_BN_1/beta:0' shape=(96,) dtype=float32>, <tf.Variable 'block_1_depthwise_1/depthwise_kernel:0' shape=(3, 3, 96, 1) dtype=float32>, <tf.Variable 'block_1_depthwise_BN_1/gamma:0' shape=(96,) dtype=float32>, <tf.Variable 'block_1_depthwise_BN_1/beta:0' shape=(96,) dtype=float32>, <tf.Variable 'block_1_project_1/kernel:0' shape=(1, 1, 96, 24) dtype=float32>, <tf.Variable 'block_1_project_BN_1/gamma:0' shape=(24,) dtype=float32>, <tf.Variable 'block_1_project_BN_1/beta:0' shape=(24,) dtype=float32>, <tf.Variable 'block_2_expand_1/kernel:0' shape=(1, 1, 24, 144) dtype=float32>, <tf.Variable 'block_2_expand_BN_1/gamma:0' shape=(144,) dtype=float32>, <tf.Variable 'block_2_expand_BN_1/beta:0' shape=(144,) dtype=float32>, <tf.Variable 'block_2_depthwise_1/depthwise_kernel:0' shape=(3, 3, 144, 1) dtype=float32>, <tf.Variable 'block_2_depthwise_BN_1/gamma:0' shape=(144,) dtype=float32>, <tf.Variable 'block_2_depthwise_BN_1/beta:0' shape=(144,) dtype=float32>, <tf.Variable 'block_2_project_1/kernel:0' shape=(1, 1, 144, 24) dtype=float32>, <tf.Variable 'block_2_project_BN_1/gamma:0' shape=(24,) dtype=float32>, <tf.Variable 'block_2_project_BN_1/beta:0' shape=(24,) dtype=float32>, <tf.Variable 'block_3_expand_1/kernel:0' shape=(1, 1, 24, 144) dtype=float32>, <tf.Variable 'block_3_expand_BN_1/gamma:0' shape=(144,) dtype=float32>, <tf.Variable 'block_3_expand_BN_1/beta:0' shape=(144,) dtype=float32>, <tf.Variable 'block_3_depthwise_1/depthwise_kernel:0' shape=(3, 3, 144, 1) dtype=float32>, <tf.Variable 'block_3_depthwise_BN_1/gamma:0' shape=(144,) dtype=float32>, <tf.Variable 'block_3_depthwise_BN_1/beta:0' shape=(144,) dtype=float32>, <tf.Variable 'block_3_project_1/kernel:0' shape=(1, 1, 144, 32) dtype=float32>, <tf.Variable 'block_3_project_BN_1/gamma:0' shape=(32,) dtype=float32>, <tf.Variable 'block_3_project_BN_1/beta:0' shape=(32,) dtype=float32>, <tf.Variable 'block_4_expand_1/kernel:0' shape=(1, 1, 32, 192) dtype=float32>, <tf.Variable 'block_4_expand_BN_1/gamma:0' shape=(192,) dtype=float32>, <tf.Variable 'block_4_expand_BN_1/beta:0' shape=(192,) dtype=float32>, <tf.Variable 'block_4_depthwise_1/depthwise_kernel:0' shape=(3, 3, 192, 1) dtype=float32>, <tf.Variable 'block_4_depthwise_BN_1/gamma:0' shape=(192,) dtype=float32>, <tf.Variable 'block_4_depthwise_BN_1/beta:0' shape=(192,) dtype=float32>, <tf.Variable 'block_4_project_1/kernel:0' shape=(1, 1, 192, 32) dtype=float32>, <tf.Variable 'block_4_project_BN_1/gamma:0' shape=(32,) dtype=float32>, <tf.Variable 'block_4_project_BN_1/beta:0' shape=(32,) dtype=float32>, <tf.Variable 'block_5_expand_1/kernel:0' shape=(1, 1, 32, 192) dtype=float32>, <tf.Variable 'block_5_expand_BN_1/gamma:0' shape=(192,) dtype=float32>, <tf.Variable 'block_5_expand_BN_1/beta:0' shape=(192,) dtype=float32>, <tf.Variable 'block_5_depthwise_1/depthwise_kernel:0' shape=(3, 3, 192, 1) dtype=float32>, <tf.Variable 'block_5_depthwise_BN_1/gamma:0' shape=(192,) dtype=float32>, <tf.Variable 'block_5_depthwise_BN_1/beta:0' shape=(192,) dtype=float32>, <tf.Variable 'block_5_project_1/kernel:0' shape=(1, 1, 192, 32) dtype=float32>, <tf.Variable 'block_5_project_BN_1/gamma:0' shape=(32,) dtype=float32>, <tf.Variable 'block_5_project_BN_1/beta:0' shape=(32,) dtype=float32>, <tf.Variable 'block_6_expand_1/kernel:0' shape=(1, 1, 32, 192) dtype=float32>, <tf.Variable 'block_6_expand_BN_1/gamma:0' shape=(192,) dtype=float32>, <tf.Variable 'block_6_expand_BN_1/beta:0' shape=(192,) dtype=float32>, <tf.Variable 'block_6_depthwise_1/depthwise_kernel:0' shape=(3, 3, 192, 1) dtype=float32>, <tf.Variable 'block_6_depthwise_BN_1/gamma:0' shape=(192,) dtype=float32>, <tf.Variable 'block_6_depthwise_BN_1/beta:0' shape=(192,) dtype=float32>, <tf.Variable 'block_6_project_1/kernel:0' shape=(1, 1, 192, 64) dtype=float32>, <tf.Variable 'block_6_project_BN_1/gamma:0' shape=(64,) dtype=float32>, <tf.Variable 'block_6_project_BN_1/beta:0' shape=(64,) dtype=float32>, <tf.Variable 'block_7_expand_1/kernel:0' shape=(1, 1, 64, 384) dtype=float32>, <tf.Variable 'block_7_expand_BN_1/gamma:0' shape=(384,) dtype=float32>, <tf.Variable 'block_7_expand_BN_1/beta:0' shape=(384,) dtype=float32>, <tf.Variable 'block_7_depthwise_1/depthwise_kernel:0' shape=(3, 3, 384, 1) dtype=float32>, <tf.Variable 'block_7_depthwise_BN_1/gamma:0' shape=(384,) dtype=float32>, <tf.Variable 'block_7_depthwise_BN_1/beta:0' shape=(384,) dtype=float32>, <tf.Variable 'block_7_project_1/kernel:0' shape=(1, 1, 384, 64) dtype=float32>, <tf.Variable 'block_7_project_BN_1/gamma:0' shape=(64,) dtype=float32>, <tf.Variable 'block_7_project_BN_1/beta:0' shape=(64,) dtype=float32>, <tf.Variable 'block_8_expand_1/kernel:0' shape=(1, 1, 64, 384) dtype=float32>, <tf.Variable 'block_8_expand_BN_1/gamma:0' shape=(384,) dtype=float32>, <tf.Variable 'block_8_expand_BN_1/beta:0' shape=(384,) dtype=float32>, <tf.Variable 'block_8_depthwise_1/depthwise_kernel:0' shape=(3, 3, 384, 1) dtype=float32>, <tf.Variable 'block_8_depthwise_BN_1/gamma:0' shape=(384,) dtype=float32>, <tf.Variable 'block_8_depthwise_BN_1/beta:0' shape=(384,) dtype=float32>, <tf.Variable 'block_8_project_1/kernel:0' shape=(1, 1, 384, 64) dtype=float32>, <tf.Variable 'block_8_project_BN_1/gamma:0' shape=(64,) dtype=float32>, <tf.Variable 'block_8_project_BN_1/beta:0' shape=(64,) dtype=float32>, <tf.Variable 'block_9_expand_1/kernel:0' shape=(1, 1, 64, 384) dtype=float32>, <tf.Variable 'block_9_expand_BN_1/gamma:0' shape=(384,) dtype=float32>, <tf.Variable 'block_9_expand_BN_1/beta:0' shape=(384,) dtype=float32>, <tf.Variable 'block_9_depthwise_1/depthwise_kernel:0' shape=(3, 3, 384, 1) dtype=float32>, <tf.Variable 'block_9_depthwise_BN_1/gamma:0' shape=(384,) dtype=float32>, <tf.Variable 'block_9_depthwise_BN_1/beta:0' shape=(384,) dtype=float32>, <tf.Variable 'block_9_project_1/kernel:0' shape=(1, 1, 384, 64) dtype=float32>, <tf.Variable 'block_9_project_BN_1/gamma:0' shape=(64,) dtype=float32>, <tf.Variable 'block_9_project_BN_1/beta:0' shape=(64,) dtype=float32>, <tf.Variable 'block_10_expand_1/kernel:0' shape=(1, 1, 64, 384) dtype=float32>, <tf.Variable 'block_10_expand_BN_1/gamma:0' shape=(384,) dtype=float32>, <tf.Variable 'block_10_expand_BN_1/beta:0' shape=(384,) dtype=float32>, <tf.Variable 'block_10_depthwise_1/depthwise_kernel:0' shape=(3, 3, 384, 1) dtype=float32>, <tf.Variable 'block_10_depthwise_BN_1/gamma:0' shape=(384,) dtype=float32>, <tf.Variable 'block_10_depthwise_BN_1/beta:0' shape=(384,) dtype=float32>, <tf.Variable 'block_10_project_1/kernel:0' shape=(1, 1, 384, 96) dtype=float32>, <tf.Variable 'block_10_project_BN_1/gamma:0' shape=(96,) dtype=float32>, <tf.Variable 'block_10_project_BN_1/beta:0' shape=(96,) dtype=float32>, <tf.Variable 'block_11_expand_1/kernel:0' shape=(1, 1, 96, 576) dtype=float32>, <tf.Variable 'block_11_expand_BN_1/gamma:0' shape=(576,) dtype=float32>, <tf.Variable 'block_11_expand_BN_1/beta:0' shape=(576,) dtype=float32>, <tf.Variable 'block_11_depthwise_1/depthwise_kernel:0' shape=(3, 3, 576, 1) dtype=float32>, <tf.Variable 'block_11_depthwise_BN_1/gamma:0' shape=(576,) dtype=float32>, <tf.Variable 'block_11_depthwise_BN_1/beta:0' shape=(576,) dtype=float32>, <tf.Variable 'block_11_project_1/kernel:0' shape=(1, 1, 576, 96) dtype=float32>, <tf.Variable 'block_11_project_BN_1/gamma:0' shape=(96,) dtype=float32>, <tf.Variable 'block_11_project_BN_1/beta:0' shape=(96,) dtype=float32>, <tf.Variable 'block_12_expand_1/kernel:0' shape=(1, 1, 96, 576) dtype=float32>, <tf.Variable 'block_12_expand_BN_1/gamma:0' shape=(576,) dtype=float32>, <tf.Variable 'block_12_expand_BN_1/beta:0' shape=(576,) dtype=float32>, <tf.Variable 'block_12_depthwise_1/depthwise_kernel:0' shape=(3, 3, 576, 1) dtype=float32>, <tf.Variable 'block_12_depthwise_BN_1/gamma:0' shape=(576,) dtype=float32>, <tf.Variable 'block_12_depthwise_BN_1/beta:0' shape=(576,) dtype=float32>, <tf.Variable 'block_12_project_1/kernel:0' shape=(1, 1, 576, 96) dtype=float32>, <tf.Variable 'block_12_project_BN_1/gamma:0' shape=(96,) dtype=float32>, <tf.Variable 'block_12_project_BN_1/beta:0' shape=(96,) dtype=float32>, <tf.Variable 'block_13_expand_1/kernel:0' shape=(1, 1, 96, 576) dtype=float32>, <tf.Variable 'block_13_expand_BN_1/gamma:0' shape=(576,) dtype=float32>, <tf.Variable 'block_13_expand_BN_1/beta:0' shape=(576,) dtype=float32>, <tf.Variable 'block_13_depthwise_1/depthwise_kernel:0' shape=(3, 3, 576, 1) dtype=float32>, <tf.Variable 'block_13_depthwise_BN_1/gamma:0' shape=(576,) dtype=float32>, <tf.Variable 'block_13_depthwise_BN_1/beta:0' shape=(576,) dtype=float32>, <tf.Variable 'block_13_project_1/kernel:0' shape=(1, 1, 576, 160) dtype=float32>, <tf.Variable 'block_13_project_BN_1/gamma:0' shape=(160,) dtype=float32>, <tf.Variable 'block_13_project_BN_1/beta:0' shape=(160,) dtype=float32>, <tf.Variable 'block_14_expand_1/kernel:0' shape=(1, 1, 160, 960) dtype=float32>, <tf.Variable 'block_14_expand_BN_1/gamma:0' shape=(960,) dtype=float32>, <tf.Variable 'block_14_expand_BN_1/beta:0' shape=(960,) dtype=float32>, <tf.Variable 'block_14_depthwise_1/depthwise_kernel:0' shape=(3, 3, 960, 1) dtype=float32>, <tf.Variable 'block_14_depthwise_BN_1/gamma:0' shape=(960,) dtype=float32>, <tf.Variable 'block_14_depthwise_BN_1/beta:0' shape=(960,) dtype=float32>, <tf.Variable 'block_14_project_1/kernel:0' shape=(1, 1, 960, 160) dtype=float32>, <tf.Variable 'block_14_project_BN_1/gamma:0' shape=(160,) dtype=float32>, <tf.Variable 'block_14_project_BN_1/beta:0' shape=(160,) dtype=float32>, <tf.Variable 'block_15_expand_1/kernel:0' shape=(1, 1, 160, 960) dtype=float32>, <tf.Variable 'block_15_expand_BN_1/gamma:0' shape=(960,) dtype=float32>, <tf.Variable 'block_15_expand_BN_1/beta:0' shape=(960,) dtype=float32>, <tf.Variable 'block_15_depthwise_1/depthwise_kernel:0' shape=(3, 3, 960, 1) dtype=float32>, <tf.Variable 'block_15_depthwise_BN_1/gamma:0' shape=(960,) dtype=float32>, <tf.Variable 'block_15_depthwise_BN_1/beta:0' shape=(960,) dtype=float32>, <tf.Variable 'block_15_project_1/kernel:0' shape=(1, 1, 960, 160) dtype=float32>, <tf.Variable 'block_15_project_BN_1/gamma:0' shape=(160,) dtype=float32>, <tf.Variable 'block_15_project_BN_1/beta:0' shape=(160,) dtype=float32>, <tf.Variable 'block_16_expand_1/kernel:0' shape=(1, 1, 160, 960) dtype=float32>, <tf.Variable 'block_16_expand_BN_1/gamma:0' shape=(960,) dtype=float32>, <tf.Variable 'block_16_expand_BN_1/beta:0' shape=(960,) dtype=float32>, <tf.Variable 'block_16_depthwise_1/depthwise_kernel:0' shape=(3, 3, 960, 1) dtype=float32>, <tf.Variable 'block_16_depthwise_BN_1/gamma:0' shape=(960,) dtype=float32>, <tf.Variable 'block_16_depthwise_BN_1/beta:0' shape=(960,) dtype=float32>, <tf.Variable 'block_16_project_1/kernel:0' shape=(1, 1, 960, 320) dtype=float32>, <tf.Variable 'block_16_project_BN_1/gamma:0' shape=(320,) dtype=float32>, <tf.Variable 'block_16_project_BN_1/beta:0' shape=(320,) dtype=float32>, <tf.Variable 'Conv_1_1/kernel:0' shape=(1, 1, 320, 1280) dtype=float32>, <tf.Variable 'Conv_1_bn_1/gamma:0' shape=(1280,) dtype=float32>, <tf.Variable 'Conv_1_bn_1/beta:0' shape=(1280,) dtype=float32>]\n"
          ],
          "name": "stdout"
        }
      ]
    },
    {
      "cell_type": "code",
      "metadata": {
        "id": "C0asFNBlrQG4",
        "colab_type": "code",
        "colab": {}
      },
      "source": [
        "class MyModel(tf.keras.Model):\n",
        "\n",
        "    def __init__(self):\n",
        "        super(MyModel, self).__init__()\n",
        "        self.dense1 = tf.keras.layers.Dense(4, activation=tf.nn.relu)\n",
        "        self.dense2 = tf.keras.layers.Dense(5, activation=tf.nn.softmax)\n",
        "        self.des = tf.constant([[1.,2.]])\n",
        "\n",
        "    def call(self, inputs):\n",
        "        x = self.dense1(inputs)\n",
        "        # y = self.des\n",
        "        return self.dense2(x)\n"
      ],
      "execution_count": 0,
      "outputs": []
    },
    {
      "cell_type": "code",
      "metadata": {
        "id": "Fl7e6GCXrkCf",
        "colab_type": "code",
        "outputId": "de7f73c1-c86c-4cbc-b24b-578b5094cc26",
        "colab": {
          "base_uri": "https://localhost:8080/",
          "height": 34
        }
      },
      "source": [
        "model = MyModel()\n",
        "print(model.trainable_variables)"
      ],
      "execution_count": 0,
      "outputs": [
        {
          "output_type": "stream",
          "text": [
            "[]\n"
          ],
          "name": "stdout"
        }
      ]
    },
    {
      "cell_type": "code",
      "metadata": {
        "id": "EW7Ue9vDxQyb",
        "colab_type": "code",
        "colab": {}
      },
      "source": [
        "import numpy as np\n",
        "inputs = np.ones((10, 5)) \n",
        "outs = model(inputs) \n",
        "print(model.trainable_variables)"
      ],
      "execution_count": 0,
      "outputs": []
    },
    {
      "cell_type": "code",
      "metadata": {
        "id": "Gdn72dnmLCJR",
        "colab_type": "code",
        "colab": {}
      },
      "source": [
        "# (1) Importing dependency\n",
        "    import keras\n",
        "    from keras.models import Sequential\n",
        "    from keras.layers import Dense, Activation, Dropout, Flatten, Conv2D, MaxPooling2D\n",
        "    from keras.layers.normalization import BatchNormalization\n",
        "    import numpy as np\n",
        "    np.random.seed(1000)\n",
        "    \n",
        "    # (2) Get Data\n",
        "    import tflearn.datasets.oxflower17 as oxflower17\n",
        "    x, y = oxflower17.load_data(one_hot=True)\n",
        "    \n",
        "    # (3) Create a sequential model\n",
        "    model = Sequential()\n",
        "    \n",
        "    # 1st Convolutional Layer\n",
        "    model.add(Conv2D(filters=96, input_shape=(224,224,3), kernel_size=(11,11), strides=(4,4), padding='valid'))\n",
        "    model.add(Activation('relu'))\n",
        "    # Pooling \n",
        "    model.add(MaxPooling2D(pool_size=(2,2), strides=(2,2), padding='valid'))\n",
        "    # Batch Normalisation before passing it to the next layer\n",
        "    model.add(BatchNormalization())\n",
        "    \n",
        "    # 2nd Convolutional Layer\n",
        "    model.add(Conv2D(filters=256, kernel_size=(11,11), strides=(1,1), padding='valid'))\n",
        "    model.add(Activation('relu'))\n",
        "    # Pooling\n",
        "    model.add(MaxPooling2D(pool_size=(2,2), strides=(2,2), padding='valid'))\n",
        "    # Batch Normalisation\n",
        "    model.add(BatchNormalization())\n",
        "    \n",
        "    # 3rd Convolutional Layer\n",
        "    model.add(Conv2D(filters=384, kernel_size=(3,3), strides=(1,1), padding='valid'))\n",
        "    model.add(Activation('relu'))\n",
        "    # Batch Normalisation\n",
        "    model.add(BatchNormalization())\n",
        "    \n",
        "    # 4th Convolutional Layer\n",
        "    model.add(Conv2D(filters=384, kernel_size=(3,3), strides=(1,1), padding='valid'))\n",
        "    model.add(Activation('relu'))\n",
        "    # Batch Normalisation\n",
        "    model.add(BatchNormalization())\n",
        "    \n",
        "    # 5th Convolutional Layer\n",
        "    model.add(Conv2D(filters=256, kernel_size=(3,3), strides=(1,1), padding='valid'))\n",
        "    model.add(Activation('relu'))\n",
        "    # Pooling\n",
        "    model.add(MaxPooling2D(pool_size=(2,2), strides=(2,2), padding='valid'))\n",
        "    # Batch Normalisation\n",
        "    model.add(BatchNormalization())\n",
        "    \n",
        "    # Passing it to a dense layer\n",
        "    model.add(Flatten())\n",
        "    # 1st Dense Layer\n",
        "    model.add(Dense(4096, input_shape=(224*224*3,)))\n",
        "    model.add(Activation('relu'))\n",
        "    # Add Dropout to prevent overfitting\n",
        "    model.add(Dropout(0.4))\n",
        "    # Batch Normalisation\n",
        "    model.add(BatchNormalization())\n",
        "    \n",
        "    # 2nd Dense Layer\n",
        "    model.add(Dense(4096))\n",
        "    model.add(Activation('relu'))\n",
        "    # Add Dropout\n",
        "    model.add(Dropout(0.4))\n",
        "    # Batch Normalisation\n",
        "    model.add(BatchNormalization())\n",
        "    \n",
        "    # 3rd Dense Layer\n",
        "    model.add(Dense(1000))\n",
        "    model.add(Activation('relu'))\n",
        "    # Add Dropout\n",
        "    model.add(Dropout(0.4))\n",
        "    # Batch Normalisation\n",
        "    model.add(BatchNormalization())\n",
        "    \n",
        "    # Output Layer\n",
        "    model.add(Dense(17))\n",
        "    model.add(Activation('softmax'))\n",
        "    \n",
        "    #model.summary()\n",
        "    \n",
        "    # (4) Compile \n",
        "    model.compile(loss='categorical_crossentropy', optimizer='adam', metrics=['accuracy'])\n",
        "    \n",
        "    # (5) Define Gradient Function\n",
        "    def get_gradient_func(model):\n",
        "        grads = K.gradients(model.total_loss, model.trainable_weights)\n",
        "        inputs = model.model._feed_inputs + model.model._feed_targets + model.model._feed_sample_weights\n",
        "        func = K.function(inputs, grads)\n",
        "        return func\n",
        "    \n",
        "    # (6) Train the model such that gradients are captured for every epoch\n",
        "    epoch_gradient = []\n",
        "    for epoch in range(1,5):\n",
        "        model.fit(x, y, batch_size=64, epochs= epoch, initial_epoch = (epoch-1), verbose=1, validation_split=0.2, shuffle=True)\n",
        "        inputs = model.model._feed_inputs + model.model._feed_targets + model.model._feed_sample_weights\n",
        "        print(model.input)\n",
        "        print(model.total_loss)\n",
        "        get_gradient = get_gradient_func(model)\n",
        "        grads = get_gradient([x, y, np.ones(len(y))])\n",
        "        epoch_gradient.append(grads)\n",
        "    \n",
        "    # (7) Convert to a 2 dimensiaonal array of (epoch, gradients) type\n",
        "    gradient = np.asarray(epoch_gradient)\n",
        "    #print(\"Total number of epochs run:\", epoch)\n",
        "    #print(\"Gradient Array has the shape:\",gradient.shape)"
      ],
      "execution_count": 0,
      "outputs": []
    },
    {
      "cell_type": "code",
      "metadata": {
        "id": "uBnu4AJrnW_c",
        "colab_type": "code",
        "outputId": "a69e2966-fc1b-4ac1-8f55-3f2209128c6f",
        "colab": {
          "base_uri": "https://localhost:8080/",
          "height": 68
        }
      },
      "source": [
        "#!pip install tensorflow==1.14\n",
        "\n",
        "import tensorflow as tf\n",
        "import matplotlib.pyplot as plt\n",
        "import numpy as np\n",
        "import time\n",
        "\n",
        "print(\"tensorflow version:\",tf.__version__)\n",
        "\n",
        "def make_discriminator_model():\n",
        "    model = tf.keras.Sequential()\n",
        "    model.add(tf.keras.layers.Conv2D(7,(3,3) , padding = \"same\" , input_shape = (28,28,1)))\n",
        "    model.add(tf.keras.layers.Flatten())\n",
        "    model.add(tf.keras.layers.LeakyReLU())\n",
        "    model.add(tf.keras.layers.Dense(50,activation = 'relu'))\n",
        "    model.add(tf.keras.layers.Dense(1))\n",
        "    return model \n",
        "\n",
        "model_discriminator = make_discriminator_model()\n",
        "\n",
        "print(\"I'm a Symbolic tensor:\",model_discriminator)\n",
        "\n",
        "#initialize the variable\n",
        "init_op = tf.initialize_all_variables()\n",
        "\n",
        "#run the graph\n",
        "with tf.Session() as sess:\n",
        "    sess.run(init_op) #execute init_op\n",
        "    print(\"Value of the model_discriminator function:\",sess.run(model_discriminator(np.random.rand(1,28,28,1).astype(\"float32\"))))"
      ],
      "execution_count": 0,
      "outputs": [
        {
          "output_type": "stream",
          "text": [
            "tensorflow version: 1.14.0\n",
            "I'm a Symbolic tensor: <tensorflow.python.keras.engine.sequential.Sequential object at 0x7f5a4d62d438>\n",
            "Value of the model_discriminator function: [[0.00674586]]\n"
          ],
          "name": "stdout"
        }
      ]
    },
    {
      "cell_type": "code",
      "metadata": {
        "id": "WHuGn1xmoRUB",
        "colab_type": "code",
        "outputId": "dd898966-fb8e-455d-8ce6-535a412cf406",
        "colab": {
          "base_uri": "https://localhost:8080/",
          "height": 34
        }
      },
      "source": [
        "v = tf.Variable(1)\n",
        "\n",
        "#@tf.function ... \n",
        "def f(x): \n",
        "  ta = tf.TensorArray(tf.int32, size=0, dynamic_size=True)\n",
        "  for i in tf.range(x): \n",
        "      v.assign_add(i) \n",
        "      ta = ta.write(i, v) \n",
        "  return ta.stack()\n",
        "\n",
        "f(5)\n",
        "ta = tf.TensorArray(tf.int32, size=10, dynamic_size=True)\n",
        "print(ta)"
      ],
      "execution_count": 0,
      "outputs": [
        {
          "output_type": "stream",
          "text": [
            "<tensorflow.python.ops.tensor_array_ops.TensorArray object at 0x7f379a0c1dd8>\n"
          ],
          "name": "stdout"
        }
      ]
    },
    {
      "cell_type": "code",
      "metadata": {
        "id": "A9AfVGylOzPW",
        "colab_type": "code",
        "colab": {}
      },
      "source": [
        "from tensorflow.python.client import device_lib \n",
        "print(device_lib.list_local_devices())"
      ],
      "execution_count": 0,
      "outputs": []
    },
    {
      "cell_type": "code",
      "metadata": {
        "id": "WWuIrI1tQ3Gg",
        "colab_type": "code",
        "colab": {}
      },
      "source": [
        "import tensorflow as tf\n",
        "from tensorflow.python.keras import backend as K\n",
        "\n",
        "print(tf.__version__)\n",
        "\n",
        "model = tf.keras.Sequential([\n",
        "    tf.keras.layers.Flatten(input_shape=(28, 28)),\n",
        "    tf.keras.layers.Dense(128, activation='relu'),\n",
        "    tf.keras.layers.Dense(10)\n",
        "])\n",
        "\n",
        "graph=K.get_session().graph\n",
        "\n",
        "graph_def=graph.as_graph_def()\n",
        "print(graph_def)"
      ],
      "execution_count": 0,
      "outputs": []
    },
    {
      "cell_type": "code",
      "metadata": {
        "id": "GmAGpwpFaVh-",
        "colab_type": "code",
        "colab": {}
      },
      "source": [
        "import Image\n",
        "import ImageChops\n",
        "\n",
        "im1 = Image.open(\"splash.png\")\n",
        "im2 = Image.open(\"splash2.png\")\n",
        "\n",
        "diff = ImageChops.difference(im2, im1)"
      ],
      "execution_count": 0,
      "outputs": []
    },
    {
      "cell_type": "code",
      "metadata": {
        "id": "MS-rGAUnZzZI",
        "colab_type": "code",
        "colab": {}
      },
      "source": [
        "#!pip install tensorflow==2.1\n",
        "import tensorflow as tf\n",
        "from tensorflow.python.keras import backend as K\n",
        "\n",
        "print(tf.__version__)\n",
        "\n",
        "model = tf.keras.Sequential([\n",
        "    tf.keras.layers.Flatten(input_shape=(28, 28)),\n",
        "    tf.keras.layers.Dense(128, activation='relu'),\n",
        "    tf.keras.layers.Dense(10)\n",
        "])\n",
        "\n",
        "graph=K.get_session().graph\n",
        "\n",
        "graph_def=graph.as_graph_def()\n",
        "print(graph_def)"
      ],
      "execution_count": 0,
      "outputs": []
    },
    {
      "cell_type": "code",
      "metadata": {
        "id": "DCfwsUo8j7j7",
        "colab_type": "code",
        "outputId": "1252ad90-73ce-4171-efbe-90593e1c68e2",
        "colab": {
          "base_uri": "https://localhost:8080/",
          "height": 71
        }
      },
      "source": [
        "#!pip install tensorflow==2.1\n",
        "\n",
        "import tensorflow as tf\n",
        "\n",
        "model = tf.keras.Sequential(\n",
        "    [\n",
        "        tf.keras.layers.Flatten(input_shape=(28, 28)),\n",
        "        tf.keras.layers.Dense(32, activation=\"relu\"),\n",
        "        tf.keras.layers.Dropout(0.2),\n",
        "        tf.keras.layers.Dense(10, activation=\"softmax\"),\n",
        "    ]\n",
        ")\n",
        "\n",
        "\n",
        "@tf.function\n",
        "def traceme(x):\n",
        "    return model(x)\n",
        "\n",
        "\n",
        "logdir = '/tmp/tensorboard1/'\n",
        "writer = tf.summary.create_file_writer(logdir)\n",
        "tf.summary.trace_on(graph=True, profiler=True)\n",
        "\n",
        "# Forward pass\n",
        "traceme(tf.zeros((1, 28, 28, 1)))\n",
        "with writer.as_default():\n",
        "    tf.summary.trace_export(name=\"model_trace\", step=0, profiler_outdir=logdir)\n"
      ],
      "execution_count": 0,
      "outputs": [
        {
          "output_type": "stream",
          "text": [
            "WARNING:tensorflow:Trace already enabled\n",
            "WARNING:tensorflow:Model was constructed with shape Tensor(\"flatten_9_input:0\", shape=(None, 28, 28), dtype=float32) for input (None, 28, 28), but it was re-called on a Tensor with incompatible shape (1, 28, 28, 1).\n"
          ],
          "name": "stdout"
        }
      ]
    },
    {
      "cell_type": "code",
      "metadata": {
        "id": "O889UWBikfYD",
        "colab_type": "code",
        "colab": {}
      },
      "source": [
        "%load_ext tensorboard\n",
        "%tensorboard --logdir==logdir"
      ],
      "execution_count": 0,
      "outputs": []
    },
    {
      "cell_type": "code",
      "metadata": {
        "id": "8o1gfEKP41Gp",
        "colab_type": "code",
        "colab": {}
      },
      "source": [
        "import tensorflow as tf\n",
        "from tensorflow.python.keras import backend as K\n",
        "from tensorflow.python.ops import summary_ops_v2\n",
        "from tensorflow.python.keras.backend import get_graph\n",
        "\n",
        "print(tf.__version__)\n",
        "\n",
        "model = tf.keras.Sequential([\n",
        "    tf.keras.layers.Flatten(input_shape=(28, 28)),\n",
        "    tf.keras.layers.Dense(128, activation='relu'),\n",
        "    tf.keras.layers.Dense(10)\n",
        "])\n",
        "\n",
        "tb_path = '/tmp/tensorboard/'\n",
        "tb_writer = tf.summary.create_file_writer(tb_path)\n",
        "with tb_writer.as_default():\n",
        "    if not model.run_eagerly:\n",
        "        summary_ops_v2.graph(get_graph(), step=0)"
      ],
      "execution_count": 0,
      "outputs": []
    },
    {
      "cell_type": "markdown",
      "metadata": {
        "id": "GxsivbfXDhEW",
        "colab_type": "text"
      },
      "source": [
        ""
      ]
    },
    {
      "cell_type": "code",
      "metadata": {
        "id": "y_cH7lAzlOiA",
        "colab_type": "code",
        "colab": {}
      },
      "source": [
        "tensorboard --logdir=tb_path"
      ],
      "execution_count": 0,
      "outputs": []
    },
    {
      "cell_type": "code",
      "metadata": {
        "id": "fqMrpp1JDjRz",
        "colab_type": "code",
        "colab": {}
      },
      "source": [
        "from tensorflow.keras import backend as K\n",
        "from tensorflow.keras.layers import *\n",
        "from tensorflow.keras.models import *\n",
        "import tensorflow as tf\n",
        "import numpy as np\n",
        "\n",
        "# Comes from Generative Deep Learning by David Foster\n",
        "class RandomWeightedAverage(tf.keras.layers.Layer):\n",
        "    def __init__(self, batch_size):\n",
        "        super().__init__()\n",
        "        self.batch_size = batch_size\n",
        "    \"\"\"Provides a (random) weighted average between real and generated image samples\"\"\"\n",
        "    def call(self, inputs):\n",
        "        alpha = K.random_uniform((self.batch_size, 1, 1, 1))\n",
        "        return (alpha * inputs[0]) + ((1 - alpha) * inputs[1])\n",
        "\n",
        "# Dummy critic\n",
        "def critic():\n",
        "    critic = Sequential()\n",
        "    inputShape = (28, 28, 1)\n",
        "\n",
        "    critic.add(Conv2D(32, (5, 5), padding=\"same\", strides=(2, 2),\n",
        "        input_shape=inputShape))\n",
        "    critic.add(LeakyReLU(alpha=0.2))\n",
        "\n",
        "    critic.add(Conv2D(64, (5, 5), padding=\"same\", strides=(2, 2)))\n",
        "    critic.add(LeakyReLU(alpha=0.2))\n",
        "\n",
        "    critic.add(Flatten())\n",
        "    critic.add(Dense(512))\n",
        "    critic.add(LeakyReLU(alpha=0.2))\n",
        "    critic.add(Dropout(0.3))\n",
        "    critic.add(Dense(1))\n",
        "\n",
        "    return critic\n",
        "\n",
        "# Gather dataset\n",
        "((X_train, _), (X_test, _)) = tf.keras.datasets.fashion_mnist.load_data()\n",
        "X_train = X_train.reshape(-1, 28, 28, 1)\n",
        "X_test = X_test.reshape(-1, 28, 28, 1)\n",
        "\n",
        "# Note that I am using test images as fake images for testing purposes\n",
        "interpolated_img = RandomWeightedAverage(32)([X_train[0:32].astype(\"float\"), X_test[32:64].astype(\"float\")])\n",
        "\n",
        "dummy = critic()\n",
        "\n",
        "# Compute gradients of the predictions with respect to the interpolated images\n",
        "with tf.GradientTape() as tape:\n",
        "     y_pred = dummy(interpolated_img)\n",
        "     gradients = tape.gradient(y_pred, interpolated_img)"
      ],
      "execution_count": 0,
      "outputs": []
    },
    {
      "cell_type": "code",
      "metadata": {
        "id": "gKHevkcSERhN",
        "colab_type": "code",
        "colab": {}
      },
      "source": [
        "!pip install tensorflow==2.1"
      ],
      "execution_count": 0,
      "outputs": []
    },
    {
      "cell_type": "code",
      "metadata": {
        "id": "qfbSRTKqETNk",
        "colab_type": "code",
        "outputId": "49556dd7-f061-4bfa-994f-5c331208804a",
        "colab": {
          "base_uri": "https://localhost:8080/",
          "height": 139
        }
      },
      "source": [
        "#!pip install tensorflow==2.1\n",
        "from tensorflow.keras import backend as K\n",
        "from tensorflow.keras.layers import *\n",
        "from tensorflow.keras.models import *\n",
        "import tensorflow as tf\n",
        "import numpy as np\n",
        "\n",
        "# Comes from Generative Deep Learning by David Foster\n",
        "class RandomWeightedAverage(tf.keras.layers.Layer):\n",
        "    def __init__(self, batch_size):\n",
        "        super().__init__()\n",
        "        self.batch_size = batch_size\n",
        "    \"\"\"Provides a (random) weighted average between real and generated image samples\"\"\"\n",
        "    def call(self, inputs):\n",
        "        alpha = K.random_uniform((self.batch_size, 1, 1, 1))\n",
        "        return (alpha * inputs[0]) + ((1 - alpha) * inputs[1])\n",
        "\n",
        "# Dummy critic\n",
        "def critic():\n",
        "    critic = Sequential()\n",
        "    inputShape = (28, 28, 1)\n",
        "\n",
        "    critic.add(Conv2D(32, (5, 5), padding=\"same\", strides=(2, 2),\n",
        "        input_shape=inputShape))\n",
        "    critic.add(LeakyReLU(alpha=0.2))\n",
        "\n",
        "    critic.add(Conv2D(64, (5, 5), padding=\"same\", strides=(2, 2)))\n",
        "    critic.add(LeakyReLU(alpha=0.2))\n",
        "\n",
        "    critic.add(Flatten())\n",
        "    critic.add(Dense(512))\n",
        "    critic.add(LeakyReLU(alpha=0.2))\n",
        "    critic.add(Dropout(0.3))\n",
        "    critic.add(Dense(1))\n",
        "\n",
        "    return critic\n",
        "\n",
        "# Gather dataset\n",
        "((X_train, _), (X_test, _)) = tf.keras.datasets.fashion_mnist.load_data()\n",
        "X_train = X_train.reshape(-1, 28, 28, 1)\n",
        "X_test = X_test.reshape(-1, 28, 28, 1)\n",
        "\n",
        "# Note that I am using test images as fake images for testing purposes\n",
        "interpolated_img = RandomWeightedAverage(32)([X_train[0:32].astype('float'), X_test[32:64].astype('float')])\n",
        "\n",
        "dummy = critic()\n",
        "\n",
        "# Compute gradients of the predictions with respect to the interpolated images\n",
        "with tf.GradientTape() as tape:\n",
        "    y_pred = dummy(interpolated_img)\n",
        "gradients = tape.gradient(y_pred, interpolated_img)"
      ],
      "execution_count": 0,
      "outputs": [
        {
          "output_type": "stream",
          "text": [
            "WARNING:tensorflow:Layer random_weighted_average_7 is casting an input tensor from dtype float64 to the layer's dtype of float32, which is new behavior in TensorFlow 2.  The layer has dtype float32 because it's dtype defaults to floatx.\n",
            "\n",
            "If you intended to run this layer in float32, you can safely ignore this warning. If in doubt, this warning is likely only an issue if you are porting a TensorFlow 1.X model to TensorFlow 2.\n",
            "\n",
            "To change all layers to have dtype float64 by default, call `tf.keras.backend.set_floatx('float64')`. To change just this layer, pass dtype='float64' to the layer constructor. If you are the author of this layer, you can disable autocasting by passing autocast=False to the base Layer constructor.\n",
            "\n"
          ],
          "name": "stdout"
        }
      ]
    },
    {
      "cell_type": "code",
      "metadata": {
        "id": "zNyQ36viUI_t",
        "colab_type": "code",
        "colab": {}
      },
      "source": [
        "print(interpolated_img)"
      ],
      "execution_count": 0,
      "outputs": []
    },
    {
      "cell_type": "code",
      "metadata": {
        "id": "xy2JljLJTE3d",
        "colab_type": "code",
        "colab": {}
      },
      "source": [
        "    # (1) Importing dependency\n",
        "    import keras\n",
        "    from keras.models import Sequential\n",
        "    from keras.layers import Dense, Activation, Dropout, Flatten, Conv2D, MaxPooling2D\n",
        "    from keras.layers.normalization import BatchNormalization\n",
        "    import numpy as np\n",
        "    np.random.seed(1000)\n",
        "    \n",
        "    # (2) Get Data\n",
        "    import tflearn.datasets.oxflower17 as oxflower17\n",
        "    x, y = oxflower17.load_data(one_hot=True)\n",
        "    \n",
        "    # (3) Create a sequential model\n",
        "    model = Sequential()\n",
        "    \n",
        "    # 1st Convolutional Layer\n",
        "    model.add(Conv2D(filters=96, input_shape=(224,224,3), kernel_size=(11,11), strides=(4,4), padding='valid'))\n",
        "    model.add(Activation('relu'))\n",
        "    # Pooling \n",
        "    model.add(MaxPooling2D(pool_size=(2,2), strides=(2,2), padding='valid'))\n",
        "    # Batch Normalisation before passing it to the next layer\n",
        "    model.add(BatchNormalization())\n",
        "    \n",
        "    # 2nd Convolutional Layer\n",
        "    model.add(Conv2D(filters=256, kernel_size=(11,11), strides=(1,1), padding='valid'))\n",
        "    model.add(Activation('relu'))\n",
        "    # Pooling\n",
        "    model.add(MaxPooling2D(pool_size=(2,2), strides=(2,2), padding='valid'))\n",
        "    # Batch Normalisation\n",
        "    model.add(BatchNormalization())\n",
        "    \n",
        "    # 3rd Convolutional Layer\n",
        "    model.add(Conv2D(filters=384, kernel_size=(3,3), strides=(1,1), padding='valid'))\n",
        "    model.add(Activation('relu'))\n",
        "    # Batch Normalisation\n",
        "    model.add(BatchNormalization())\n",
        "    \n",
        "    # 4th Convolutional Layer\n",
        "    model.add(Conv2D(filters=384, kernel_size=(3,3), strides=(1,1), padding='valid'))\n",
        "    model.add(Activation('relu'))\n",
        "    # Batch Normalisation\n",
        "    model.add(BatchNormalization())\n",
        "    \n",
        "    # 5th Convolutional Layer\n",
        "    model.add(Conv2D(filters=256, kernel_size=(3,3), strides=(1,1), padding='valid'))\n",
        "    model.add(Activation('relu'))\n",
        "    # Pooling\n",
        "    model.add(MaxPooling2D(pool_size=(2,2), strides=(2,2), padding='valid'))\n",
        "    # Batch Normalisation\n",
        "    model.add(BatchNormalization())\n",
        "    \n",
        "    # Passing it to a dense layer\n",
        "    model.add(Flatten())\n",
        "    # 1st Dense Layer\n",
        "    model.add(Dense(4096, input_shape=(224*224*3,)))\n",
        "    model.add(Activation('relu'))\n",
        "    # Add Dropout to prevent overfitting\n",
        "    model.add(Dropout(0.4))\n",
        "    # Batch Normalisation\n",
        "    model.add(BatchNormalization())\n",
        "    \n",
        "    # 2nd Dense Layer\n",
        "    model.add(Dense(4096))\n",
        "    model.add(Activation('relu'))\n",
        "    # Add Dropout\n",
        "    model.add(Dropout(0.4))\n",
        "    # Batch Normalisation\n",
        "    model.add(BatchNormalization())\n",
        "    \n",
        "    # 3rd Dense Layer\n",
        "    model.add(Dense(1000))\n",
        "    model.add(Activation('relu'))\n",
        "    # Add Dropout\n",
        "    model.add(Dropout(0.4))\n",
        "    # Batch Normalisation\n",
        "    model.add(BatchNormalization())\n",
        "    \n",
        "    # Output Layer\n",
        "    model.add(Dense(17))\n",
        "    model.add(Activation('softmax'))\n",
        "    \n",
        "    model.summary()\n",
        "    \n",
        "    # (4) Compile \n",
        "    model.compile(loss='categorical_crossentropy', optimizer='adam', metrics=['accuracy'])\n",
        "    \n",
        "    # (5) Define Gradient Function\n",
        "    def get_gradient_func(model):\n",
        "        grads = K.gradients(model.total_loss, model.trainable_weights)\n",
        "        inputs = model.model._feed_inputs + model.model._feed_targets + model.model._feed_sample_weights\n",
        "        func = K.function(inputs, grads)\n",
        "        return func\n",
        "    \n",
        "    # (6) Train the model such that gradients are captured for every epoch\n",
        "    epoch_gradient = []\n",
        "    for epoch in range(1,5):\n",
        "        model.fit(x, y, batch_size=64, epochs= epoch, initial_epoch = (epoch-1), verbose=1, validation_split=0.2, shuffle=True)\n",
        "        get_gradient = get_gradient_func(model)\n",
        "        grads = get_gradient([x, y, np.ones(len(y))])\n",
        "        #Similarly define your function to play with your model.layers,model.layers[].get_weights(),model.input,model.total_loss,model.trainable_weights etc\n",
        "        # print(\"Layer of the model:\",model.layers[2])\n",
        "        # print(\"Weights of the Layer\",model.layers[2].get_weights())\n",
        "        # print(model.input)\n",
        "        # print(model.total_loss)\n",
        "        # print(model.trainable_weights)\n",
        "        epoch_gradient.append(grads)\n",
        "    \n",
        "    # (7) Convert to a 2 dimensiaonal array of (epoch, gradients) type\n",
        "    gradient = np.asarray(epoch_gradient)\n",
        "    print(\"Total number of epochs run:\", epoch)\n",
        "    print(\"Gradient Array has the shape:\",gradient.shape)"
      ],
      "execution_count": 0,
      "outputs": []
    },
    {
      "cell_type": "code",
      "metadata": {
        "id": "1MgmDrsmHkCU",
        "colab_type": "code",
        "colab": {}
      },
      "source": [
        "# (1) Importing dependency\n",
        "import keras\n",
        "from keras import backend as K\n",
        "from keras.models import Sequential\n",
        "from keras.layers import Dense, Activation, Dropout, Flatten, Conv2D, MaxPooling2D\n",
        "from keras.layers.normalization import BatchNormalization\n",
        "import numpy as np\n",
        "np.random.seed(1000)\n",
        "\n",
        "# (2) Get Data\n",
        "import tflearn.datasets.oxflower17 as oxflower17\n",
        "x, y = oxflower17.load_data(one_hot=True)\n",
        "\n",
        "# (3) Create a sequential model\n",
        "model = Sequential()\n",
        "\n",
        "# 1st Convolutional Layer\n",
        "model.add(Conv2D(filters=96, input_shape=(224,224,3), kernel_size=(11,11), strides=(4,4), padding='valid'))\n",
        "model.add(Activation('relu'))\n",
        "# Pooling \n",
        "model.add(MaxPooling2D(pool_size=(2,2), strides=(2,2), padding='valid'))\n",
        "# Batch Normalisation before passing it to the next layer\n",
        "model.add(BatchNormalization())\n",
        "\n",
        "# 2nd Convolutional Layer\n",
        "model.add(Conv2D(filters=256, kernel_size=(11,11), strides=(1,1), padding='valid'))\n",
        "model.add(Activation('relu'))\n",
        "# Pooling\n",
        "model.add(MaxPooling2D(pool_size=(2,2), strides=(2,2), padding='valid'))\n",
        "# Batch Normalisation\n",
        "model.add(BatchNormalization())\n",
        "\n",
        "# 3rd Convolutional Layer\n",
        "model.add(Conv2D(filters=384, kernel_size=(3,3), strides=(1,1), padding='valid'))\n",
        "model.add(Activation('relu'))\n",
        "# Batch Normalisation\n",
        "model.add(BatchNormalization())\n",
        "\n",
        "# 4th Convolutional Layer\n",
        "model.add(Conv2D(filters=384, kernel_size=(3,3), strides=(1,1), padding='valid'))\n",
        "model.add(Activation('relu'))\n",
        "# Batch Normalisation\n",
        "model.add(BatchNormalization())\n",
        "\n",
        "# 5th Convolutional Layer\n",
        "model.add(Conv2D(filters=256, kernel_size=(3,3), strides=(1,1), padding='valid'))\n",
        "model.add(Activation('relu'))\n",
        "# Pooling\n",
        "model.add(MaxPooling2D(pool_size=(2,2), strides=(2,2), padding='valid'))\n",
        "# Batch Normalisation\n",
        "model.add(BatchNormalization())\n",
        "\n",
        "# Passing it to a dense layer\n",
        "model.add(Flatten())\n",
        "# 1st Dense Layer\n",
        "model.add(Dense(4096, input_shape=(224*224*3,)))\n",
        "model.add(Activation('relu'))\n",
        "# Add Dropout to prevent overfitting\n",
        "model.add(Dropout(0.4))\n",
        "# Batch Normalisation\n",
        "model.add(BatchNormalization())\n",
        "\n",
        "# 2nd Dense Layer\n",
        "model.add(Dense(4096))\n",
        "model.add(Activation('relu'))\n",
        "# Add Dropout\n",
        "model.add(Dropout(0.4))\n",
        "# Batch Normalisation\n",
        "model.add(BatchNormalization())\n",
        "\n",
        "# 3rd Dense Layer\n",
        "model.add(Dense(1000))\n",
        "model.add(Activation('relu'))\n",
        "# Add Dropout\n",
        "model.add(Dropout(0.4))\n",
        "# Batch Normalisation\n",
        "model.add(BatchNormalization())\n",
        "\n",
        "# Output Layer\n",
        "model.add(Dense(17))\n",
        "model.add(Activation('softmax'))\n",
        "\n",
        "model.summary()\n",
        "\n",
        "# (4) Compile \n",
        "model.compile(loss='categorical_crossentropy', optimizer='adam', metrics=['accuracy'])\n",
        "\n",
        "# (5) Define Gradient Function\n",
        "def get_gradient_func(model):\n",
        "    grads = K.gradients(model.total_loss, model.trainable_weights)\n",
        "    inputs = model.model._feed_inputs + model.model._feed_targets + model.model._feed_sample_weights\n",
        "    func = K.function(inputs, grads)\n",
        "    return func\n",
        "\n",
        "# (6) Train the model such that gradients are captured for every epoch\n",
        "epoch_gradient = []\n",
        "for epoch in range(1,5):\n",
        "    model.fit(x, y, batch_size=64, epochs= epoch, initial_epoch = (epoch-1), verbose=1, validation_split=0.2, shuffle=True)\n",
        "    get_gradient = get_gradient_func(model)\n",
        "    grads = get_gradient([x, y, np.ones(len(y))])\n",
        "    #Similarly define your function to play with your model.layers,model.layers[].get_weights(),model.input,model.total_loss,model.trainable_weights etc\n",
        "    # print(\"Layer of the model:\",model.layers[2])\n",
        "    # print(\"Weights of the Layer\",model.layers[2].get_weights())\n",
        "    # print(model.input)\n",
        "    # print(model.total_loss)\n",
        "    # print(model.trainable_weights)\n",
        "    epoch_gradient.append(grads)\n",
        "\n",
        "# (7) Convert to a 2 dimensiaonal array of (epoch, gradients) type\n",
        "gradient = np.asarray(epoch_gradient)\n",
        "print(\"Total number of epochs run:\", epoch)\n",
        "print(\"Gradient Array has the shape:\",gradient.shape)"
      ],
      "execution_count": 0,
      "outputs": []
    },
    {
      "cell_type": "code",
      "metadata": {
        "id": "LyXsTMn1I_oK",
        "colab_type": "code",
        "outputId": "8865e1ea-2c5e-4e85-b417-d1ee78633a86",
        "colab": {
          "base_uri": "https://localhost:8080/",
          "height": 34
        }
      },
      "source": [
        "import tensorflow as tf\n",
        "print(tf.__version__)"
      ],
      "execution_count": 0,
      "outputs": [
        {
          "output_type": "stream",
          "text": [
            "1.15.0\n"
          ],
          "name": "stdout"
        }
      ]
    },
    {
      "cell_type": "code",
      "metadata": {
        "id": "Djy7BP1P_V1b",
        "colab_type": "code",
        "outputId": "34a301bc-e0c3-4519-b5cd-f210267823ae",
        "colab": {
          "base_uri": "https://localhost:8080/",
          "height": 51
        }
      },
      "source": [
        "from tensorflow.keras.preprocessing.image import load_img\n",
        "from tensorflow.keras.preprocessing.image import img_to_array\n",
        "from tensorflow.keras.models import load_model\n",
        "import numpy as np\n",
        "\n",
        "# Modify the load image to have the target size\n",
        "img = load_img(\"/Data/dog.jpg\", color_mode=\"grayscale\",interpolation='nearest', target_size=(200,50))\n",
        "\n",
        "# convert to array\n",
        "img = img_to_array(img)\n",
        "print(\"image to array shape:\",img.shape)\n",
        "\n",
        "# reshape into a single sample with 1 channel\n",
        "img = img[np.newaxis,:,:,:]\n",
        "print(\"Add a new axis to specify number of images:\",img.shape)"
      ],
      "execution_count": 0,
      "outputs": [
        {
          "output_type": "stream",
          "text": [
            "image to array shape: (200, 50, 1)\n",
            "Add a new axis to specify number of images: (1, 200, 50, 1)\n"
          ],
          "name": "stdout"
        }
      ]
    },
    {
      "cell_type": "code",
      "metadata": {
        "id": "wqJyq5h2ArXA",
        "colab_type": "code",
        "colab": {}
      },
      "source": [
        "from google.colab import drive\n",
        "drive.mount('/content/drive')"
      ],
      "execution_count": 0,
      "outputs": []
    },
    {
      "cell_type": "code",
      "metadata": {
        "id": "4FgVvCdgvZBV",
        "colab_type": "code",
        "colab": {}
      },
      "source": [
        "# (1) Importing dependency\n",
        "    import keras\n",
        "    from keras import backend as K\n",
        "    from keras.models import Sequential\n",
        "    from keras.layers import Dense, Activation, Dropout, Flatten, Conv2D, MaxPooling2D\n",
        "    from keras.layers.normalization import BatchNormalization\n",
        "    import numpy as np\n",
        "    np.random.seed(1000)\n",
        "    \n",
        "    # (2) Get Data\n",
        "    import tflearn.datasets.oxflower17 as oxflower17\n",
        "    x, y = oxflower17.load_data(one_hot=True)\n",
        "    \n",
        "    # (3) Create a sequential model\n",
        "    model = Sequential()\n",
        "    \n",
        "    # 1st Convolutional Layer\n",
        "    model.add(Conv2D(filters=96, input_shape=(224,224,3), kernel_size=(11,11), strides=(4,4), padding='valid'))\n",
        "    model.add(Activation('relu'))\n",
        "    # Pooling \n",
        "    model.add(MaxPooling2D(pool_size=(2,2), strides=(2,2), padding='valid'))\n",
        "    # Batch Normalisation before passing it to the next layer\n",
        "    model.add(BatchNormalization())\n",
        "    \n",
        "    # 2nd Convolutional Layer\n",
        "    model.add(Conv2D(filters=256, kernel_size=(11,11), strides=(1,1), padding='valid'))\n",
        "    model.add(Activation('relu'))\n",
        "    # Pooling\n",
        "    model.add(MaxPooling2D(pool_size=(2,2), strides=(2,2), padding='valid'))\n",
        "    # Batch Normalisation\n",
        "    model.add(BatchNormalization())\n",
        "    \n",
        "    # 3rd Convolutional Layer\n",
        "    model.add(Conv2D(filters=384, kernel_size=(3,3), strides=(1,1), padding='valid'))\n",
        "    model.add(Activation('relu'))\n",
        "    # Batch Normalisation\n",
        "    model.add(BatchNormalization())\n",
        "    \n",
        "    # 4th Convolutional Layer\n",
        "    model.add(Conv2D(filters=384, kernel_size=(3,3), strides=(1,1), padding='valid'))\n",
        "    model.add(Activation('relu'))\n",
        "    # Batch Normalisation\n",
        "    model.add(BatchNormalization())\n",
        "    \n",
        "    # 5th Convolutional Layer\n",
        "    model.add(Conv2D(filters=256, kernel_size=(3,3), strides=(1,1), padding='valid'))\n",
        "    model.add(Activation('relu'))\n",
        "    # Pooling\n",
        "    model.add(MaxPooling2D(pool_size=(2,2), strides=(2,2), padding='valid'))\n",
        "    # Batch Normalisation\n",
        "    model.add(BatchNormalization())\n",
        "    \n",
        "    # Passing it to a dense layer\n",
        "    model.add(Flatten())\n",
        "    # 1st Dense Layer\n",
        "    model.add(Dense(4096, input_shape=(224*224*3,)))\n",
        "    model.add(Activation('relu'))\n",
        "    # Add Dropout to prevent overfitting\n",
        "    model.add(Dropout(0.4))\n",
        "    # Batch Normalisation\n",
        "    model.add(BatchNormalization())\n",
        "    \n",
        "    # 2nd Dense Layer\n",
        "    model.add(Dense(4096))\n",
        "    model.add(Activation('relu'))\n",
        "    # Add Dropout\n",
        "    model.add(Dropout(0.4))\n",
        "    # Batch Normalisation\n",
        "    model.add(BatchNormalization())\n",
        "    \n",
        "    # 3rd Dense Layer\n",
        "    model.add(Dense(1000))\n",
        "    model.add(Activation('relu'))\n",
        "    # Add Dropout\n",
        "    model.add(Dropout(0.4))\n",
        "    # Batch Normalisation\n",
        "    model.add(BatchNormalization())\n",
        "    \n",
        "    # Output Layer\n",
        "    model.add(Dense(17))\n",
        "    model.add(Activation('softmax'))\n",
        "    \n",
        "    #model.summary()\n",
        "    \n",
        "    # (4) Compile \n",
        "    model.compile(loss='categorical_crossentropy', optimizer='adam', metrics=['accuracy'])\n",
        "    \n",
        "    # (5) Define Gradient Function\n",
        "    def get_gradient_func(model):\n",
        "        grads = K.gradients(model.total_loss, model.trainable_weights)\n",
        "        inputs = model.model._feed_inputs + model.model._feed_targets + model.model._feed_sample_weights\n",
        "        func = K.function(inputs, grads)\n",
        "        return func\n",
        "    \n",
        "    # (6) Train the model such that gradients are captured for every epoch\n",
        "    epoch_gradient = []\n",
        "    for epoch in range(1,5):\n",
        "        model.fit(x, y, batch_size=64, epochs= epoch, initial_epoch = (epoch-1), verbose=1, validation_split=0.2, shuffle=True)\n",
        "        get_gradient = get_gradient_func(model)\n",
        "        grads = get_gradient([x, y, np.ones(len(y))])\n",
        "        # Similarly define your function to play with your model.layers,model.layers[].get_weights(),model.input,model.total_loss,model.trainable_weights etc\n",
        "        # print(\"Layer of the model:\",model.layers[2])\n",
        "        # print(\"Weights of the Layer\",model.layers[2].get_weights())\n",
        "        # print(model.input)\n",
        "        # print(model.total_loss)\n",
        "        # print(model.trainable_weights)\n",
        "        epoch_gradient.append(grads)\n",
        "    \n",
        "    # (7) Convert to a 2 dimensiaonal array of (epoch, gradients) type\n",
        "    gradient = np.asarray(epoch_gradient)\n",
        "    print(\"Total number of epochs run:\", epoch)\n",
        "    print(\"Gradient Array has the shape:\",gradient.shape)"
      ],
      "execution_count": 0,
      "outputs": []
    },
    {
      "cell_type": "code",
      "metadata": {
        "id": "DhrY8ER0wGyI",
        "colab_type": "code",
        "outputId": "f03028e0-98be-4db0-e0eb-31b28f3c6ad6",
        "colab": {
          "base_uri": "https://localhost:8080/",
          "height": 34
        }
      },
      "source": [
        "print(gradient.shape)"
      ],
      "execution_count": 0,
      "outputs": [
        {
          "output_type": "stream",
          "text": [
            "(4, 34)\n"
          ],
          "name": "stdout"
        }
      ]
    },
    {
      "cell_type": "code",
      "metadata": {
        "id": "-4-tOmttwIhJ",
        "colab_type": "code",
        "outputId": "73a9dd1b-5013-4e1a-d77c-6695418b4327",
        "colab": {
          "base_uri": "https://localhost:8080/",
          "height": 34
        }
      },
      "source": [
        "%tensorflow_version 1.x\n",
        "import tensorflow as tf\n",
        "print(tf.__version__)"
      ],
      "execution_count": 0,
      "outputs": [
        {
          "output_type": "stream",
          "text": [
            "2.1.0\n"
          ],
          "name": "stdout"
        }
      ]
    },
    {
      "cell_type": "markdown",
      "metadata": {
        "id": "iutilLUp9AsZ",
        "colab_type": "text"
      },
      "source": [
        "# Callbacks in model.fit\n",
        "https://stackoverflow.com/questions/60808723/how-to-call-a-method-as-a-custom-callback-in-keras/60815917#60815917"
      ]
    },
    {
      "cell_type": "code",
      "metadata": {
        "id": "PK0RorXYQbgM",
        "colab_type": "code",
        "outputId": "20472657-42a6-487d-c6b2-78611cf34291",
        "colab": {
          "base_uri": "https://localhost:8080/",
          "height": 1000
        }
      },
      "source": [
        "# (1) Importing dependency\n",
        "%tensorflow_version 1.x\n",
        "import tensorflow as tf\n",
        "import keras\n",
        "from keras import backend as K\n",
        "from keras.models import Sequential\n",
        "from keras.layers import Dense, Activation, Dropout, Flatten, Conv2D, MaxPooling2D\n",
        "from keras.layers.normalization import BatchNormalization\n",
        "import numpy as np\n",
        "\n",
        "np.random.seed(1000)\n",
        "    \n",
        "# (2) Get Data\n",
        "import tflearn.datasets.oxflower17 as oxflower17\n",
        "x, y = oxflower17.load_data(one_hot=True)\n",
        "    \n",
        "# (3) Create a sequential model\n",
        "model = Sequential()\n",
        "    \n",
        "# 1st Convolutional Layer\n",
        "model.add(Conv2D(filters=96, input_shape=(224,224,3), kernel_size=(11,11), strides=(4,4), padding='valid'))\n",
        "model.add(Activation('relu'))\n",
        "# Pooling \n",
        "model.add(MaxPooling2D(pool_size=(2,2), strides=(2,2), padding='valid'))\n",
        "# Batch Normalisation before passing it to the next layer\n",
        "model.add(BatchNormalization())\n",
        "    \n",
        "# 2nd Convolutional Layer\n",
        "model.add(Conv2D(filters=256, kernel_size=(11,11), strides=(1,1), padding='valid'))\n",
        "model.add(Activation('relu'))\n",
        "# Pooling\n",
        "model.add(MaxPooling2D(pool_size=(2,2), strides=(2,2), padding='valid'))\n",
        "# Batch Normalisation\n",
        "model.add(BatchNormalization())\n",
        "    \n",
        "# 3rd Convolutional Layer\n",
        "model.add(Conv2D(filters=384, kernel_size=(3,3), strides=(1,1), padding='valid'))\n",
        "model.add(Activation('relu'))\n",
        "# Batch Normalisation\n",
        "model.add(BatchNormalization())\n",
        "    \n",
        "# 4th Convolutional Layer\n",
        "model.add(Conv2D(filters=384, kernel_size=(3,3), strides=(1,1), padding='valid'))\n",
        "model.add(Activation('relu'))\n",
        "# Batch Normalisation\n",
        "model.add(BatchNormalization())\n",
        "    \n",
        "# 5th Convolutional Layer\n",
        "model.add(Conv2D(filters=256, kernel_size=(3,3), strides=(1,1), padding='valid'))\n",
        "model.add(Activation('relu'))\n",
        "# Pooling\n",
        "model.add(MaxPooling2D(pool_size=(2,2), strides=(2,2), padding='valid'))\n",
        "# Batch Normalisation\n",
        "model.add(BatchNormalization())\n",
        "    \n",
        "# Passing it to a dense layer\n",
        "model.add(Flatten())\n",
        "# 1st Dense Layer\n",
        "model.add(Dense(4096, input_shape=(224*224*3,)))\n",
        "model.add(Activation('relu'))\n",
        "# Add Dropout to prevent overfitting\n",
        "model.add(Dropout(0.4))\n",
        "# Batch Normalisation\n",
        "model.add(BatchNormalization())\n",
        "\n",
        "# 2nd Dense Layer\n",
        "model.add(Dense(4096))\n",
        "model.add(Activation('relu'))\n",
        "# Add Dropout\n",
        "model.add(Dropout(0.4))\n",
        "# Batch Normalisation\n",
        "model.add(BatchNormalization())\n",
        "\n",
        "# 3rd Dense Layer\n",
        "model.add(Dense(1000))\n",
        "model.add(Activation('relu'))\n",
        "# Add Dropout\n",
        "model.add(Dropout(0.4))\n",
        "# Batch Normalisation\n",
        "model.add(BatchNormalization())\n",
        "\n",
        "# Output Layer\n",
        "model.add(Dense(17))\n",
        "model.add(Activation('softmax'))\n",
        "\n",
        "model.summary()\n",
        "\n",
        "# (4) Compile \n",
        "model.compile(loss='categorical_crossentropy', optimizer='adam', metrics=['accuracy'])\n",
        "epoch_gradient = []\n",
        "\n",
        "def get_gradient_func(model):\n",
        "    grads = K.gradients(model.total_loss, model.trainable_weights)\n",
        "    inputs = model.model._feed_inputs + model.model._feed_targets + model.model._feed_sample_weights\n",
        "    func = K.function(inputs, grads)\n",
        "    return func\n",
        "\n",
        "# Define the Required Callback Function\n",
        "class GradientCalcCallback(tf.keras.callbacks.Callback):\n",
        "  def on_epoch_end(self, epoch, logs=None):\n",
        "      get_gradient = get_gradient_func(model)\n",
        "      grads = get_gradient([x, y, np.ones(len(y))])\n",
        "      epoch_gradient.append(grads)\n",
        "    \n",
        "epoch = 4\n",
        "\n",
        "model.fit(x, y, batch_size=64, epochs= epoch, verbose=1, validation_split=0.2, shuffle=True, callbacks=[GradientCalcCallback()])\n",
        "    \n",
        "# (7) Convert to a 2 dimensiaonal array of (epoch, gradients) type\n",
        "gradient = np.asarray(epoch_gradient)\n",
        "print(\"Total number of epochs run:\", epoch)\n",
        "print(\"Gradient Array has the shape:\",gradient.shape)"
      ],
      "execution_count": 0,
      "outputs": [
        {
          "output_type": "stream",
          "text": [
            "Model: \"sequential_5\"\n",
            "_________________________________________________________________\n",
            "Layer (type)                 Output Shape              Param #   \n",
            "=================================================================\n",
            "conv2d_21 (Conv2D)           (None, 54, 54, 96)        34944     \n",
            "_________________________________________________________________\n",
            "activation_37 (Activation)   (None, 54, 54, 96)        0         \n",
            "_________________________________________________________________\n",
            "max_pooling2d_13 (MaxPooling (None, 27, 27, 96)        0         \n",
            "_________________________________________________________________\n",
            "batch_normalization_33 (Batc (None, 27, 27, 96)        384       \n",
            "_________________________________________________________________\n",
            "conv2d_22 (Conv2D)           (None, 17, 17, 256)       2973952   \n",
            "_________________________________________________________________\n",
            "activation_38 (Activation)   (None, 17, 17, 256)       0         \n",
            "_________________________________________________________________\n",
            "max_pooling2d_14 (MaxPooling (None, 8, 8, 256)         0         \n",
            "_________________________________________________________________\n",
            "batch_normalization_34 (Batc (None, 8, 8, 256)         1024      \n",
            "_________________________________________________________________\n",
            "conv2d_23 (Conv2D)           (None, 6, 6, 384)         885120    \n",
            "_________________________________________________________________\n",
            "activation_39 (Activation)   (None, 6, 6, 384)         0         \n",
            "_________________________________________________________________\n",
            "batch_normalization_35 (Batc (None, 6, 6, 384)         1536      \n",
            "_________________________________________________________________\n",
            "conv2d_24 (Conv2D)           (None, 4, 4, 384)         1327488   \n",
            "_________________________________________________________________\n",
            "activation_40 (Activation)   (None, 4, 4, 384)         0         \n",
            "_________________________________________________________________\n",
            "batch_normalization_36 (Batc (None, 4, 4, 384)         1536      \n",
            "_________________________________________________________________\n",
            "conv2d_25 (Conv2D)           (None, 2, 2, 256)         884992    \n",
            "_________________________________________________________________\n",
            "activation_41 (Activation)   (None, 2, 2, 256)         0         \n",
            "_________________________________________________________________\n",
            "max_pooling2d_15 (MaxPooling (None, 1, 1, 256)         0         \n",
            "_________________________________________________________________\n",
            "batch_normalization_37 (Batc (None, 1, 1, 256)         1024      \n",
            "_________________________________________________________________\n",
            "flatten_5 (Flatten)          (None, 256)               0         \n",
            "_________________________________________________________________\n",
            "dense_17 (Dense)             (None, 4096)              1052672   \n",
            "_________________________________________________________________\n",
            "activation_42 (Activation)   (None, 4096)              0         \n",
            "_________________________________________________________________\n",
            "dropout_13 (Dropout)         (None, 4096)              0         \n",
            "_________________________________________________________________\n",
            "batch_normalization_38 (Batc (None, 4096)              16384     \n",
            "_________________________________________________________________\n",
            "dense_18 (Dense)             (None, 4096)              16781312  \n",
            "_________________________________________________________________\n",
            "activation_43 (Activation)   (None, 4096)              0         \n",
            "_________________________________________________________________\n",
            "dropout_14 (Dropout)         (None, 4096)              0         \n",
            "_________________________________________________________________\n",
            "batch_normalization_39 (Batc (None, 4096)              16384     \n",
            "_________________________________________________________________\n",
            "dense_19 (Dense)             (None, 1000)              4097000   \n",
            "_________________________________________________________________\n",
            "activation_44 (Activation)   (None, 1000)              0         \n",
            "_________________________________________________________________\n",
            "dropout_15 (Dropout)         (None, 1000)              0         \n",
            "_________________________________________________________________\n",
            "batch_normalization_40 (Batc (None, 1000)              4000      \n",
            "_________________________________________________________________\n",
            "dense_20 (Dense)             (None, 17)                17017     \n",
            "_________________________________________________________________\n",
            "activation_45 (Activation)   (None, 17)                0         \n",
            "=================================================================\n",
            "Total params: 28,096,769\n",
            "Trainable params: 28,075,633\n",
            "Non-trainable params: 21,136\n",
            "_________________________________________________________________\n",
            "Train on 1088 samples, validate on 272 samples\n",
            "Epoch 1/4\n",
            "1088/1088 [==============================] - 5s 5ms/step - loss: 3.0726 - acc: 0.2289 - val_loss: 12.3280 - val_acc: 0.1287\n"
          ],
          "name": "stdout"
        },
        {
          "output_type": "stream",
          "text": [
            "/usr/local/lib/python3.6/dist-packages/keras/engine/sequential.py:111: UserWarning: `Sequential.model` is deprecated. `Sequential` is a subclass of `Model`, you can just use your `Sequential` instance directly.\n",
            "  warnings.warn('`Sequential.model` is deprecated. '\n"
          ],
          "name": "stderr"
        },
        {
          "output_type": "stream",
          "text": [
            "Epoch 2/4\n",
            "1088/1088 [==============================] - 1s 1ms/step - loss: 2.2462 - acc: 0.3327 - val_loss: 7.0050 - val_acc: 0.2500\n"
          ],
          "name": "stdout"
        },
        {
          "output_type": "stream",
          "text": [
            "/usr/local/lib/python3.6/dist-packages/keras/engine/sequential.py:111: UserWarning: `Sequential.model` is deprecated. `Sequential` is a subclass of `Model`, you can just use your `Sequential` instance directly.\n",
            "  warnings.warn('`Sequential.model` is deprecated. '\n"
          ],
          "name": "stderr"
        },
        {
          "output_type": "stream",
          "text": [
            "Epoch 3/4\n",
            "1088/1088 [==============================] - 1s 1ms/step - loss: 1.8286 - acc: 0.4228 - val_loss: 6.0993 - val_acc: 0.2794\n"
          ],
          "name": "stdout"
        },
        {
          "output_type": "stream",
          "text": [
            "/usr/local/lib/python3.6/dist-packages/keras/engine/sequential.py:111: UserWarning: `Sequential.model` is deprecated. `Sequential` is a subclass of `Model`, you can just use your `Sequential` instance directly.\n",
            "  warnings.warn('`Sequential.model` is deprecated. '\n"
          ],
          "name": "stderr"
        },
        {
          "output_type": "stream",
          "text": [
            "Epoch 4/4\n",
            "1088/1088 [==============================] - 1s 1ms/step - loss: 1.6860 - acc: 0.4642 - val_loss: 3.5253 - val_acc: 0.4081\n"
          ],
          "name": "stdout"
        },
        {
          "output_type": "stream",
          "text": [
            "/usr/local/lib/python3.6/dist-packages/keras/engine/sequential.py:111: UserWarning: `Sequential.model` is deprecated. `Sequential` is a subclass of `Model`, you can just use your `Sequential` instance directly.\n",
            "  warnings.warn('`Sequential.model` is deprecated. '\n"
          ],
          "name": "stderr"
        },
        {
          "output_type": "stream",
          "text": [
            "Total number of epochs run: 4\n",
            "Gradient Array has the shape: (4, 34)\n"
          ],
          "name": "stdout"
        }
      ]
    },
    {
      "cell_type": "code",
      "metadata": {
        "id": "rCO9AKLKKjgL",
        "colab_type": "code",
        "outputId": "7b85d8b9-cfe0-49cb-8fec-414bc18acef7",
        "colab": {
          "base_uri": "https://localhost:8080/",
          "height": 119
        }
      },
      "source": [
        "# summarize filter shapes\n",
        "for layer in model.layers:\n",
        "\t# check for convolutional layer\n",
        "\tif 'conv' in layer.name:\n",
        "\t  # get filter weights\n",
        "\t  filters, biases = layer.get_weights()\n",
        "\t  print(layer.name, filters.shape)"
      ],
      "execution_count": 0,
      "outputs": [
        {
          "output_type": "stream",
          "text": [
            "ERROR! Session/line number was not unique in database. History logging moved to new session 62\n",
            "conv2d_21 (11, 11, 3, 96)\n",
            "conv2d_22 (11, 11, 96, 256)\n",
            "conv2d_23 (3, 3, 256, 384)\n",
            "conv2d_24 (3, 3, 384, 384)\n",
            "conv2d_25 (3, 3, 384, 256)\n"
          ],
          "name": "stdout"
        }
      ]
    },
    {
      "cell_type": "code",
      "metadata": {
        "id": "DmsfcXZtL16-",
        "colab_type": "code",
        "outputId": "2a26d2fc-ce8b-4612-ef85-d043f1a5356c",
        "colab": {
          "base_uri": "https://localhost:8080/",
          "height": 1000
        }
      },
      "source": [
        "# summarize filter shapes\n",
        "for layer in model.layers:\n",
        "\t# check for convolutional layer\n",
        "\tif 'conv' in layer.name:\n",
        "\t  # get filter weights\n",
        "\t  filters, biases = layer.get_weights()\n",
        "\n",
        "print(filters.shape)\n",
        "print(filters)"
      ],
      "execution_count": 0,
      "outputs": [
        {
          "output_type": "stream",
          "text": [
            "(3, 3, 384, 256)\n",
            "[[[[ 1.33229261e-02  2.78362742e-04 -1.15596037e-03 ... -1.04442742e-02\n",
            "    -1.27202040e-02  2.72896886e-02]\n",
            "   [ 2.04270035e-02  2.09266972e-02 -2.27798354e-02 ...  2.10328754e-02\n",
            "    -1.79852340e-02 -1.31000848e-02]\n",
            "   [ 1.21402023e-02  9.55937244e-03 -9.73658753e-04 ...  2.90534608e-02\n",
            "     8.62147380e-03  3.97700304e-03]\n",
            "   ...\n",
            "   [ 2.05181465e-02 -2.70775743e-02 -1.03279278e-02 ...  4.66628186e-03\n",
            "     2.88294349e-02  3.55665796e-02]\n",
            "   [ 2.56488305e-02  2.02665925e-02 -9.53960046e-03 ...  1.07415328e-02\n",
            "     2.38317680e-02 -1.13734556e-02]\n",
            "   [-6.18373556e-03  7.84027111e-03  4.98771551e-04 ...  1.88040324e-02\n",
            "    -2.21270267e-02  7.43205333e-03]]\n",
            "\n",
            "  [[-3.35427485e-02  2.35256236e-02 -1.55152555e-03 ... -1.82591029e-03\n",
            "    -6.07969100e-03 -2.40267627e-03]\n",
            "   [-5.59751503e-03  3.25453505e-02 -1.27216885e-02 ...  2.22896207e-02\n",
            "    -1.04518968e-03 -3.41729373e-02]\n",
            "   [-1.53387915e-02 -2.15985011e-02 -2.40802132e-02 ...  8.57070833e-03\n",
            "     1.55310007e-02  8.27453937e-03]\n",
            "   ...\n",
            "   [-1.83913186e-02 -2.47003324e-02 -1.77569594e-02 ...  3.14827859e-02\n",
            "     2.37260144e-02  1.35977212e-02]\n",
            "   [-5.08161262e-03  2.33772658e-02 -1.85138639e-02 ... -1.16026518e-03\n",
            "     2.38104146e-02 -1.90851931e-02]\n",
            "   [ 8.57734215e-03 -1.23164626e-02 -1.81618647e-03 ... -1.26188034e-02\n",
            "     2.13982817e-02  1.71989426e-02]]\n",
            "\n",
            "  [[ 2.75964546e-03  4.13805023e-02 -1.22120418e-02 ...  1.71306508e-03\n",
            "    -1.51561396e-02 -2.18702871e-02]\n",
            "   [-3.56088951e-03  3.43757658e-03 -1.16327219e-02 ... -1.19192926e-02\n",
            "     3.88762157e-04 -9.95170232e-03]\n",
            "   [ 3.59454565e-02 -6.90977415e-03 -1.50266113e-02 ... -3.32049071e-03\n",
            "     2.45900005e-02 -2.42324471e-02]\n",
            "   ...\n",
            "   [-1.90636870e-02 -1.24915438e-02  2.68660672e-02 ... -4.73172823e-03\n",
            "    -5.91639895e-03  2.28889082e-02]\n",
            "   [ 3.66363376e-02 -2.24502403e-02 -1.06375702e-02 ... -1.81130767e-02\n",
            "     2.88566016e-02 -2.08211727e-02]\n",
            "   [ 6.01422449e-04 -8.68872181e-03 -2.10836846e-02 ...  1.67874563e-02\n",
            "    -3.84189188e-02  1.78155117e-02]]]\n",
            "\n",
            "\n",
            " [[[ 1.22205978e-02  4.27871849e-03 -1.09987976e-02 ...  1.76646598e-02\n",
            "     1.50742009e-02 -3.86701301e-02]\n",
            "   [-2.79729012e-02  2.00011078e-02 -1.31703299e-02 ... -2.00200267e-02\n",
            "    -7.25999195e-03  1.45357484e-02]\n",
            "   [-4.82261041e-03 -4.14834311e-03 -1.76655632e-02 ...  2.20327824e-02\n",
            "     1.72639880e-02 -7.53242476e-03]\n",
            "   ...\n",
            "   [ 1.73690319e-02  3.01635619e-02  1.45886336e-02 ...  1.34067582e-02\n",
            "     3.23755704e-02  1.59694552e-02]\n",
            "   [ 2.47067846e-02  7.35560572e-03 -1.88481305e-02 ...  2.58524362e-02\n",
            "     9.14169010e-04  2.94958130e-02]\n",
            "   [ 2.67407298e-02 -6.96273427e-03  2.19189376e-02 ... -3.23407352e-02\n",
            "     1.11467652e-02 -2.02568714e-02]]\n",
            "\n",
            "  [[-3.33763249e-02 -1.54417353e-02 -8.87046568e-03 ...  1.41540635e-02\n",
            "    -2.68381871e-02  1.22759230e-02]\n",
            "   [-1.30444350e-05 -7.20519293e-03  1.52943395e-02 ... -1.05463304e-02\n",
            "    -1.63246077e-02 -2.80507226e-02]\n",
            "   [ 1.94950942e-02  1.96460653e-02 -5.00125624e-03 ... -1.58436447e-02\n",
            "     1.41756414e-02  1.98035198e-03]\n",
            "   ...\n",
            "   [-2.91450340e-02  1.30721824e-02  1.83877610e-02 ... -1.90879926e-02\n",
            "     1.99749433e-02 -1.05333803e-02]\n",
            "   [ 1.72556620e-02  1.81617010e-02  1.24600148e-02 ...  1.88519955e-02\n",
            "    -8.84543266e-03 -1.60351787e-02]\n",
            "   [ 2.47481037e-02  2.93982169e-03  2.01242752e-02 ...  1.95950232e-02\n",
            "    -2.78105512e-02  2.05665398e-02]]\n",
            "\n",
            "  [[ 1.82851534e-02  3.44641991e-02 -2.00678073e-02 ... -3.24464031e-02\n",
            "    -3.23583074e-02 -2.66336314e-02]\n",
            "   [-1.30740115e-02 -2.40531545e-02  1.92862866e-03 ... -9.58005898e-03\n",
            "    -8.63340776e-03 -2.82395743e-02]\n",
            "   [ 4.19791276e-03  1.45691829e-02  3.42715830e-02 ...  4.06611152e-02\n",
            "    -2.05075163e-02 -3.97980548e-02]\n",
            "   ...\n",
            "   [ 1.23621235e-02 -3.30808535e-02  3.05603142e-03 ... -8.03769939e-03\n",
            "     2.39255354e-02  1.01700425e-02]\n",
            "   [ 1.93574950e-02  2.53207628e-02  3.19945849e-02 ... -1.29298661e-02\n",
            "    -9.71809588e-03 -3.35334092e-02]\n",
            "   [-4.02106047e-02 -2.33742259e-02 -2.70008687e-02 ... -5.98855503e-03\n",
            "    -1.24435341e-02  3.15479822e-02]]]\n",
            "\n",
            "\n",
            " [[[-2.30802242e-02 -1.40459323e-02 -6.23126328e-03 ...  1.52085479e-02\n",
            "    -2.52160486e-02  1.24641499e-02]\n",
            "   [ 1.96760800e-02  1.05630013e-03  2.54229661e-02 ...  1.62760932e-02\n",
            "     2.23252065e-02 -2.22447589e-02]\n",
            "   [ 3.04492004e-02 -1.94075168e-03 -1.97871421e-02 ... -9.06596240e-03\n",
            "     3.24702673e-02 -9.38400440e-03]\n",
            "   ...\n",
            "   [-2.87375692e-02 -1.13275591e-02 -1.56598929e-02 ... -3.06045953e-02\n",
            "    -3.27123553e-02  4.29812027e-03]\n",
            "   [-5.72555349e-04  9.24452208e-03 -1.79962069e-02 ... -1.38692930e-03\n",
            "    -1.69475167e-03 -2.07326356e-02]\n",
            "   [ 2.55298633e-02  2.39779558e-02 -4.83227056e-03 ... -1.02796387e-02\n",
            "    -1.41589378e-04 -1.67643074e-02]]\n",
            "\n",
            "  [[-2.23147380e-03  1.37838507e-02 -4.08266764e-03 ...  1.90702491e-02\n",
            "     9.72075947e-03 -2.66824216e-02]\n",
            "   [-1.86436921e-02 -2.82567251e-03 -1.35208173e-02 ...  3.81241441e-02\n",
            "    -1.62060019e-02 -3.96039486e-02]\n",
            "   [ 5.92509052e-03  1.42326870e-03  5.25515201e-03 ...  2.07302850e-02\n",
            "    -3.06541529e-02 -2.26684157e-02]\n",
            "   ...\n",
            "   [ 2.35446766e-02 -3.54932398e-02 -1.09605016e-02 ...  1.20483274e-02\n",
            "     3.52192447e-02 -8.96899775e-03]\n",
            "   [-1.91081129e-02 -7.72378687e-03  8.51210579e-03 ...  3.27213518e-02\n",
            "    -3.99521226e-03  2.70088650e-02]\n",
            "   [-1.36597576e-02  7.93528836e-03  4.57486464e-03 ... -3.79467532e-02\n",
            "    -1.68086924e-02  3.47109861e-03]]\n",
            "\n",
            "  [[-2.51405891e-02  3.37613821e-02 -1.24929231e-02 ... -4.84925555e-03\n",
            "     1.82562377e-02 -4.42078747e-02]\n",
            "   [-5.84426289e-03 -2.04253178e-02  1.42424544e-02 ...  2.39489395e-02\n",
            "    -3.39500532e-02 -7.58632645e-03]\n",
            "   [ 2.52021682e-02 -2.40255445e-02 -1.36912316e-02 ... -1.96786743e-04\n",
            "     7.05324765e-03 -1.00541944e-02]\n",
            "   ...\n",
            "   [ 9.71514825e-03 -7.74992211e-03 -3.24081630e-02 ...  1.33663723e-02\n",
            "     1.77465230e-02  2.45424472e-02]\n",
            "   [-1.41809247e-02  2.96245646e-02  3.87504548e-02 ...  1.54969441e-02\n",
            "    -2.57334486e-02 -4.18210924e-02]\n",
            "   [-7.17054168e-03  3.36966068e-02 -2.70571802e-02 ... -3.91547196e-03\n",
            "    -1.72355976e-02  2.01625824e-02]]]]\n"
          ],
          "name": "stdout"
        }
      ]
    },
    {
      "cell_type": "markdown",
      "metadata": {
        "id": "sjwfJo493IAV",
        "colab_type": "text"
      },
      "source": [
        "# Tensor to Array(ndarray) \n",
        "https://stackoverflow.com/questions/60824788/how-to-convert-tensor-to-ndarray"
      ]
    },
    {
      "cell_type": "code",
      "metadata": {
        "id": "G9cwPNdunwz7",
        "colab_type": "code",
        "outputId": "e6b65ff5-5de2-4eb5-d06b-cb19c5497844",
        "colab": {
          "base_uri": "https://localhost:8080/",
          "height": 85
        }
      },
      "source": [
        "#!pip install tensorflow==2.1\n",
        "\n",
        "import tensorflow as tf\n",
        "import matplotlib.pyplot as plt\n",
        "import numpy as np\n",
        "#import time\n",
        "\n",
        "print(\"tensorflow version:\",tf.__version__)\n",
        "\n",
        "def make_discriminator_model():\n",
        "    model = tf.keras.Sequential()\n",
        "    model.add(tf.keras.layers.Conv2D(7,(3,3) , padding = \"same\" , input_shape = (28,28,1)))\n",
        "    model.add(tf.keras.layers.Flatten())\n",
        "    model.add(tf.keras.layers.LeakyReLU())\n",
        "    model.add(tf.keras.layers.Dense(50,activation = 'relu'))\n",
        "    model.add(tf.keras.layers.Dense(1))\n",
        "    return model \n",
        "\n",
        "model_discriminator = make_discriminator_model()\n",
        "output = model_discriminator(np.random.rand(1,28,28,1).astype(\"float32\"))\n",
        "print(\"Output as a Tensor:\",output)\n",
        "\n",
        "out = np.array(output)\n",
        "print(\"Output as an Array:\",out)\n",
        "print(\"Type of the Array:\",type(out))"
      ],
      "execution_count": 0,
      "outputs": [
        {
          "output_type": "stream",
          "text": [
            "tensorflow version: 2.1.0\n",
            "Output as a Tensor: tf.Tensor([[-0.40550372]], shape=(1, 1), dtype=float32)\n",
            "Output as an Array: [[-0.40550372]]\n",
            "Type of the Array: <class 'numpy.ndarray'>\n"
          ],
          "name": "stdout"
        }
      ]
    },
    {
      "cell_type": "code",
      "metadata": {
        "id": "sVHp5zzm0jbd",
        "colab_type": "code",
        "outputId": "7e589da7-084f-4643-8810-5e40c4102e8e",
        "colab": {
          "base_uri": "https://localhost:8080/",
          "height": 85
        }
      },
      "source": [
        "#!pip install tensorflow==1.14\n",
        "\n",
        "import tensorflow as tf\n",
        "import matplotlib.pyplot as plt\n",
        "import numpy as np\n",
        "import time\n",
        "\n",
        "print(\"tensorflow version:\",tf.__version__)\n",
        "\n",
        "def make_discriminator_model():\n",
        "    model = tf.keras.Sequential()\n",
        "    model.add(tf.keras.layers.Conv2D(7,(3,3) , padding = \"same\" , input_shape = (28,28,1)))\n",
        "    model.add(tf.keras.layers.Flatten())\n",
        "    model.add(tf.keras.layers.LeakyReLU())\n",
        "    model.add(tf.keras.layers.Dense(50,activation = 'relu'))\n",
        "    model.add(tf.keras.layers.Dense(1))\n",
        "    return model \n",
        "\n",
        "model_discriminator = make_discriminator_model()\n",
        "output = model_discriminator(np.random.rand(1,28,28,1).astype(\"float32\"))\n",
        "\n",
        "#initialize the variable\n",
        "init_op = tf.initialize_all_variables()\n",
        "\n",
        "#run the graph\n",
        "with tf.Session() as sess:\n",
        "    sess.run(init_op) #execute init_op\n",
        "    print(\"Output as a Tensor:\",output)\n",
        "    out = np.array(sess.run(output))\n",
        "    print(\"Output as an Array:\",out)\n",
        "    print(\"Type of the Array:\",type(out)"
      ],
      "execution_count": 0,
      "outputs": [
        {
          "output_type": "stream",
          "text": [
            "tensorflow version: 1.14.0\n",
            "Output as a Tensor: Tensor(\"sequential_7/dense_15/BiasAdd:0\", shape=(1, 1), dtype=float32)\n",
            "Output as an Array: [[-0.29746282]]\n",
            "Type of the Array: <class 'numpy.ndarray'>\n"
          ],
          "name": "stdout"
        }
      ]
    },
    {
      "cell_type": "markdown",
      "metadata": {
        "id": "DEyyro-xMnwS",
        "colab_type": "text"
      },
      "source": [
        "# Switching between Tensorflow Versions without installing everytime\n",
        "https://stackoverflow.com/questions/60810400/how-to-upgrade-tensorflow-to-2-0-in-google-colab-permanently/60810715#60810715"
      ]
    },
    {
      "cell_type": "code",
      "metadata": {
        "id": "-PKQyncnMmBa",
        "colab_type": "code",
        "outputId": "3e556b13-75f0-4eaf-a708-94638c6e8099",
        "colab": {
          "base_uri": "https://localhost:8080/",
          "height": 34
        }
      },
      "source": [
        "%tensorflow_version 1.x\n",
        "import tensorflow as tf\n",
        "print(tf.__version__)"
      ],
      "execution_count": 0,
      "outputs": [
        {
          "output_type": "stream",
          "text": [
            "1.15.0\n"
          ],
          "name": "stdout"
        }
      ]
    },
    {
      "cell_type": "code",
      "metadata": {
        "id": "RVg8VdqXNHeN",
        "colab_type": "code",
        "outputId": "5f1425f1-d300-47b4-8db3-7e3e900b2d5b",
        "colab": {
          "base_uri": "https://localhost:8080/",
          "height": 51
        }
      },
      "source": [
        "%tensorflow_version 2.x\n",
        "import tensorflow as tf\n",
        "print(tf.__version__)"
      ],
      "execution_count": 0,
      "outputs": [
        {
          "output_type": "stream",
          "text": [
            "TensorFlow 2.x selected.\n",
            "2.1.0\n"
          ],
          "name": "stdout"
        }
      ]
    },
    {
      "cell_type": "markdown",
      "metadata": {
        "id": "5f2C617e-BFu",
        "colab_type": "text"
      },
      "source": [
        "# One Hot Encoding Using LabelBinarizer\n",
        "https://stackoverflow.com/questions/60868391/how-to-view-class-labels-after-one-hot-encoding-during-training-testing-and-afte/60871869#60871869"
      ]
    },
    {
      "cell_type": "code",
      "metadata": {
        "id": "UsvwViobiReg",
        "colab_type": "code",
        "outputId": "52777050-e087-4be8-e5c1-aefd120f0c12",
        "colab": {
          "base_uri": "https://localhost:8080/",
          "height": 221
        }
      },
      "source": [
        "import numpy as np\n",
        "from sklearn.preprocessing import LabelBinarizer\n",
        "from tensorflow.keras.utils import to_categorical\n",
        "\n",
        "# define example\n",
        "data = ['dog', 'dog', 'cat', 'dog', 'cat', 'cat', 'dog', 'cat', 'dog', 'dog']\n",
        "\n",
        "values = np.array(data)\n",
        "\n",
        "#Binary encode\n",
        "lb = LabelBinarizer()\n",
        "\n",
        "labels = lb.fit_transform(values)\n",
        "labels = to_categorical(labels)\n",
        "print(\"which position represents for cat and dog?:\")\n",
        "print(\"Data is:\",data)\n",
        "print(labels)"
      ],
      "execution_count": 0,
      "outputs": [
        {
          "output_type": "stream",
          "text": [
            "which position represents for cat and dog?:\n",
            "Data is: ['dog', 'dog', 'cat', 'dog', 'cat', 'cat', 'dog', 'cat', 'dog', 'dog']\n",
            "[[0. 1.]\n",
            " [0. 1.]\n",
            " [1. 0.]\n",
            " [0. 1.]\n",
            " [1. 0.]\n",
            " [1. 0.]\n",
            " [0. 1.]\n",
            " [1. 0.]\n",
            " [0. 1.]\n",
            " [0. 1.]]\n"
          ],
          "name": "stdout"
        }
      ]
    },
    {
      "cell_type": "code",
      "metadata": {
        "id": "wZ4RkAQAKsje",
        "colab_type": "code",
        "outputId": "6ccc26e1-0cbb-41e8-9c73-5ff4ac30442e",
        "colab": {
          "base_uri": "https://localhost:8080/",
          "height": 459
        }
      },
      "source": [
        "import numpy as np\n",
        "from sklearn.preprocessing import LabelBinarizer\n",
        "from tensorflow.keras.utils import to_categorical\n",
        "\n",
        "# define example\n",
        "data1 = ['cat', 'cat', 'dog', 'cat', 'dog', 'dog', 'cat', 'dog', 'cat', 'cat']\n",
        "data2 = ['dog', 'dog', 'cat', 'dog', 'cat', 'cat', 'dog', 'cat', 'dog', 'dog']\n",
        "\n",
        "values1 = np.array(data1)\n",
        "values2 = np.array(data2)\n",
        "\n",
        "#Binary encode\n",
        "lb = LabelBinarizer()\n",
        "\n",
        "labels1 = lb.fit_transform(values1)\n",
        "labels1 = to_categorical(labels1)\n",
        "print(\"what is value for cat and dog?:\")\n",
        "print(\"Data is:\",data1)\n",
        "print(labels1)\n",
        "print(\"\\n\")\n",
        "\n",
        "labels2 = lb.fit_transform(values2)\n",
        "labels2 = to_categorical(labels2)\n",
        "print(\"what is value for cat and dog?:\")\n",
        "print(\"Data is:\",data2)\n",
        "print(labels2)"
      ],
      "execution_count": 0,
      "outputs": [
        {
          "output_type": "stream",
          "text": [
            "what is value for cat and dog?:\n",
            "Data is: ['cat', 'cat', 'dog', 'cat', 'dog', 'dog', 'cat', 'dog', 'cat', 'cat']\n",
            "[[1. 0.]\n",
            " [1. 0.]\n",
            " [0. 1.]\n",
            " [1. 0.]\n",
            " [0. 1.]\n",
            " [0. 1.]\n",
            " [1. 0.]\n",
            " [0. 1.]\n",
            " [1. 0.]\n",
            " [1. 0.]]\n",
            "\n",
            "\n",
            "what is value for cat and dog?:\n",
            "Data is: ['dog', 'dog', 'cat', 'dog', 'cat', 'cat', 'dog', 'cat', 'dog', 'dog']\n",
            "[[0. 1.]\n",
            " [0. 1.]\n",
            " [1. 0.]\n",
            " [0. 1.]\n",
            " [1. 0.]\n",
            " [1. 0.]\n",
            " [0. 1.]\n",
            " [1. 0.]\n",
            " [0. 1.]\n",
            " [0. 1.]]\n"
          ],
          "name": "stdout"
        }
      ]
    },
    {
      "cell_type": "code",
      "metadata": {
        "id": "DFIx6yucLI-K",
        "colab_type": "code",
        "outputId": "d99da379-cfe0-48ec-9e2e-41f6c23a10e4",
        "colab": {
          "base_uri": "https://localhost:8080/",
          "height": 34
        }
      },
      "source": [
        "import numpy as np\n",
        "rslt = np.array([[0.9550967,0.04490325]])\n",
        "rslt = np.argmax(rslt)\n",
        "print(rslt)"
      ],
      "execution_count": 0,
      "outputs": [
        {
          "output_type": "stream",
          "text": [
            "0\n"
          ],
          "name": "stdout"
        }
      ]
    },
    {
      "cell_type": "code",
      "metadata": {
        "id": "mIZpkS8Sh223",
        "colab_type": "code",
        "outputId": "0e98fc0b-6ee4-4012-fc7d-3b1563c3026e",
        "colab": {
          "base_uri": "https://localhost:8080/",
          "height": 34
        }
      },
      "source": [
        "import numpy as np\n",
        "rslt = np.array([[0.04490325,0.9550967, 1]])\n",
        "rslt = np.argmax(rslt)\n",
        "print(rslt)"
      ],
      "execution_count": 0,
      "outputs": [
        {
          "output_type": "stream",
          "text": [
            "2\n"
          ],
          "name": "stdout"
        }
      ]
    },
    {
      "cell_type": "markdown",
      "metadata": {
        "id": "g_jgkP3sdF4r",
        "colab_type": "text"
      },
      "source": [
        "# Ragged Tensor\n",
        "https://stackoverflow.com/questions/60924624/is-there-a-way-to-normalize-a-ragged-tensor"
      ]
    },
    {
      "cell_type": "markdown",
      "metadata": {
        "id": "_Dqzlnvmwrr3",
        "colab_type": "text"
      },
      "source": [
        "## Using math.l2_normalize"
      ]
    },
    {
      "cell_type": "code",
      "metadata": {
        "id": "REq-0WuSdgT3",
        "colab_type": "code",
        "outputId": "142206b5-c025-4ce7-ee90-028d2ecc380b",
        "colab": {
          "base_uri": "https://localhost:8080/",
          "height": 340
        }
      },
      "source": [
        "import tensorflow as tf\n",
        "import keras\n",
        "import numpy as np\n",
        "\n",
        "# Create a Ragged Tensor\n",
        "rt = tf.ragged.constant([[9.0, 8.0, 7.0], [], [6.0, 5.0], [4.0]])\n",
        "print(\"Ragged Tensor:\",\"\\n\",rt,\"\\n\")\n",
        "\n",
        "# Convert to Tensor to have same length\n",
        "rt = rt.to_tensor()\n",
        "print(\"Tensor of same length:\",\"\\n\",rt,\"\\n\")\n",
        "\n",
        "# Normalize\n",
        "rt = tf.math.l2_normalize(rt, axis = None)\n",
        "print(\"Normalized Tensor:\",\"\\n\",rt,\"\\n\")\n",
        "\n",
        "# Convert to Ragged Tensor\n",
        "rt = tf.RaggedTensor.from_tensor(rt, padding=0.0)\n",
        "print(\"Normalized Ragged Tensor:\",\"\\n\",rt)"
      ],
      "execution_count": 0,
      "outputs": [
        {
          "output_type": "stream",
          "text": [
            "Ragged Tensor: \n",
            " <tf.RaggedTensor [[9.0, 8.0, 7.0], [], [6.0, 5.0], [4.0]]> \n",
            "\n",
            "Tensor of same length: \n",
            " tf.Tensor(\n",
            "[[9. 8. 7.]\n",
            " [0. 0. 0.]\n",
            " [6. 5. 0.]\n",
            " [4. 0. 0.]], shape=(4, 3), dtype=float32) \n",
            "\n",
            "Normalized Tensor: \n",
            " tf.Tensor(\n",
            "[[0.546711   0.48596537 0.4252197 ]\n",
            " [0.         0.         0.        ]\n",
            " [0.36447403 0.30372834 0.        ]\n",
            " [0.24298269 0.         0.        ]], shape=(4, 3), dtype=float32) \n",
            "\n",
            "Normalized Ragged Tensor: \n",
            " <tf.RaggedTensor [[0.5467110276222229, 0.485965371131897, 0.42521971464157104], [], [0.36447402834892273, 0.3037283420562744], [0.2429826855659485]]>\n"
          ],
          "name": "stdout"
        }
      ]
    },
    {
      "cell_type": "markdown",
      "metadata": {
        "id": "q_FhnDE9wzlF",
        "colab_type": "text"
      },
      "source": [
        "## Using tf.linalg.normalize"
      ]
    },
    {
      "cell_type": "code",
      "metadata": {
        "id": "lzHoyROQdpHI",
        "colab_type": "code",
        "outputId": "f16f1518-fc9a-4ed0-83aa-2f3f78f813d5",
        "colab": {
          "base_uri": "https://localhost:8080/"
        }
      },
      "source": [
        "import tensorflow as tf\n",
        "import keras\n",
        "import numpy as np\n",
        "\n",
        "# Create a Ragged Tensor\n",
        "rt = tf.ragged.constant([[9.0, 8.0, 7.0], [], [6.0, 5.0], [4.0]])\n",
        "print(\"Ragged Tensor:\",\"\\n\",rt,\"\\n\")\n",
        "\n",
        "# Convert to Tensor to have same length\n",
        "rt = rt.to_tensor()\n",
        "print(\"Tensor of same length:\",\"\\n\",rt,\"\\n\")\n",
        "\n",
        "# Normalize\n",
        "rt = tf.linalg.normalize(rt, axis = None)\n",
        "print(\"Normalized and Norm Tensor:\",\"\\n\",rt,\"\\n\")\n",
        "# Get the normalized part\n",
        "rt = tf.convert_to_tensor(rt[0])\n",
        "print(\"Normalized Tensor:\",\"\\n\",rt,\"\\n\")\n",
        "\n",
        "# Convert to Ragged Tensor\n",
        "rt = tf.RaggedTensor.from_tensor(rt, padding=0.0)\n",
        "print(\"Normalized Ragged Tensor:\",\"\\n\",rt)"
      ],
      "execution_count": 0,
      "outputs": [
        {
          "output_type": "stream",
          "text": [
            "Ragged Tensor: \n",
            " tf.RaggedTensor(values=Tensor(\"RaggedConstant/values:0\", shape=(6,), dtype=float32), row_splits=Tensor(\"RaggedConstant/Const:0\", shape=(5,), dtype=int64)) \n",
            "\n",
            "Tensor of same length: \n",
            " Tensor(\"RaggedToTensor/GatherV2:0\", shape=(4, 3), dtype=float32) \n",
            "\n",
            "Normalized and Norm Tensor: \n",
            " (<tf.Tensor 'normalize/truediv:0' shape=(4, 3) dtype=float32>, <tf.Tensor 'normalize/norm/Sqrt:0' shape=(1, 1) dtype=float32>) \n",
            "\n",
            "Normalized Tensor: \n",
            " Tensor(\"normalize/truediv:0\", shape=(4, 3), dtype=float32) \n",
            "\n",
            "Normalized Ragged Tensor: \n",
            " tf.RaggedTensor(values=Tensor(\"RaggedFromTensor/boolean_mask/GatherV2:0\", shape=(?,), dtype=float32), row_splits=Tensor(\"RaggedFromTensor/concat:0\", shape=(5,), dtype=int64))\n"
          ],
          "name": "stdout"
        }
      ]
    },
    {
      "cell_type": "markdown",
      "metadata": {
        "id": "eVLkvAkPatDD",
        "colab_type": "text"
      },
      "source": [
        "# Deleting Layer using Keras Surgeon OR pop\n",
        "https://stackoverflow.com/questions/60637199/error-in-removing-the-first-layer-of-keras-model"
      ]
    },
    {
      "cell_type": "markdown",
      "metadata": {
        "id": "pb4cJKwt2eIK",
        "colab_type": "text"
      },
      "source": [
        "## Deleting the first or middle layer"
      ]
    },
    {
      "cell_type": "code",
      "metadata": {
        "id": "wcVNcMX4eV1A",
        "colab_type": "code",
        "outputId": "94ffb433-76fb-4c11-9c99-b449fd298fe1",
        "colab": {
          "base_uri": "https://localhost:8080/",
          "height": 221
        }
      },
      "source": [
        "!pip install kerassurgeon"
      ],
      "execution_count": 0,
      "outputs": [
        {
          "output_type": "stream",
          "text": [
            "Collecting kerassurgeon\n",
            "  Downloading https://files.pythonhosted.org/packages/ef/e7/8adbef95f56e2349bf9faf2aec462dee0a38cec7cd6bfb8895de83706762/kerassurgeon-0.1.3-py3-none-any.whl\n",
            "Requirement already satisfied: keras>=2.0.7 in /usr/local/lib/python3.6/dist-packages (from kerassurgeon) (2.2.5)\n",
            "Requirement already satisfied: keras-applications>=1.0.8 in /usr/local/lib/python3.6/dist-packages (from keras>=2.0.7->kerassurgeon) (1.0.8)\n",
            "Requirement already satisfied: numpy>=1.9.1 in /usr/local/lib/python3.6/dist-packages (from keras>=2.0.7->kerassurgeon) (1.18.2)\n",
            "Requirement already satisfied: scipy>=0.14 in /usr/local/lib/python3.6/dist-packages (from keras>=2.0.7->kerassurgeon) (1.4.1)\n",
            "Requirement already satisfied: keras-preprocessing>=1.1.0 in /usr/local/lib/python3.6/dist-packages (from keras>=2.0.7->kerassurgeon) (1.1.0)\n",
            "Requirement already satisfied: six>=1.9.0 in /usr/local/lib/python3.6/dist-packages (from keras>=2.0.7->kerassurgeon) (1.12.0)\n",
            "Requirement already satisfied: h5py in /usr/local/lib/python3.6/dist-packages (from keras>=2.0.7->kerassurgeon) (2.10.0)\n",
            "Requirement already satisfied: pyyaml in /usr/local/lib/python3.6/dist-packages (from keras>=2.0.7->kerassurgeon) (3.13)\n",
            "Installing collected packages: kerassurgeon\n",
            "Successfully installed kerassurgeon-0.1.3\n"
          ],
          "name": "stdout"
        }
      ]
    },
    {
      "cell_type": "code",
      "metadata": {
        "colab_type": "code",
        "outputId": "3d88fe8b-4d7c-4c16-9294-e641eefb5d1a",
        "id": "K9OBGZECaruM",
        "colab": {
          "base_uri": "https://localhost:8080/",
          "height": 833
        }
      },
      "source": [
        "# (1) Importing dependency\n",
        "%tensorflow_version 1.x\n",
        "import tensorflow as tf\n",
        "\n",
        "import keras\n",
        "from keras.models import Sequential\n",
        "from keras.layers import Dense, Activation, Dropout, Flatten, Conv2D, MaxPooling2D, Input\n",
        "\n",
        "import kerassurgeon\n",
        "from kerassurgeon.operations import delete_layer, insert_layer, delete_channels\n",
        "    \n",
        "# (3) Create a sequential model\n",
        "model = Sequential()\n",
        "    \n",
        "# 1st Convolutional Layer\n",
        "model.add(Conv2D(filters=12, input_shape=(24,24,1), kernel_size=(3,3), activation='relu'))\n",
        " \n",
        "# 2nd Convolutional Layer\n",
        "model.add(Conv2D(filters=24, kernel_size=(3,3), activation='relu'))\n",
        "\n",
        "# 3rd Convolutional Layer\n",
        "model.add(Conv2D(filters=24, kernel_size=(3,3), padding='same', activation='relu'))\n",
        "\n",
        "# Passing it to a dense layer\n",
        "model.add(Flatten())\n",
        "\n",
        "# Dense Layer\n",
        "model.add(Dense(5,activation='relu'))\n",
        "\n",
        "# Dense Layer\n",
        "model.add(Dense(100,activation='relu'))\n",
        "\n",
        "# Dense Layer\n",
        "model.add(Dense(100,activation='relu'))\n",
        "\n",
        "# Output Layer\n",
        "model.add(Dense(3,activation='softmax'))\n",
        "\n",
        "model.summary()\n",
        "\n",
        "# delete 3rd layer .i.e. Conv2D Layer from the model\n",
        "layer_3 = model.layers[2]\n",
        "model = delete_layer(model, layer_3)\n",
        "\n",
        "model.summary()"
      ],
      "execution_count": 0,
      "outputs": [
        {
          "output_type": "stream",
          "text": [
            "Model: \"sequential_7\"\n",
            "_________________________________________________________________\n",
            "Layer (type)                 Output Shape              Param #   \n",
            "=================================================================\n",
            "conv2d_19 (Conv2D)           (None, 22, 22, 12)        120       \n",
            "_________________________________________________________________\n",
            "conv2d_20 (Conv2D)           (None, 20, 20, 24)        2616      \n",
            "_________________________________________________________________\n",
            "conv2d_21 (Conv2D)           (None, 20, 20, 24)        5208      \n",
            "_________________________________________________________________\n",
            "flatten_7 (Flatten)          (None, 9600)              0         \n",
            "_________________________________________________________________\n",
            "dense_25 (Dense)             (None, 5)                 48005     \n",
            "_________________________________________________________________\n",
            "dense_26 (Dense)             (None, 100)               600       \n",
            "_________________________________________________________________\n",
            "dense_27 (Dense)             (None, 100)               10100     \n",
            "_________________________________________________________________\n",
            "dense_28 (Dense)             (None, 3)                 303       \n",
            "=================================================================\n",
            "Total params: 66,952\n",
            "Trainable params: 66,952\n",
            "Non-trainable params: 0\n",
            "_________________________________________________________________\n",
            "Model: \"model_4\"\n",
            "_________________________________________________________________\n",
            "Layer (type)                 Output Shape              Param #   \n",
            "=================================================================\n",
            "conv2d_19_input (InputLayer) (None, 24, 24, 1)         0         \n",
            "_________________________________________________________________\n",
            "conv2d_19 (Conv2D)           (None, 22, 22, 12)        120       \n",
            "_________________________________________________________________\n",
            "conv2d_20 (Conv2D)           (None, 20, 20, 24)        2616      \n",
            "_________________________________________________________________\n",
            "flatten_7 (Flatten)          (None, 9600)              0         \n",
            "_________________________________________________________________\n",
            "dense_25 (Dense)             (None, 5)                 48005     \n",
            "_________________________________________________________________\n",
            "dense_26 (Dense)             (None, 100)               600       \n",
            "_________________________________________________________________\n",
            "dense_27 (Dense)             (None, 100)               10100     \n",
            "_________________________________________________________________\n",
            "dense_28 (Dense)             (None, 3)                 303       \n",
            "=================================================================\n",
            "Total params: 61,744\n",
            "Trainable params: 61,744\n",
            "Non-trainable params: 0\n",
            "_________________________________________________________________\n"
          ],
          "name": "stdout"
        }
      ]
    },
    {
      "cell_type": "code",
      "metadata": {
        "id": "HJidi2xObYul",
        "colab_type": "code",
        "outputId": "ad1db41b-aa86-4bd1-f0c5-8cf2f485e1b1",
        "colab": {
          "base_uri": "https://localhost:8080/",
          "height": 799
        }
      },
      "source": [
        "# (1) Importing dependency\n",
        "%tensorflow_version 1.x\n",
        "import tensorflow as tf\n",
        "\n",
        "import keras\n",
        "from keras.models import Sequential\n",
        "from keras.layers import Dense, Activation, Dropout, Flatten, Conv2D, MaxPooling2D, Input\n",
        "\n",
        "import kerassurgeon\n",
        "from kerassurgeon import Surgeon\n",
        "    \n",
        "# (3) Create a sequential model\n",
        "model = Sequential()\n",
        "    \n",
        "# 1st Convolutional Layer\n",
        "model.add(Conv2D(filters=12, input_shape=(24,24,1), kernel_size=(3,3), activation='relu'))\n",
        " \n",
        "# 2nd Convolutional Layer\n",
        "model.add(Conv2D(filters=24, kernel_size=(3,3), activation='relu'))\n",
        "\n",
        "# 3rd Convolutional Layer\n",
        "model.add(Conv2D(filters=24, kernel_size=(3,3), padding='same', activation='relu'))\n",
        "\n",
        "# Passing it to a dense layer\n",
        "model.add(Flatten())\n",
        "\n",
        "# Dense Layer\n",
        "model.add(Dense(5,activation='relu'))\n",
        "\n",
        "# Dense Layer\n",
        "model.add(Dense(100,activation='relu'))\n",
        "\n",
        "# Dense Layer\n",
        "model.add(Dense(100,activation='relu'))\n",
        "\n",
        "# Output Layer\n",
        "model.add(Dense(3,activation='softmax'))\n",
        "\n",
        "model.summary()\n",
        "\n",
        "# delete 3rd layer .i.e. Conv2D Layer from the model\n",
        "layer_3 = model.layers[2]\n",
        "surgeon = Surgeon(model)\n",
        "surgeon.add_job('delete_layer', layer_3)\n",
        "model = surgeon.operate()\n",
        "\n",
        "model.summary()"
      ],
      "execution_count": 0,
      "outputs": [
        {
          "output_type": "stream",
          "text": [
            "TensorFlow is already loaded. Please restart the runtime to change versions.\n",
            "Model: \"sequential_1\"\n",
            "_________________________________________________________________\n",
            "Layer (type)                 Output Shape              Param #   \n",
            "=================================================================\n",
            "conv2d_1 (Conv2D)            (None, 22, 22, 12)        120       \n",
            "_________________________________________________________________\n",
            "conv2d_2 (Conv2D)            (None, 20, 20, 24)        2616      \n",
            "_________________________________________________________________\n",
            "conv2d_3 (Conv2D)            (None, 20, 20, 24)        5208      \n",
            "_________________________________________________________________\n",
            "flatten_4 (Flatten)          (None, 9600)              0         \n",
            "_________________________________________________________________\n",
            "dense_13 (Dense)             (None, 5)                 48005     \n",
            "_________________________________________________________________\n",
            "dense_14 (Dense)             (None, 100)               600       \n",
            "_________________________________________________________________\n",
            "dense_15 (Dense)             (None, 100)               10100     \n",
            "_________________________________________________________________\n",
            "dense_16 (Dense)             (None, 3)                 303       \n",
            "=================================================================\n",
            "Total params: 66,952\n",
            "Trainable params: 66,952\n",
            "Non-trainable params: 0\n",
            "_________________________________________________________________\n"
          ],
          "name": "stdout"
        },
        {
          "output_type": "error",
          "ename": "ValueError",
          "evalue": "ignored",
          "traceback": [
            "\u001b[0;31m---------------------------------------------------------------------------\u001b[0m",
            "\u001b[0;31mValueError\u001b[0m                                Traceback (most recent call last)",
            "\u001b[0;32m<ipython-input-34-79f9b15a709b>\u001b[0m in \u001b[0;36m<module>\u001b[0;34m()\u001b[0m\n\u001b[1;32m     42\u001b[0m \u001b[0msurgeon\u001b[0m \u001b[0;34m=\u001b[0m \u001b[0mSurgeon\u001b[0m\u001b[0;34m(\u001b[0m\u001b[0mmodel\u001b[0m\u001b[0;34m)\u001b[0m\u001b[0;34m\u001b[0m\u001b[0;34m\u001b[0m\u001b[0m\n\u001b[1;32m     43\u001b[0m \u001b[0msurgeon\u001b[0m\u001b[0;34m.\u001b[0m\u001b[0madd_job\u001b[0m\u001b[0;34m(\u001b[0m\u001b[0;34m'delete_layer'\u001b[0m\u001b[0;34m,\u001b[0m \u001b[0mlayer_3\u001b[0m\u001b[0;34m)\u001b[0m\u001b[0;34m\u001b[0m\u001b[0;34m\u001b[0m\u001b[0m\n\u001b[0;32m---> 44\u001b[0;31m \u001b[0mmodel\u001b[0m \u001b[0;34m=\u001b[0m \u001b[0msurgeon\u001b[0m\u001b[0;34m.\u001b[0m\u001b[0moperate\u001b[0m\u001b[0;34m(\u001b[0m\u001b[0;34m)\u001b[0m\u001b[0;34m\u001b[0m\u001b[0;34m\u001b[0m\u001b[0m\n\u001b[0m\u001b[1;32m     45\u001b[0m \u001b[0;34m\u001b[0m\u001b[0m\n\u001b[1;32m     46\u001b[0m \u001b[0mmodel\u001b[0m\u001b[0;34m.\u001b[0m\u001b[0msummary\u001b[0m\u001b[0;34m(\u001b[0m\u001b[0;34m)\u001b[0m\u001b[0;34m\u001b[0m\u001b[0;34m\u001b[0m\u001b[0m\n",
            "\u001b[0;32m/usr/local/lib/python3.6/dist-packages/kerassurgeon/surgeon.py\u001b[0m in \u001b[0;36moperate\u001b[0;34m(self)\u001b[0m\n\u001b[1;32m    163\u001b[0m             \u001b[0mlayer\u001b[0m\u001b[0;34m,\u001b[0m \u001b[0mnode_index\u001b[0m\u001b[0;34m,\u001b[0m \u001b[0mtensor_index\u001b[0m \u001b[0;34m=\u001b[0m \u001b[0moutput\u001b[0m\u001b[0;34m.\u001b[0m\u001b[0m_keras_history\u001b[0m\u001b[0;34m\u001b[0m\u001b[0;34m\u001b[0m\u001b[0m\n\u001b[1;32m    164\u001b[0m             \u001b[0moutput_nodes\u001b[0m\u001b[0;34m.\u001b[0m\u001b[0mappend\u001b[0m\u001b[0;34m(\u001b[0m\u001b[0mget_inbound_nodes\u001b[0m\u001b[0;34m(\u001b[0m\u001b[0mlayer\u001b[0m\u001b[0;34m)\u001b[0m\u001b[0;34m[\u001b[0m\u001b[0mnode_index\u001b[0m\u001b[0;34m]\u001b[0m\u001b[0;34m)\u001b[0m\u001b[0;34m\u001b[0m\u001b[0;34m\u001b[0m\u001b[0m\n\u001b[0;32m--> 165\u001b[0;31m         \u001b[0mnew_outputs\u001b[0m\u001b[0;34m,\u001b[0m \u001b[0m_\u001b[0m \u001b[0;34m=\u001b[0m \u001b[0mself\u001b[0m\u001b[0;34m.\u001b[0m\u001b[0m_rebuild_graph\u001b[0m\u001b[0;34m(\u001b[0m\u001b[0mself\u001b[0m\u001b[0;34m.\u001b[0m\u001b[0mmodel\u001b[0m\u001b[0;34m.\u001b[0m\u001b[0minputs\u001b[0m\u001b[0;34m,\u001b[0m \u001b[0moutput_nodes\u001b[0m\u001b[0;34m)\u001b[0m\u001b[0;34m\u001b[0m\u001b[0;34m\u001b[0m\u001b[0m\n\u001b[0m\u001b[1;32m    166\u001b[0m         \u001b[0mnew_model\u001b[0m \u001b[0;34m=\u001b[0m \u001b[0mModel\u001b[0m\u001b[0;34m(\u001b[0m\u001b[0mself\u001b[0m\u001b[0;34m.\u001b[0m\u001b[0mmodel\u001b[0m\u001b[0;34m.\u001b[0m\u001b[0minputs\u001b[0m\u001b[0;34m,\u001b[0m \u001b[0mnew_outputs\u001b[0m\u001b[0;34m)\u001b[0m\u001b[0;34m\u001b[0m\u001b[0;34m\u001b[0m\u001b[0m\n\u001b[1;32m    167\u001b[0m \u001b[0;34m\u001b[0m\u001b[0m\n",
            "\u001b[0;32m/usr/local/lib/python3.6/dist-packages/kerassurgeon/surgeon.py\u001b[0m in \u001b[0;36m_rebuild_graph\u001b[0;34m(self, graph_inputs, output_nodes, graph_input_masks)\u001b[0m\n\u001b[1;32m    264\u001b[0m         \u001b[0;31m# Call the recursive _rebuild_rec method to rebuild the submodel up to\u001b[0m\u001b[0;34m\u001b[0m\u001b[0;34m\u001b[0m\u001b[0;34m\u001b[0m\u001b[0m\n\u001b[1;32m    265\u001b[0m         \u001b[0;31m# each output layer\u001b[0m\u001b[0;34m\u001b[0m\u001b[0;34m\u001b[0m\u001b[0;34m\u001b[0m\u001b[0m\n\u001b[0;32m--> 266\u001b[0;31m         \u001b[0moutputs\u001b[0m\u001b[0;34m,\u001b[0m \u001b[0moutput_masks\u001b[0m \u001b[0;34m=\u001b[0m \u001b[0mzip\u001b[0m\u001b[0;34m(\u001b[0m\u001b[0;34m*\u001b[0m\u001b[0;34m[\u001b[0m\u001b[0m_rebuild_rec\u001b[0m\u001b[0;34m(\u001b[0m\u001b[0mn\u001b[0m\u001b[0;34m)\u001b[0m \u001b[0;32mfor\u001b[0m \u001b[0mn\u001b[0m \u001b[0;32min\u001b[0m \u001b[0moutput_nodes\u001b[0m\u001b[0;34m]\u001b[0m\u001b[0;34m)\u001b[0m\u001b[0;34m\u001b[0m\u001b[0;34m\u001b[0m\u001b[0m\n\u001b[0m\u001b[1;32m    267\u001b[0m         \u001b[0;32mreturn\u001b[0m \u001b[0moutputs\u001b[0m\u001b[0;34m,\u001b[0m \u001b[0moutput_masks\u001b[0m\u001b[0;34m\u001b[0m\u001b[0;34m\u001b[0m\u001b[0m\n\u001b[1;32m    268\u001b[0m \u001b[0;34m\u001b[0m\u001b[0m\n",
            "\u001b[0;32m/usr/local/lib/python3.6/dist-packages/kerassurgeon/surgeon.py\u001b[0m in \u001b[0;36m<listcomp>\u001b[0;34m(.0)\u001b[0m\n\u001b[1;32m    264\u001b[0m         \u001b[0;31m# Call the recursive _rebuild_rec method to rebuild the submodel up to\u001b[0m\u001b[0;34m\u001b[0m\u001b[0;34m\u001b[0m\u001b[0;34m\u001b[0m\u001b[0m\n\u001b[1;32m    265\u001b[0m         \u001b[0;31m# each output layer\u001b[0m\u001b[0;34m\u001b[0m\u001b[0;34m\u001b[0m\u001b[0;34m\u001b[0m\u001b[0m\n\u001b[0;32m--> 266\u001b[0;31m         \u001b[0moutputs\u001b[0m\u001b[0;34m,\u001b[0m \u001b[0moutput_masks\u001b[0m \u001b[0;34m=\u001b[0m \u001b[0mzip\u001b[0m\u001b[0;34m(\u001b[0m\u001b[0;34m*\u001b[0m\u001b[0;34m[\u001b[0m\u001b[0m_rebuild_rec\u001b[0m\u001b[0;34m(\u001b[0m\u001b[0mn\u001b[0m\u001b[0;34m)\u001b[0m \u001b[0;32mfor\u001b[0m \u001b[0mn\u001b[0m \u001b[0;32min\u001b[0m \u001b[0moutput_nodes\u001b[0m\u001b[0;34m]\u001b[0m\u001b[0;34m)\u001b[0m\u001b[0;34m\u001b[0m\u001b[0;34m\u001b[0m\u001b[0m\n\u001b[0m\u001b[1;32m    267\u001b[0m         \u001b[0;32mreturn\u001b[0m \u001b[0moutputs\u001b[0m\u001b[0;34m,\u001b[0m \u001b[0moutput_masks\u001b[0m\u001b[0;34m\u001b[0m\u001b[0;34m\u001b[0m\u001b[0m\n\u001b[1;32m    268\u001b[0m \u001b[0;34m\u001b[0m\u001b[0m\n",
            "\u001b[0;32m/usr/local/lib/python3.6/dist-packages/kerassurgeon/surgeon.py\u001b[0m in \u001b[0;36m_rebuild_rec\u001b[0;34m(node)\u001b[0m\n\u001b[1;32m    238\u001b[0m                 \u001b[0;31m# obtain its inputs and input masks\u001b[0m\u001b[0;34m\u001b[0m\u001b[0;34m\u001b[0m\u001b[0;34m\u001b[0m\u001b[0m\n\u001b[1;32m    239\u001b[0m                 inputs, input_masks = zip(\n\u001b[0;32m--> 240\u001b[0;31m                     *[_rebuild_rec(n) for n in inbound_nodes])\n\u001b[0m\u001b[1;32m    241\u001b[0m \u001b[0;34m\u001b[0m\u001b[0m\n\u001b[1;32m    242\u001b[0m                 \u001b[0;32mif\u001b[0m \u001b[0mall\u001b[0m\u001b[0;34m(\u001b[0m\u001b[0mi\u001b[0m \u001b[0;32mis\u001b[0m \u001b[0;32mNone\u001b[0m \u001b[0;32mfor\u001b[0m \u001b[0mi\u001b[0m \u001b[0;32min\u001b[0m \u001b[0minputs\u001b[0m\u001b[0;34m)\u001b[0m\u001b[0;34m:\u001b[0m\u001b[0;34m\u001b[0m\u001b[0;34m\u001b[0m\u001b[0m\n",
            "\u001b[0;32m/usr/local/lib/python3.6/dist-packages/kerassurgeon/surgeon.py\u001b[0m in \u001b[0;36m<listcomp>\u001b[0;34m(.0)\u001b[0m\n\u001b[1;32m    238\u001b[0m                 \u001b[0;31m# obtain its inputs and input masks\u001b[0m\u001b[0;34m\u001b[0m\u001b[0;34m\u001b[0m\u001b[0;34m\u001b[0m\u001b[0m\n\u001b[1;32m    239\u001b[0m                 inputs, input_masks = zip(\n\u001b[0;32m--> 240\u001b[0;31m                     *[_rebuild_rec(n) for n in inbound_nodes])\n\u001b[0m\u001b[1;32m    241\u001b[0m \u001b[0;34m\u001b[0m\u001b[0m\n\u001b[1;32m    242\u001b[0m                 \u001b[0;32mif\u001b[0m \u001b[0mall\u001b[0m\u001b[0;34m(\u001b[0m\u001b[0mi\u001b[0m \u001b[0;32mis\u001b[0m \u001b[0;32mNone\u001b[0m \u001b[0;32mfor\u001b[0m \u001b[0mi\u001b[0m \u001b[0;32min\u001b[0m \u001b[0minputs\u001b[0m\u001b[0;34m)\u001b[0m\u001b[0;34m:\u001b[0m\u001b[0;34m\u001b[0m\u001b[0;34m\u001b[0m\u001b[0m\n",
            "\u001b[0;32m/usr/local/lib/python3.6/dist-packages/kerassurgeon/surgeon.py\u001b[0m in \u001b[0;36m_rebuild_rec\u001b[0;34m(node)\u001b[0m\n\u001b[1;32m    238\u001b[0m                 \u001b[0;31m# obtain its inputs and input masks\u001b[0m\u001b[0;34m\u001b[0m\u001b[0;34m\u001b[0m\u001b[0;34m\u001b[0m\u001b[0m\n\u001b[1;32m    239\u001b[0m                 inputs, input_masks = zip(\n\u001b[0;32m--> 240\u001b[0;31m                     *[_rebuild_rec(n) for n in inbound_nodes])\n\u001b[0m\u001b[1;32m    241\u001b[0m \u001b[0;34m\u001b[0m\u001b[0m\n\u001b[1;32m    242\u001b[0m                 \u001b[0;32mif\u001b[0m \u001b[0mall\u001b[0m\u001b[0;34m(\u001b[0m\u001b[0mi\u001b[0m \u001b[0;32mis\u001b[0m \u001b[0;32mNone\u001b[0m \u001b[0;32mfor\u001b[0m \u001b[0mi\u001b[0m \u001b[0;32min\u001b[0m \u001b[0minputs\u001b[0m\u001b[0;34m)\u001b[0m\u001b[0;34m:\u001b[0m\u001b[0;34m\u001b[0m\u001b[0;34m\u001b[0m\u001b[0m\n",
            "\u001b[0;32m/usr/local/lib/python3.6/dist-packages/kerassurgeon/surgeon.py\u001b[0m in \u001b[0;36m<listcomp>\u001b[0;34m(.0)\u001b[0m\n\u001b[1;32m    238\u001b[0m                 \u001b[0;31m# obtain its inputs and input masks\u001b[0m\u001b[0;34m\u001b[0m\u001b[0;34m\u001b[0m\u001b[0;34m\u001b[0m\u001b[0m\n\u001b[1;32m    239\u001b[0m                 inputs, input_masks = zip(\n\u001b[0;32m--> 240\u001b[0;31m                     *[_rebuild_rec(n) for n in inbound_nodes])\n\u001b[0m\u001b[1;32m    241\u001b[0m \u001b[0;34m\u001b[0m\u001b[0m\n\u001b[1;32m    242\u001b[0m                 \u001b[0;32mif\u001b[0m \u001b[0mall\u001b[0m\u001b[0;34m(\u001b[0m\u001b[0mi\u001b[0m \u001b[0;32mis\u001b[0m \u001b[0;32mNone\u001b[0m \u001b[0;32mfor\u001b[0m \u001b[0mi\u001b[0m \u001b[0;32min\u001b[0m \u001b[0minputs\u001b[0m\u001b[0;34m)\u001b[0m\u001b[0;34m:\u001b[0m\u001b[0;34m\u001b[0m\u001b[0;34m\u001b[0m\u001b[0m\n",
            "\u001b[0;32m/usr/local/lib/python3.6/dist-packages/kerassurgeon/surgeon.py\u001b[0m in \u001b[0;36m_rebuild_rec\u001b[0;34m(node)\u001b[0m\n\u001b[1;32m    238\u001b[0m                 \u001b[0;31m# obtain its inputs and input masks\u001b[0m\u001b[0;34m\u001b[0m\u001b[0;34m\u001b[0m\u001b[0;34m\u001b[0m\u001b[0m\n\u001b[1;32m    239\u001b[0m                 inputs, input_masks = zip(\n\u001b[0;32m--> 240\u001b[0;31m                     *[_rebuild_rec(n) for n in inbound_nodes])\n\u001b[0m\u001b[1;32m    241\u001b[0m \u001b[0;34m\u001b[0m\u001b[0m\n\u001b[1;32m    242\u001b[0m                 \u001b[0;32mif\u001b[0m \u001b[0mall\u001b[0m\u001b[0;34m(\u001b[0m\u001b[0mi\u001b[0m \u001b[0;32mis\u001b[0m \u001b[0;32mNone\u001b[0m \u001b[0;32mfor\u001b[0m \u001b[0mi\u001b[0m \u001b[0;32min\u001b[0m \u001b[0minputs\u001b[0m\u001b[0;34m)\u001b[0m\u001b[0;34m:\u001b[0m\u001b[0;34m\u001b[0m\u001b[0;34m\u001b[0m\u001b[0m\n",
            "\u001b[0;32m/usr/local/lib/python3.6/dist-packages/kerassurgeon/surgeon.py\u001b[0m in \u001b[0;36m<listcomp>\u001b[0;34m(.0)\u001b[0m\n\u001b[1;32m    238\u001b[0m                 \u001b[0;31m# obtain its inputs and input masks\u001b[0m\u001b[0;34m\u001b[0m\u001b[0;34m\u001b[0m\u001b[0;34m\u001b[0m\u001b[0m\n\u001b[1;32m    239\u001b[0m                 inputs, input_masks = zip(\n\u001b[0;32m--> 240\u001b[0;31m                     *[_rebuild_rec(n) for n in inbound_nodes])\n\u001b[0m\u001b[1;32m    241\u001b[0m \u001b[0;34m\u001b[0m\u001b[0m\n\u001b[1;32m    242\u001b[0m                 \u001b[0;32mif\u001b[0m \u001b[0mall\u001b[0m\u001b[0;34m(\u001b[0m\u001b[0mi\u001b[0m \u001b[0;32mis\u001b[0m \u001b[0;32mNone\u001b[0m \u001b[0;32mfor\u001b[0m \u001b[0mi\u001b[0m \u001b[0;32min\u001b[0m \u001b[0minputs\u001b[0m\u001b[0;34m)\u001b[0m\u001b[0;34m:\u001b[0m\u001b[0;34m\u001b[0m\u001b[0;34m\u001b[0m\u001b[0m\n",
            "\u001b[0;32m/usr/local/lib/python3.6/dist-packages/kerassurgeon/surgeon.py\u001b[0m in \u001b[0;36m_rebuild_rec\u001b[0;34m(node)\u001b[0m\n\u001b[1;32m    238\u001b[0m                 \u001b[0;31m# obtain its inputs and input masks\u001b[0m\u001b[0;34m\u001b[0m\u001b[0;34m\u001b[0m\u001b[0;34m\u001b[0m\u001b[0m\n\u001b[1;32m    239\u001b[0m                 inputs, input_masks = zip(\n\u001b[0;32m--> 240\u001b[0;31m                     *[_rebuild_rec(n) for n in inbound_nodes])\n\u001b[0m\u001b[1;32m    241\u001b[0m \u001b[0;34m\u001b[0m\u001b[0m\n\u001b[1;32m    242\u001b[0m                 \u001b[0;32mif\u001b[0m \u001b[0mall\u001b[0m\u001b[0;34m(\u001b[0m\u001b[0mi\u001b[0m \u001b[0;32mis\u001b[0m \u001b[0;32mNone\u001b[0m \u001b[0;32mfor\u001b[0m \u001b[0mi\u001b[0m \u001b[0;32min\u001b[0m \u001b[0minputs\u001b[0m\u001b[0;34m)\u001b[0m\u001b[0;34m:\u001b[0m\u001b[0;34m\u001b[0m\u001b[0;34m\u001b[0m\u001b[0m\n",
            "\u001b[0;32m/usr/local/lib/python3.6/dist-packages/kerassurgeon/surgeon.py\u001b[0m in \u001b[0;36m<listcomp>\u001b[0;34m(.0)\u001b[0m\n\u001b[1;32m    238\u001b[0m                 \u001b[0;31m# obtain its inputs and input masks\u001b[0m\u001b[0;34m\u001b[0m\u001b[0;34m\u001b[0m\u001b[0;34m\u001b[0m\u001b[0m\n\u001b[1;32m    239\u001b[0m                 inputs, input_masks = zip(\n\u001b[0;32m--> 240\u001b[0;31m                     *[_rebuild_rec(n) for n in inbound_nodes])\n\u001b[0m\u001b[1;32m    241\u001b[0m \u001b[0;34m\u001b[0m\u001b[0m\n\u001b[1;32m    242\u001b[0m                 \u001b[0;32mif\u001b[0m \u001b[0mall\u001b[0m\u001b[0;34m(\u001b[0m\u001b[0mi\u001b[0m \u001b[0;32mis\u001b[0m \u001b[0;32mNone\u001b[0m \u001b[0;32mfor\u001b[0m \u001b[0mi\u001b[0m \u001b[0;32min\u001b[0m \u001b[0minputs\u001b[0m\u001b[0;34m)\u001b[0m\u001b[0;34m:\u001b[0m\u001b[0;34m\u001b[0m\u001b[0;34m\u001b[0m\u001b[0m\n",
            "\u001b[0;32m/usr/local/lib/python3.6/dist-packages/kerassurgeon/surgeon.py\u001b[0m in \u001b[0;36m_rebuild_rec\u001b[0;34m(node)\u001b[0m\n\u001b[1;32m    238\u001b[0m                 \u001b[0;31m# obtain its inputs and input masks\u001b[0m\u001b[0;34m\u001b[0m\u001b[0;34m\u001b[0m\u001b[0;34m\u001b[0m\u001b[0m\n\u001b[1;32m    239\u001b[0m                 inputs, input_masks = zip(\n\u001b[0;32m--> 240\u001b[0;31m                     *[_rebuild_rec(n) for n in inbound_nodes])\n\u001b[0m\u001b[1;32m    241\u001b[0m \u001b[0;34m\u001b[0m\u001b[0m\n\u001b[1;32m    242\u001b[0m                 \u001b[0;32mif\u001b[0m \u001b[0mall\u001b[0m\u001b[0;34m(\u001b[0m\u001b[0mi\u001b[0m \u001b[0;32mis\u001b[0m \u001b[0;32mNone\u001b[0m \u001b[0;32mfor\u001b[0m \u001b[0mi\u001b[0m \u001b[0;32min\u001b[0m \u001b[0minputs\u001b[0m\u001b[0;34m)\u001b[0m\u001b[0;34m:\u001b[0m\u001b[0;34m\u001b[0m\u001b[0;34m\u001b[0m\u001b[0m\n",
            "\u001b[0;32m/usr/local/lib/python3.6/dist-packages/kerassurgeon/surgeon.py\u001b[0m in \u001b[0;36m<listcomp>\u001b[0;34m(.0)\u001b[0m\n\u001b[1;32m    238\u001b[0m                 \u001b[0;31m# obtain its inputs and input masks\u001b[0m\u001b[0;34m\u001b[0m\u001b[0;34m\u001b[0m\u001b[0;34m\u001b[0m\u001b[0m\n\u001b[1;32m    239\u001b[0m                 inputs, input_masks = zip(\n\u001b[0;32m--> 240\u001b[0;31m                     *[_rebuild_rec(n) for n in inbound_nodes])\n\u001b[0m\u001b[1;32m    241\u001b[0m \u001b[0;34m\u001b[0m\u001b[0m\n\u001b[1;32m    242\u001b[0m                 \u001b[0;32mif\u001b[0m \u001b[0mall\u001b[0m\u001b[0;34m(\u001b[0m\u001b[0mi\u001b[0m \u001b[0;32mis\u001b[0m \u001b[0;32mNone\u001b[0m \u001b[0;32mfor\u001b[0m \u001b[0mi\u001b[0m \u001b[0;32min\u001b[0m \u001b[0minputs\u001b[0m\u001b[0;34m)\u001b[0m\u001b[0;34m:\u001b[0m\u001b[0;34m\u001b[0m\u001b[0;34m\u001b[0m\u001b[0m\n",
            "\u001b[0;32m/usr/local/lib/python3.6/dist-packages/kerassurgeon/surgeon.py\u001b[0m in \u001b[0;36m_rebuild_rec\u001b[0;34m(node)\u001b[0m\n\u001b[1;32m    238\u001b[0m                 \u001b[0;31m# obtain its inputs and input masks\u001b[0m\u001b[0;34m\u001b[0m\u001b[0;34m\u001b[0m\u001b[0;34m\u001b[0m\u001b[0m\n\u001b[1;32m    239\u001b[0m                 inputs, input_masks = zip(\n\u001b[0;32m--> 240\u001b[0;31m                     *[_rebuild_rec(n) for n in inbound_nodes])\n\u001b[0m\u001b[1;32m    241\u001b[0m \u001b[0;34m\u001b[0m\u001b[0m\n\u001b[1;32m    242\u001b[0m                 \u001b[0;32mif\u001b[0m \u001b[0mall\u001b[0m\u001b[0;34m(\u001b[0m\u001b[0mi\u001b[0m \u001b[0;32mis\u001b[0m \u001b[0;32mNone\u001b[0m \u001b[0;32mfor\u001b[0m \u001b[0mi\u001b[0m \u001b[0;32min\u001b[0m \u001b[0minputs\u001b[0m\u001b[0;34m)\u001b[0m\u001b[0;34m:\u001b[0m\u001b[0;34m\u001b[0m\u001b[0;34m\u001b[0m\u001b[0m\n",
            "\u001b[0;32m/usr/local/lib/python3.6/dist-packages/kerassurgeon/surgeon.py\u001b[0m in \u001b[0;36m<listcomp>\u001b[0;34m(.0)\u001b[0m\n\u001b[1;32m    238\u001b[0m                 \u001b[0;31m# obtain its inputs and input masks\u001b[0m\u001b[0;34m\u001b[0m\u001b[0;34m\u001b[0m\u001b[0;34m\u001b[0m\u001b[0m\n\u001b[1;32m    239\u001b[0m                 inputs, input_masks = zip(\n\u001b[0;32m--> 240\u001b[0;31m                     *[_rebuild_rec(n) for n in inbound_nodes])\n\u001b[0m\u001b[1;32m    241\u001b[0m \u001b[0;34m\u001b[0m\u001b[0m\n\u001b[1;32m    242\u001b[0m                 \u001b[0;32mif\u001b[0m \u001b[0mall\u001b[0m\u001b[0;34m(\u001b[0m\u001b[0mi\u001b[0m \u001b[0;32mis\u001b[0m \u001b[0;32mNone\u001b[0m \u001b[0;32mfor\u001b[0m \u001b[0mi\u001b[0m \u001b[0;32min\u001b[0m \u001b[0minputs\u001b[0m\u001b[0;34m)\u001b[0m\u001b[0;34m:\u001b[0m\u001b[0;34m\u001b[0m\u001b[0;34m\u001b[0m\u001b[0m\n",
            "\u001b[0;32m/usr/local/lib/python3.6/dist-packages/kerassurgeon/surgeon.py\u001b[0m in \u001b[0;36m_rebuild_rec\u001b[0;34m(node)\u001b[0m\n\u001b[1;32m    255\u001b[0m                 \u001b[0;32melse\u001b[0m\u001b[0;34m:\u001b[0m\u001b[0;34m\u001b[0m\u001b[0;34m\u001b[0m\u001b[0m\n\u001b[1;32m    256\u001b[0m                     \u001b[0mnew_layer\u001b[0m\u001b[0;34m,\u001b[0m \u001b[0moutput_mask\u001b[0m \u001b[0;34m=\u001b[0m \u001b[0mself\u001b[0m\u001b[0;34m.\u001b[0m\u001b[0m_apply_delete_mask\u001b[0m\u001b[0;34m(\u001b[0m\u001b[0mnode\u001b[0m\u001b[0;34m,\u001b[0m \u001b[0minput_masks\u001b[0m\u001b[0;34m)\u001b[0m\u001b[0;34m\u001b[0m\u001b[0;34m\u001b[0m\u001b[0m\n\u001b[0;32m--> 257\u001b[0;31m                     \u001b[0moutput\u001b[0m \u001b[0;34m=\u001b[0m \u001b[0mnew_layer\u001b[0m\u001b[0;34m(\u001b[0m\u001b[0mutils\u001b[0m\u001b[0;34m.\u001b[0m\u001b[0msingle_element\u001b[0m\u001b[0;34m(\u001b[0m\u001b[0mlist\u001b[0m\u001b[0;34m(\u001b[0m\u001b[0minputs\u001b[0m\u001b[0;34m)\u001b[0m\u001b[0;34m)\u001b[0m\u001b[0;34m)\u001b[0m\u001b[0;34m\u001b[0m\u001b[0;34m\u001b[0m\u001b[0m\n\u001b[0m\u001b[1;32m    258\u001b[0m \u001b[0;34m\u001b[0m\u001b[0m\n\u001b[1;32m    259\u001b[0m                 \u001b[0;31m# Record that this node has been rebuild\u001b[0m\u001b[0;34m\u001b[0m\u001b[0;34m\u001b[0m\u001b[0;34m\u001b[0m\u001b[0m\n",
            "\u001b[0;32m/usr/local/lib/python3.6/dist-packages/keras/engine/base_layer.py\u001b[0m in \u001b[0;36m__call__\u001b[0;34m(self, inputs, **kwargs)\u001b[0m\n\u001b[1;32m    432\u001b[0m             \u001b[0;31m# Raise exceptions in case the input is not compatible\u001b[0m\u001b[0;34m\u001b[0m\u001b[0;34m\u001b[0m\u001b[0;34m\u001b[0m\u001b[0m\n\u001b[1;32m    433\u001b[0m             \u001b[0;31m# with the input_spec set at build time.\u001b[0m\u001b[0;34m\u001b[0m\u001b[0;34m\u001b[0m\u001b[0;34m\u001b[0m\u001b[0m\n\u001b[0;32m--> 434\u001b[0;31m             \u001b[0mself\u001b[0m\u001b[0;34m.\u001b[0m\u001b[0massert_input_compatibility\u001b[0m\u001b[0;34m(\u001b[0m\u001b[0minputs\u001b[0m\u001b[0;34m)\u001b[0m\u001b[0;34m\u001b[0m\u001b[0;34m\u001b[0m\u001b[0m\n\u001b[0m\u001b[1;32m    435\u001b[0m \u001b[0;34m\u001b[0m\u001b[0m\n\u001b[1;32m    436\u001b[0m             \u001b[0;31m# Handle mask propagation.\u001b[0m\u001b[0;34m\u001b[0m\u001b[0;34m\u001b[0m\u001b[0;34m\u001b[0m\u001b[0m\n",
            "\u001b[0;32m/usr/local/lib/python3.6/dist-packages/keras/engine/base_layer.py\u001b[0m in \u001b[0;36massert_input_compatibility\u001b[0;34m(self, inputs)\u001b[0m\n\u001b[1;32m    344\u001b[0m                                 \u001b[0mstr\u001b[0m\u001b[0;34m(\u001b[0m\u001b[0maxis\u001b[0m\u001b[0;34m)\u001b[0m \u001b[0;34m+\u001b[0m \u001b[0;34m' of input shape to have '\u001b[0m\u001b[0;34m\u001b[0m\u001b[0;34m\u001b[0m\u001b[0m\n\u001b[1;32m    345\u001b[0m                                 \u001b[0;34m'value '\u001b[0m \u001b[0;34m+\u001b[0m \u001b[0mstr\u001b[0m\u001b[0;34m(\u001b[0m\u001b[0mvalue\u001b[0m\u001b[0;34m)\u001b[0m \u001b[0;34m+\u001b[0m\u001b[0;34m\u001b[0m\u001b[0;34m\u001b[0m\u001b[0m\n\u001b[0;32m--> 346\u001b[0;31m                                 ' but got shape ' + str(x_shape))\n\u001b[0m\u001b[1;32m    347\u001b[0m             \u001b[0;31m# Check shape.\u001b[0m\u001b[0;34m\u001b[0m\u001b[0;34m\u001b[0m\u001b[0;34m\u001b[0m\u001b[0m\n\u001b[1;32m    348\u001b[0m             \u001b[0;32mif\u001b[0m \u001b[0mspec\u001b[0m\u001b[0;34m.\u001b[0m\u001b[0mshape\u001b[0m \u001b[0;32mis\u001b[0m \u001b[0;32mnot\u001b[0m \u001b[0;32mNone\u001b[0m\u001b[0;34m:\u001b[0m\u001b[0;34m\u001b[0m\u001b[0;34m\u001b[0m\u001b[0m\n",
            "\u001b[0;31mValueError\u001b[0m: Input 0 is incompatible with layer conv2d_2: expected axis -1 of input shape to have value 12 but got shape (None, 24, 24, 1)"
          ]
        }
      ]
    },
    {
      "cell_type": "code",
      "metadata": {
        "colab_type": "code",
        "outputId": "c9f5b5a2-e93f-483d-c421-12e7b94213b6",
        "id": "GHOS2dQEvPkn",
        "colab": {
          "base_uri": "https://localhost:8080/",
          "height": 1000
        }
      },
      "source": [
        "# (1) Importing dependency\n",
        "import tensorflow as tf\n",
        "import keras\n",
        "from keras import backend as K\n",
        "from keras.models import Sequential\n",
        "from keras.layers import Dense, Activation, Dropout, Flatten, Conv2D, MaxPooling2D\n",
        "from keras.layers.normalization import BatchNormalization\n",
        "import numpy as np\n",
        "    \n",
        "# (3) Create a sequential model\n",
        "model = Sequential()\n",
        "    \n",
        "# 1st Convolutional Layer\n",
        "model.add(Conv2D(filters=96, input_shape=(224,224,3), kernel_size=(11,11), strides=(4,4), padding='valid'))\n",
        "model.add(Activation('relu'))\n",
        "# Pooling \n",
        "model.add(MaxPooling2D(pool_size=(2,2), strides=(2,2), padding='valid'))\n",
        "# Batch Normalisation before passing it to the next layer\n",
        "model.add(BatchNormalization())\n",
        "    \n",
        "# 2nd Convolutional Layer\n",
        "model.add(Conv2D(filters=256, kernel_size=(11,11), strides=(1,1), padding='valid'))\n",
        "model.add(Activation('relu'))\n",
        "# Pooling\n",
        "model.add(MaxPooling2D(pool_size=(2,2), strides=(2,2), padding='valid'))\n",
        "# Batch Normalisation\n",
        "model.add(BatchNormalization())\n",
        "    \n",
        "# 3rd Convolutional Layer\n",
        "model.add(Conv2D(filters=384, kernel_size=(3,3), strides=(1,1), padding='valid'))\n",
        "model.add(Activation('relu'))\n",
        "# Batch Normalisation\n",
        "model.add(BatchNormalization())\n",
        "    \n",
        "# 4th Convolutional Layer\n",
        "model.add(Conv2D(filters=384, kernel_size=(3,3), strides=(1,1), padding='valid'))\n",
        "model.add(Activation('relu'))\n",
        "# Batch Normalisation\n",
        "model.add(BatchNormalization())\n",
        "    \n",
        "# 5th Convolutional Layer\n",
        "model.add(Conv2D(filters=256, kernel_size=(3,3), strides=(1,1), padding='valid'))\n",
        "model.add(Activation('relu'))\n",
        "# Pooling\n",
        "model.add(MaxPooling2D(pool_size=(2,2), strides=(2,2), padding='valid'))\n",
        "# Batch Normalisation\n",
        "model.add(BatchNormalization())\n",
        "    \n",
        "# Passing it to a dense layer\n",
        "model.add(Flatten())\n",
        "# 1st Dense Layer\n",
        "model.add(Dense(4096, input_shape=(224*224*3,)))\n",
        "model.add(Activation('relu'))\n",
        "# Add Dropout to prevent overfitting\n",
        "model.add(Dropout(0.4))\n",
        "# Batch Normalisation\n",
        "model.add(BatchNormalization())\n",
        "\n",
        "# 2nd Dense Layer\n",
        "model.add(Dense(4096))\n",
        "model.add(Activation('relu'))\n",
        "# Add Dropout\n",
        "model.add(Dropout(0.4))\n",
        "# Batch Normalisation\n",
        "model.add(BatchNormalization())\n",
        "\n",
        "# 3rd Dense Layer\n",
        "model.add(Dense(1000))\n",
        "model.add(Activation('relu'))\n",
        "# Add Dropout\n",
        "model.add(Dropout(0.4))\n",
        "# Batch Normalisation\n",
        "model.add(BatchNormalization())\n",
        "\n",
        "# Output Layer\n",
        "model.add(Dense(17))\n",
        "model.add(Activation('softmax'))\n",
        "\n",
        "model.summary()\n",
        "\n",
        "model1 = model.layers.pop(0)\n",
        "\n",
        "model1.summary()"
      ],
      "execution_count": 0,
      "outputs": [
        {
          "output_type": "stream",
          "text": [
            "Model: \"sequential_17\"\n",
            "_________________________________________________________________\n",
            "Layer (type)                 Output Shape              Param #   \n",
            "=================================================================\n",
            "conv2d_61 (Conv2D)           (None, 54, 54, 96)        34944     \n",
            "_________________________________________________________________\n",
            "activation_55 (Activation)   (None, 54, 54, 96)        0         \n",
            "_________________________________________________________________\n",
            "max_pooling2d_19 (MaxPooling (None, 27, 27, 96)        0         \n",
            "_________________________________________________________________\n",
            "batch_normalization_49 (Batc (None, 27, 27, 96)        384       \n",
            "_________________________________________________________________\n",
            "conv2d_62 (Conv2D)           (None, 17, 17, 256)       2973952   \n",
            "_________________________________________________________________\n",
            "activation_56 (Activation)   (None, 17, 17, 256)       0         \n",
            "_________________________________________________________________\n",
            "max_pooling2d_20 (MaxPooling (None, 8, 8, 256)         0         \n",
            "_________________________________________________________________\n",
            "batch_normalization_50 (Batc (None, 8, 8, 256)         1024      \n",
            "_________________________________________________________________\n",
            "conv2d_63 (Conv2D)           (None, 6, 6, 384)         885120    \n",
            "_________________________________________________________________\n",
            "activation_57 (Activation)   (None, 6, 6, 384)         0         \n",
            "_________________________________________________________________\n",
            "batch_normalization_51 (Batc (None, 6, 6, 384)         1536      \n",
            "_________________________________________________________________\n",
            "conv2d_64 (Conv2D)           (None, 4, 4, 384)         1327488   \n",
            "_________________________________________________________________\n",
            "activation_58 (Activation)   (None, 4, 4, 384)         0         \n",
            "_________________________________________________________________\n",
            "batch_normalization_52 (Batc (None, 4, 4, 384)         1536      \n",
            "_________________________________________________________________\n",
            "conv2d_65 (Conv2D)           (None, 2, 2, 256)         884992    \n",
            "_________________________________________________________________\n",
            "activation_59 (Activation)   (None, 2, 2, 256)         0         \n",
            "_________________________________________________________________\n",
            "max_pooling2d_21 (MaxPooling (None, 1, 1, 256)         0         \n",
            "_________________________________________________________________\n",
            "batch_normalization_53 (Batc (None, 1, 1, 256)         1024      \n",
            "_________________________________________________________________\n",
            "flatten_17 (Flatten)         (None, 256)               0         \n",
            "_________________________________________________________________\n",
            "dense_65 (Dense)             (None, 4096)              1052672   \n",
            "_________________________________________________________________\n",
            "activation_60 (Activation)   (None, 4096)              0         \n",
            "_________________________________________________________________\n",
            "dropout_19 (Dropout)         (None, 4096)              0         \n",
            "_________________________________________________________________\n",
            "batch_normalization_54 (Batc (None, 4096)              16384     \n",
            "_________________________________________________________________\n",
            "dense_66 (Dense)             (None, 4096)              16781312  \n",
            "_________________________________________________________________\n",
            "activation_61 (Activation)   (None, 4096)              0         \n",
            "_________________________________________________________________\n",
            "dropout_20 (Dropout)         (None, 4096)              0         \n",
            "_________________________________________________________________\n",
            "batch_normalization_55 (Batc (None, 4096)              16384     \n",
            "_________________________________________________________________\n",
            "dense_67 (Dense)             (None, 1000)              4097000   \n",
            "_________________________________________________________________\n",
            "activation_62 (Activation)   (None, 1000)              0         \n",
            "_________________________________________________________________\n",
            "dropout_21 (Dropout)         (None, 1000)              0         \n",
            "_________________________________________________________________\n",
            "batch_normalization_56 (Batc (None, 1000)              4000      \n",
            "_________________________________________________________________\n",
            "dense_68 (Dense)             (None, 17)                17017     \n",
            "_________________________________________________________________\n",
            "activation_63 (Activation)   (None, 17)                0         \n",
            "=================================================================\n",
            "Total params: 28,096,769\n",
            "Trainable params: 28,075,633\n",
            "Non-trainable params: 21,136\n",
            "_________________________________________________________________\n"
          ],
          "name": "stdout"
        },
        {
          "output_type": "error",
          "ename": "AttributeError",
          "evalue": "ignored",
          "traceback": [
            "\u001b[0;31m---------------------------------------------------------------------------\u001b[0m",
            "\u001b[0;31mAttributeError\u001b[0m                            Traceback (most recent call last)",
            "\u001b[0;32m<ipython-input-18-d9f744fc3690>\u001b[0m in \u001b[0;36m<module>\u001b[0;34m()\u001b[0m\n\u001b[1;32m     80\u001b[0m \u001b[0mmodel1\u001b[0m \u001b[0;34m=\u001b[0m \u001b[0mmodel\u001b[0m\u001b[0;34m.\u001b[0m\u001b[0mlayers\u001b[0m\u001b[0;34m.\u001b[0m\u001b[0mpop\u001b[0m\u001b[0;34m(\u001b[0m\u001b[0;36m0\u001b[0m\u001b[0;34m)\u001b[0m\u001b[0;34m\u001b[0m\u001b[0;34m\u001b[0m\u001b[0m\n\u001b[1;32m     81\u001b[0m \u001b[0;34m\u001b[0m\u001b[0m\n\u001b[0;32m---> 82\u001b[0;31m \u001b[0mmodel1\u001b[0m\u001b[0;34m.\u001b[0m\u001b[0msummary\u001b[0m\u001b[0;34m(\u001b[0m\u001b[0;34m)\u001b[0m\u001b[0;34m\u001b[0m\u001b[0;34m\u001b[0m\u001b[0m\n\u001b[0m",
            "\u001b[0;31mAttributeError\u001b[0m: 'Conv2D' object has no attribute 'summary'"
          ]
        }
      ]
    },
    {
      "cell_type": "markdown",
      "metadata": {
        "id": "z_5aAAf82LIE",
        "colab_type": "text"
      },
      "source": [
        "## To remove the last layer"
      ]
    },
    {
      "cell_type": "code",
      "metadata": {
        "colab_type": "code",
        "outputId": "aabcfd59-f6e6-4940-9749-cf6667dccbf5",
        "id": "JU19GZBdx4eq",
        "colab": {
          "base_uri": "https://localhost:8080/",
          "height": 833
        }
      },
      "source": [
        "# (1) Importing dependency\n",
        "%tensorflow_version 1.x\n",
        "import tensorflow as tf\n",
        "\n",
        "import keras\n",
        "from keras.models import Sequential\n",
        "from keras.layers import Dense, Activation, Dropout, Flatten, Conv2D, MaxPooling2D, Input\n",
        "\n",
        "import kerassurgeon\n",
        "from kerassurgeon import Surgeon\n",
        "    \n",
        "# (3) Create a sequential model\n",
        "model = Sequential()\n",
        "    \n",
        "# 1st Convolutional Layer\n",
        "model.add(Conv2D(filters=12, input_shape=(24,24,1), kernel_size=(3,3), activation='relu'))\n",
        " \n",
        "# 2nd Convolutional Layer\n",
        "model.add(Conv2D(filters=24, kernel_size=(3,3), activation='relu'))\n",
        "\n",
        "# 3rd Convolutional Layer\n",
        "model.add(Conv2D(filters=24, kernel_size=(3,3), padding='same', activation='relu'))\n",
        "\n",
        "# Passing it to a dense layer\n",
        "model.add(Flatten())\n",
        "\n",
        "# Dense Layer\n",
        "model.add(Dense(5,activation='relu'))\n",
        "\n",
        "# Dense Layer\n",
        "model.add(Dense(100,activation='relu'))\n",
        "\n",
        "# Dense Layer\n",
        "model.add(Dense(100,activation='relu'))\n",
        "\n",
        "# Output Layer\n",
        "model.add(Dense(3,activation='softmax'))\n",
        "\n",
        "model.summary()\n",
        "\n",
        "from keras.models import Model\n",
        "\n",
        "model._layers.pop()\n",
        "\n",
        "new_model = Model(model.input,model.layers[-1].output)\n",
        "\n",
        "new_model.summary()"
      ],
      "execution_count": 0,
      "outputs": [
        {
          "output_type": "stream",
          "text": [
            "Model: \"sequential_43\"\n",
            "_________________________________________________________________\n",
            "Layer (type)                 Output Shape              Param #   \n",
            "=================================================================\n",
            "conv2d_138 (Conv2D)          (None, 22, 22, 12)        120       \n",
            "_________________________________________________________________\n",
            "conv2d_139 (Conv2D)          (None, 20, 20, 24)        2616      \n",
            "_________________________________________________________________\n",
            "conv2d_140 (Conv2D)          (None, 20, 20, 24)        5208      \n",
            "_________________________________________________________________\n",
            "flatten_42 (Flatten)         (None, 9600)              0         \n",
            "_________________________________________________________________\n",
            "dense_165 (Dense)            (None, 5)                 48005     \n",
            "_________________________________________________________________\n",
            "dense_166 (Dense)            (None, 100)               600       \n",
            "_________________________________________________________________\n",
            "dense_167 (Dense)            (None, 100)               10100     \n",
            "_________________________________________________________________\n",
            "dense_168 (Dense)            (None, 3)                 303       \n",
            "=================================================================\n",
            "Total params: 66,952\n",
            "Trainable params: 66,952\n",
            "Non-trainable params: 0\n",
            "_________________________________________________________________\n",
            "Model: \"model_24\"\n",
            "_________________________________________________________________\n",
            "Layer (type)                 Output Shape              Param #   \n",
            "=================================================================\n",
            "conv2d_138_input (InputLayer (None, 24, 24, 1)         0         \n",
            "_________________________________________________________________\n",
            "conv2d_138 (Conv2D)          (None, 22, 22, 12)        120       \n",
            "_________________________________________________________________\n",
            "conv2d_139 (Conv2D)          (None, 20, 20, 24)        2616      \n",
            "_________________________________________________________________\n",
            "conv2d_140 (Conv2D)          (None, 20, 20, 24)        5208      \n",
            "_________________________________________________________________\n",
            "flatten_42 (Flatten)         (None, 9600)              0         \n",
            "_________________________________________________________________\n",
            "dense_165 (Dense)            (None, 5)                 48005     \n",
            "_________________________________________________________________\n",
            "dense_166 (Dense)            (None, 100)               600       \n",
            "_________________________________________________________________\n",
            "dense_167 (Dense)            (None, 100)               10100     \n",
            "=================================================================\n",
            "Total params: 66,649\n",
            "Trainable params: 66,649\n",
            "Non-trainable params: 0\n",
            "_________________________________________________________________\n"
          ],
          "name": "stdout"
        }
      ]
    },
    {
      "cell_type": "markdown",
      "metadata": {
        "id": "Iah4GD0dbRBW",
        "colab_type": "text"
      },
      "source": [
        "# Multiple image input for keras application\n",
        "https://stackoverflow.com/questions/60582442/multiple-image-input-for-keras-application/60968842#60968842"
      ]
    },
    {
      "cell_type": "code",
      "metadata": {
        "id": "iN-AY-jDdpLV",
        "colab_type": "code",
        "outputId": "9ab40775-483d-48cb-d651-e1d7b890a4eb",
        "colab": {
          "base_uri": "https://localhost:8080/",
          "height": 1000
        }
      },
      "source": [
        "import tensorflow\n",
        "from tensorflow.python.keras import layers, models, applications\n",
        "\n",
        "# Multiple inputs\n",
        "in1 = layers.Input(shape=(128,128,3))\n",
        "in2 = layers.Input(shape=(128,128,3))\n",
        "in3 = layers.Input(shape=(128,128,3))\n",
        "\n",
        "# CNN output\n",
        "cnn = applications.xception.Xception(include_top=False)\n",
        "cnn.summary()\n",
        "\n",
        "out1 = cnn(in1)\n",
        "out2 = cnn(in2)\n",
        "out3 = cnn(in3)\n",
        "\n",
        "# Flattening the output for the dense layer\n",
        "fout1 = layers.Flatten()(out1)\n",
        "fout2 = layers.Flatten()(out2)\n",
        "fout3 = layers.Flatten()(out3)\n",
        "\n",
        "# Getting the dense output\n",
        "dense = layers.Dense(100, activation='softmax')\n",
        "\n",
        "dout1 = dense(fout1)\n",
        "dout2 = dense(fout2)\n",
        "dout3 = dense(fout3)\n",
        "\n",
        "# Concatenating the final output\n",
        "out = layers.Concatenate(axis=-1)([dout1, dout2, dout3])\n",
        "\n",
        "# Creating the model\n",
        "model = models.Model(inputs=[in1,in2,in3], outputs=out)\n",
        "model.summary()"
      ],
      "execution_count": 0,
      "outputs": [
        {
          "output_type": "stream",
          "text": [
            "WARNING:tensorflow:From /tensorflow-1.15.2/python3.6/tensorflow_core/python/ops/resource_variable_ops.py:1630: calling BaseResourceVariable.__init__ (from tensorflow.python.ops.resource_variable_ops) with constraint is deprecated and will be removed in a future version.\n",
            "Instructions for updating:\n",
            "If using Keras pass *_constraint arguments to layers.\n",
            "Model: \"xception\"\n",
            "__________________________________________________________________________________________________\n",
            "Layer (type)                    Output Shape         Param #     Connected to                     \n",
            "==================================================================================================\n",
            "input_4 (InputLayer)            [(None, None, None,  0                                            \n",
            "__________________________________________________________________________________________________\n",
            "block1_conv1 (Conv2D)           (None, None, None, 3 864         input_4[0][0]                    \n",
            "__________________________________________________________________________________________________\n",
            "block1_conv1_bn (BatchNormaliza (None, None, None, 3 128         block1_conv1[0][0]               \n",
            "__________________________________________________________________________________________________\n",
            "block1_conv1_act (Activation)   (None, None, None, 3 0           block1_conv1_bn[0][0]            \n",
            "__________________________________________________________________________________________________\n",
            "block1_conv2 (Conv2D)           (None, None, None, 6 18432       block1_conv1_act[0][0]           \n",
            "__________________________________________________________________________________________________\n",
            "block1_conv2_bn (BatchNormaliza (None, None, None, 6 256         block1_conv2[0][0]               \n",
            "__________________________________________________________________________________________________\n",
            "block1_conv2_act (Activation)   (None, None, None, 6 0           block1_conv2_bn[0][0]            \n",
            "__________________________________________________________________________________________________\n",
            "block2_sepconv1 (SeparableConv2 (None, None, None, 1 8768        block1_conv2_act[0][0]           \n",
            "__________________________________________________________________________________________________\n",
            "block2_sepconv1_bn (BatchNormal (None, None, None, 1 512         block2_sepconv1[0][0]            \n",
            "__________________________________________________________________________________________________\n",
            "block2_sepconv2_act (Activation (None, None, None, 1 0           block2_sepconv1_bn[0][0]         \n",
            "__________________________________________________________________________________________________\n",
            "block2_sepconv2 (SeparableConv2 (None, None, None, 1 17536       block2_sepconv2_act[0][0]        \n",
            "__________________________________________________________________________________________________\n",
            "block2_sepconv2_bn (BatchNormal (None, None, None, 1 512         block2_sepconv2[0][0]            \n",
            "__________________________________________________________________________________________________\n",
            "conv2d (Conv2D)                 (None, None, None, 1 8192        block1_conv2_act[0][0]           \n",
            "__________________________________________________________________________________________________\n",
            "block2_pool (MaxPooling2D)      (None, None, None, 1 0           block2_sepconv2_bn[0][0]         \n",
            "__________________________________________________________________________________________________\n",
            "batch_normalization (BatchNorma (None, None, None, 1 512         conv2d[0][0]                     \n",
            "__________________________________________________________________________________________________\n",
            "add (Add)                       (None, None, None, 1 0           block2_pool[0][0]                \n",
            "                                                                 batch_normalization[0][0]        \n",
            "__________________________________________________________________________________________________\n",
            "block3_sepconv1_act (Activation (None, None, None, 1 0           add[0][0]                        \n",
            "__________________________________________________________________________________________________\n",
            "block3_sepconv1 (SeparableConv2 (None, None, None, 2 33920       block3_sepconv1_act[0][0]        \n",
            "__________________________________________________________________________________________________\n",
            "block3_sepconv1_bn (BatchNormal (None, None, None, 2 1024        block3_sepconv1[0][0]            \n",
            "__________________________________________________________________________________________________\n",
            "block3_sepconv2_act (Activation (None, None, None, 2 0           block3_sepconv1_bn[0][0]         \n",
            "__________________________________________________________________________________________________\n",
            "block3_sepconv2 (SeparableConv2 (None, None, None, 2 67840       block3_sepconv2_act[0][0]        \n",
            "__________________________________________________________________________________________________\n",
            "block3_sepconv2_bn (BatchNormal (None, None, None, 2 1024        block3_sepconv2[0][0]            \n",
            "__________________________________________________________________________________________________\n",
            "conv2d_1 (Conv2D)               (None, None, None, 2 32768       add[0][0]                        \n",
            "__________________________________________________________________________________________________\n",
            "block3_pool (MaxPooling2D)      (None, None, None, 2 0           block3_sepconv2_bn[0][0]         \n",
            "__________________________________________________________________________________________________\n",
            "batch_normalization_1 (BatchNor (None, None, None, 2 1024        conv2d_1[0][0]                   \n",
            "__________________________________________________________________________________________________\n",
            "add_1 (Add)                     (None, None, None, 2 0           block3_pool[0][0]                \n",
            "                                                                 batch_normalization_1[0][0]      \n",
            "__________________________________________________________________________________________________\n",
            "block4_sepconv1_act (Activation (None, None, None, 2 0           add_1[0][0]                      \n",
            "__________________________________________________________________________________________________\n",
            "block4_sepconv1 (SeparableConv2 (None, None, None, 7 188672      block4_sepconv1_act[0][0]        \n",
            "__________________________________________________________________________________________________\n",
            "block4_sepconv1_bn (BatchNormal (None, None, None, 7 2912        block4_sepconv1[0][0]            \n",
            "__________________________________________________________________________________________________\n",
            "block4_sepconv2_act (Activation (None, None, None, 7 0           block4_sepconv1_bn[0][0]         \n",
            "__________________________________________________________________________________________________\n",
            "block4_sepconv2 (SeparableConv2 (None, None, None, 7 536536      block4_sepconv2_act[0][0]        \n",
            "__________________________________________________________________________________________________\n",
            "block4_sepconv2_bn (BatchNormal (None, None, None, 7 2912        block4_sepconv2[0][0]            \n",
            "__________________________________________________________________________________________________\n",
            "conv2d_2 (Conv2D)               (None, None, None, 7 186368      add_1[0][0]                      \n",
            "__________________________________________________________________________________________________\n",
            "block4_pool (MaxPooling2D)      (None, None, None, 7 0           block4_sepconv2_bn[0][0]         \n",
            "__________________________________________________________________________________________________\n",
            "batch_normalization_2 (BatchNor (None, None, None, 7 2912        conv2d_2[0][0]                   \n",
            "__________________________________________________________________________________________________\n",
            "add_2 (Add)                     (None, None, None, 7 0           block4_pool[0][0]                \n",
            "                                                                 batch_normalization_2[0][0]      \n",
            "__________________________________________________________________________________________________\n",
            "block5_sepconv1_act (Activation (None, None, None, 7 0           add_2[0][0]                      \n",
            "__________________________________________________________________________________________________\n",
            "block5_sepconv1 (SeparableConv2 (None, None, None, 7 536536      block5_sepconv1_act[0][0]        \n",
            "__________________________________________________________________________________________________\n",
            "block5_sepconv1_bn (BatchNormal (None, None, None, 7 2912        block5_sepconv1[0][0]            \n",
            "__________________________________________________________________________________________________\n",
            "block5_sepconv2_act (Activation (None, None, None, 7 0           block5_sepconv1_bn[0][0]         \n",
            "__________________________________________________________________________________________________\n",
            "block5_sepconv2 (SeparableConv2 (None, None, None, 7 536536      block5_sepconv2_act[0][0]        \n",
            "__________________________________________________________________________________________________\n",
            "block5_sepconv2_bn (BatchNormal (None, None, None, 7 2912        block5_sepconv2[0][0]            \n",
            "__________________________________________________________________________________________________\n",
            "block5_sepconv3_act (Activation (None, None, None, 7 0           block5_sepconv2_bn[0][0]         \n",
            "__________________________________________________________________________________________________\n",
            "block5_sepconv3 (SeparableConv2 (None, None, None, 7 536536      block5_sepconv3_act[0][0]        \n",
            "__________________________________________________________________________________________________\n",
            "block5_sepconv3_bn (BatchNormal (None, None, None, 7 2912        block5_sepconv3[0][0]            \n",
            "__________________________________________________________________________________________________\n",
            "add_3 (Add)                     (None, None, None, 7 0           block5_sepconv3_bn[0][0]         \n",
            "                                                                 add_2[0][0]                      \n",
            "__________________________________________________________________________________________________\n",
            "block6_sepconv1_act (Activation (None, None, None, 7 0           add_3[0][0]                      \n",
            "__________________________________________________________________________________________________\n",
            "block6_sepconv1 (SeparableConv2 (None, None, None, 7 536536      block6_sepconv1_act[0][0]        \n",
            "__________________________________________________________________________________________________\n",
            "block6_sepconv1_bn (BatchNormal (None, None, None, 7 2912        block6_sepconv1[0][0]            \n",
            "__________________________________________________________________________________________________\n",
            "block6_sepconv2_act (Activation (None, None, None, 7 0           block6_sepconv1_bn[0][0]         \n",
            "__________________________________________________________________________________________________\n",
            "block6_sepconv2 (SeparableConv2 (None, None, None, 7 536536      block6_sepconv2_act[0][0]        \n",
            "__________________________________________________________________________________________________\n",
            "block6_sepconv2_bn (BatchNormal (None, None, None, 7 2912        block6_sepconv2[0][0]            \n",
            "__________________________________________________________________________________________________\n",
            "block6_sepconv3_act (Activation (None, None, None, 7 0           block6_sepconv2_bn[0][0]         \n",
            "__________________________________________________________________________________________________\n",
            "block6_sepconv3 (SeparableConv2 (None, None, None, 7 536536      block6_sepconv3_act[0][0]        \n",
            "__________________________________________________________________________________________________\n",
            "block6_sepconv3_bn (BatchNormal (None, None, None, 7 2912        block6_sepconv3[0][0]            \n",
            "__________________________________________________________________________________________________\n",
            "add_4 (Add)                     (None, None, None, 7 0           block6_sepconv3_bn[0][0]         \n",
            "                                                                 add_3[0][0]                      \n",
            "__________________________________________________________________________________________________\n",
            "block7_sepconv1_act (Activation (None, None, None, 7 0           add_4[0][0]                      \n",
            "__________________________________________________________________________________________________\n",
            "block7_sepconv1 (SeparableConv2 (None, None, None, 7 536536      block7_sepconv1_act[0][0]        \n",
            "__________________________________________________________________________________________________\n",
            "block7_sepconv1_bn (BatchNormal (None, None, None, 7 2912        block7_sepconv1[0][0]            \n",
            "__________________________________________________________________________________________________\n",
            "block7_sepconv2_act (Activation (None, None, None, 7 0           block7_sepconv1_bn[0][0]         \n",
            "__________________________________________________________________________________________________\n",
            "block7_sepconv2 (SeparableConv2 (None, None, None, 7 536536      block7_sepconv2_act[0][0]        \n",
            "__________________________________________________________________________________________________\n",
            "block7_sepconv2_bn (BatchNormal (None, None, None, 7 2912        block7_sepconv2[0][0]            \n",
            "__________________________________________________________________________________________________\n",
            "block7_sepconv3_act (Activation (None, None, None, 7 0           block7_sepconv2_bn[0][0]         \n",
            "__________________________________________________________________________________________________\n",
            "block7_sepconv3 (SeparableConv2 (None, None, None, 7 536536      block7_sepconv3_act[0][0]        \n",
            "__________________________________________________________________________________________________\n",
            "block7_sepconv3_bn (BatchNormal (None, None, None, 7 2912        block7_sepconv3[0][0]            \n",
            "__________________________________________________________________________________________________\n",
            "add_5 (Add)                     (None, None, None, 7 0           block7_sepconv3_bn[0][0]         \n",
            "                                                                 add_4[0][0]                      \n",
            "__________________________________________________________________________________________________\n",
            "block8_sepconv1_act (Activation (None, None, None, 7 0           add_5[0][0]                      \n",
            "__________________________________________________________________________________________________\n",
            "block8_sepconv1 (SeparableConv2 (None, None, None, 7 536536      block8_sepconv1_act[0][0]        \n",
            "__________________________________________________________________________________________________\n",
            "block8_sepconv1_bn (BatchNormal (None, None, None, 7 2912        block8_sepconv1[0][0]            \n",
            "__________________________________________________________________________________________________\n",
            "block8_sepconv2_act (Activation (None, None, None, 7 0           block8_sepconv1_bn[0][0]         \n",
            "__________________________________________________________________________________________________\n",
            "block8_sepconv2 (SeparableConv2 (None, None, None, 7 536536      block8_sepconv2_act[0][0]        \n",
            "__________________________________________________________________________________________________\n",
            "block8_sepconv2_bn (BatchNormal (None, None, None, 7 2912        block8_sepconv2[0][0]            \n",
            "__________________________________________________________________________________________________\n",
            "block8_sepconv3_act (Activation (None, None, None, 7 0           block8_sepconv2_bn[0][0]         \n",
            "__________________________________________________________________________________________________\n",
            "block8_sepconv3 (SeparableConv2 (None, None, None, 7 536536      block8_sepconv3_act[0][0]        \n",
            "__________________________________________________________________________________________________\n",
            "block8_sepconv3_bn (BatchNormal (None, None, None, 7 2912        block8_sepconv3[0][0]            \n",
            "__________________________________________________________________________________________________\n",
            "add_6 (Add)                     (None, None, None, 7 0           block8_sepconv3_bn[0][0]         \n",
            "                                                                 add_5[0][0]                      \n",
            "__________________________________________________________________________________________________\n",
            "block9_sepconv1_act (Activation (None, None, None, 7 0           add_6[0][0]                      \n",
            "__________________________________________________________________________________________________\n",
            "block9_sepconv1 (SeparableConv2 (None, None, None, 7 536536      block9_sepconv1_act[0][0]        \n",
            "__________________________________________________________________________________________________\n",
            "block9_sepconv1_bn (BatchNormal (None, None, None, 7 2912        block9_sepconv1[0][0]            \n",
            "__________________________________________________________________________________________________\n",
            "block9_sepconv2_act (Activation (None, None, None, 7 0           block9_sepconv1_bn[0][0]         \n",
            "__________________________________________________________________________________________________\n",
            "block9_sepconv2 (SeparableConv2 (None, None, None, 7 536536      block9_sepconv2_act[0][0]        \n",
            "__________________________________________________________________________________________________\n",
            "block9_sepconv2_bn (BatchNormal (None, None, None, 7 2912        block9_sepconv2[0][0]            \n",
            "__________________________________________________________________________________________________\n",
            "block9_sepconv3_act (Activation (None, None, None, 7 0           block9_sepconv2_bn[0][0]         \n",
            "__________________________________________________________________________________________________\n",
            "block9_sepconv3 (SeparableConv2 (None, None, None, 7 536536      block9_sepconv3_act[0][0]        \n",
            "__________________________________________________________________________________________________\n",
            "block9_sepconv3_bn (BatchNormal (None, None, None, 7 2912        block9_sepconv3[0][0]            \n",
            "__________________________________________________________________________________________________\n",
            "add_7 (Add)                     (None, None, None, 7 0           block9_sepconv3_bn[0][0]         \n",
            "                                                                 add_6[0][0]                      \n",
            "__________________________________________________________________________________________________\n",
            "block10_sepconv1_act (Activatio (None, None, None, 7 0           add_7[0][0]                      \n",
            "__________________________________________________________________________________________________\n",
            "block10_sepconv1 (SeparableConv (None, None, None, 7 536536      block10_sepconv1_act[0][0]       \n",
            "__________________________________________________________________________________________________\n",
            "block10_sepconv1_bn (BatchNorma (None, None, None, 7 2912        block10_sepconv1[0][0]           \n",
            "__________________________________________________________________________________________________\n",
            "block10_sepconv2_act (Activatio (None, None, None, 7 0           block10_sepconv1_bn[0][0]        \n",
            "__________________________________________________________________________________________________\n",
            "block10_sepconv2 (SeparableConv (None, None, None, 7 536536      block10_sepconv2_act[0][0]       \n",
            "__________________________________________________________________________________________________\n",
            "block10_sepconv2_bn (BatchNorma (None, None, None, 7 2912        block10_sepconv2[0][0]           \n",
            "__________________________________________________________________________________________________\n",
            "block10_sepconv3_act (Activatio (None, None, None, 7 0           block10_sepconv2_bn[0][0]        \n",
            "__________________________________________________________________________________________________\n",
            "block10_sepconv3 (SeparableConv (None, None, None, 7 536536      block10_sepconv3_act[0][0]       \n",
            "__________________________________________________________________________________________________\n",
            "block10_sepconv3_bn (BatchNorma (None, None, None, 7 2912        block10_sepconv3[0][0]           \n",
            "__________________________________________________________________________________________________\n",
            "add_8 (Add)                     (None, None, None, 7 0           block10_sepconv3_bn[0][0]        \n",
            "                                                                 add_7[0][0]                      \n",
            "__________________________________________________________________________________________________\n",
            "block11_sepconv1_act (Activatio (None, None, None, 7 0           add_8[0][0]                      \n",
            "__________________________________________________________________________________________________\n",
            "block11_sepconv1 (SeparableConv (None, None, None, 7 536536      block11_sepconv1_act[0][0]       \n",
            "__________________________________________________________________________________________________\n",
            "block11_sepconv1_bn (BatchNorma (None, None, None, 7 2912        block11_sepconv1[0][0]           \n",
            "__________________________________________________________________________________________________\n",
            "block11_sepconv2_act (Activatio (None, None, None, 7 0           block11_sepconv1_bn[0][0]        \n",
            "__________________________________________________________________________________________________\n",
            "block11_sepconv2 (SeparableConv (None, None, None, 7 536536      block11_sepconv2_act[0][0]       \n",
            "__________________________________________________________________________________________________\n",
            "block11_sepconv2_bn (BatchNorma (None, None, None, 7 2912        block11_sepconv2[0][0]           \n",
            "__________________________________________________________________________________________________\n",
            "block11_sepconv3_act (Activatio (None, None, None, 7 0           block11_sepconv2_bn[0][0]        \n",
            "__________________________________________________________________________________________________\n",
            "block11_sepconv3 (SeparableConv (None, None, None, 7 536536      block11_sepconv3_act[0][0]       \n",
            "__________________________________________________________________________________________________\n",
            "block11_sepconv3_bn (BatchNorma (None, None, None, 7 2912        block11_sepconv3[0][0]           \n",
            "__________________________________________________________________________________________________\n",
            "add_9 (Add)                     (None, None, None, 7 0           block11_sepconv3_bn[0][0]        \n",
            "                                                                 add_8[0][0]                      \n",
            "__________________________________________________________________________________________________\n",
            "block12_sepconv1_act (Activatio (None, None, None, 7 0           add_9[0][0]                      \n",
            "__________________________________________________________________________________________________\n",
            "block12_sepconv1 (SeparableConv (None, None, None, 7 536536      block12_sepconv1_act[0][0]       \n",
            "__________________________________________________________________________________________________\n",
            "block12_sepconv1_bn (BatchNorma (None, None, None, 7 2912        block12_sepconv1[0][0]           \n",
            "__________________________________________________________________________________________________\n",
            "block12_sepconv2_act (Activatio (None, None, None, 7 0           block12_sepconv1_bn[0][0]        \n",
            "__________________________________________________________________________________________________\n",
            "block12_sepconv2 (SeparableConv (None, None, None, 7 536536      block12_sepconv2_act[0][0]       \n",
            "__________________________________________________________________________________________________\n",
            "block12_sepconv2_bn (BatchNorma (None, None, None, 7 2912        block12_sepconv2[0][0]           \n",
            "__________________________________________________________________________________________________\n",
            "block12_sepconv3_act (Activatio (None, None, None, 7 0           block12_sepconv2_bn[0][0]        \n",
            "__________________________________________________________________________________________________\n",
            "block12_sepconv3 (SeparableConv (None, None, None, 7 536536      block12_sepconv3_act[0][0]       \n",
            "__________________________________________________________________________________________________\n",
            "block12_sepconv3_bn (BatchNorma (None, None, None, 7 2912        block12_sepconv3[0][0]           \n",
            "__________________________________________________________________________________________________\n",
            "add_10 (Add)                    (None, None, None, 7 0           block12_sepconv3_bn[0][0]        \n",
            "                                                                 add_9[0][0]                      \n",
            "__________________________________________________________________________________________________\n",
            "block13_sepconv1_act (Activatio (None, None, None, 7 0           add_10[0][0]                     \n",
            "__________________________________________________________________________________________________\n",
            "block13_sepconv1 (SeparableConv (None, None, None, 7 536536      block13_sepconv1_act[0][0]       \n",
            "__________________________________________________________________________________________________\n",
            "block13_sepconv1_bn (BatchNorma (None, None, None, 7 2912        block13_sepconv1[0][0]           \n",
            "__________________________________________________________________________________________________\n",
            "block13_sepconv2_act (Activatio (None, None, None, 7 0           block13_sepconv1_bn[0][0]        \n",
            "__________________________________________________________________________________________________\n",
            "block13_sepconv2 (SeparableConv (None, None, None, 1 752024      block13_sepconv2_act[0][0]       \n",
            "__________________________________________________________________________________________________\n",
            "block13_sepconv2_bn (BatchNorma (None, None, None, 1 4096        block13_sepconv2[0][0]           \n",
            "__________________________________________________________________________________________________\n",
            "conv2d_3 (Conv2D)               (None, None, None, 1 745472      add_10[0][0]                     \n",
            "__________________________________________________________________________________________________\n",
            "block13_pool (MaxPooling2D)     (None, None, None, 1 0           block13_sepconv2_bn[0][0]        \n",
            "__________________________________________________________________________________________________\n",
            "batch_normalization_3 (BatchNor (None, None, None, 1 4096        conv2d_3[0][0]                   \n",
            "__________________________________________________________________________________________________\n",
            "add_11 (Add)                    (None, None, None, 1 0           block13_pool[0][0]               \n",
            "                                                                 batch_normalization_3[0][0]      \n",
            "__________________________________________________________________________________________________\n",
            "block14_sepconv1 (SeparableConv (None, None, None, 1 1582080     add_11[0][0]                     \n",
            "__________________________________________________________________________________________________\n",
            "block14_sepconv1_bn (BatchNorma (None, None, None, 1 6144        block14_sepconv1[0][0]           \n",
            "__________________________________________________________________________________________________\n",
            "block14_sepconv1_act (Activatio (None, None, None, 1 0           block14_sepconv1_bn[0][0]        \n",
            "__________________________________________________________________________________________________\n",
            "block14_sepconv2 (SeparableConv (None, None, None, 2 3159552     block14_sepconv1_act[0][0]       \n",
            "__________________________________________________________________________________________________\n",
            "block14_sepconv2_bn (BatchNorma (None, None, None, 2 8192        block14_sepconv2[0][0]           \n",
            "__________________________________________________________________________________________________\n",
            "block14_sepconv2_act (Activatio (None, None, None, 2 0           block14_sepconv2_bn[0][0]        \n",
            "==================================================================================================\n",
            "Total params: 20,861,480\n",
            "Trainable params: 20,806,952\n",
            "Non-trainable params: 54,528\n",
            "__________________________________________________________________________________________________\n",
            "Model: \"model\"\n",
            "__________________________________________________________________________________________________\n",
            "Layer (type)                    Output Shape         Param #     Connected to                     \n",
            "==================================================================================================\n",
            "input_1 (InputLayer)            [(None, 128, 128, 3) 0                                            \n",
            "__________________________________________________________________________________________________\n",
            "input_2 (InputLayer)            [(None, 128, 128, 3) 0                                            \n",
            "__________________________________________________________________________________________________\n",
            "input_3 (InputLayer)            [(None, 128, 128, 3) 0                                            \n",
            "__________________________________________________________________________________________________\n",
            "xception (Model)                multiple             20861480    input_1[0][0]                    \n",
            "                                                                 input_2[0][0]                    \n",
            "                                                                 input_3[0][0]                    \n",
            "__________________________________________________________________________________________________\n",
            "flatten (Flatten)               (None, 32768)        0           xception[1][0]                   \n",
            "__________________________________________________________________________________________________\n",
            "flatten_1 (Flatten)             (None, 32768)        0           xception[2][0]                   \n",
            "__________________________________________________________________________________________________\n",
            "flatten_2 (Flatten)             (None, 32768)        0           xception[3][0]                   \n",
            "__________________________________________________________________________________________________\n",
            "dense (Dense)                   (None, 100)          3276900     flatten[0][0]                    \n",
            "                                                                 flatten_1[0][0]                  \n",
            "                                                                 flatten_2[0][0]                  \n",
            "__________________________________________________________________________________________________\n",
            "concatenate (Concatenate)       (None, 300)          0           dense[0][0]                      \n",
            "                                                                 dense[1][0]                      \n",
            "                                                                 dense[2][0]                      \n",
            "==================================================================================================\n",
            "Total params: 24,138,380\n",
            "Trainable params: 24,083,852\n",
            "Non-trainable params: 54,528\n",
            "__________________________________________________________________________________________________\n"
          ],
          "name": "stdout"
        }
      ]
    },
    {
      "cell_type": "code",
      "metadata": {
        "id": "TsDMeCKnrbCJ",
        "colab_type": "code",
        "outputId": "b34b9515-b774-4e25-9bf3-be20aff29de3",
        "colab": {
          "base_uri": "https://localhost:8080/",
          "height": 394
        }
      },
      "source": [
        "%tensorflow_version 1.x\n",
        "import tensorflow\n",
        "import keras\n",
        "from keras import Input, Model\n",
        "from keras.applications.densenet import DenseNet121\n",
        "from keras.layers import Dense\n",
        "from keras.activations import relu\n",
        "\n",
        "input_shape = (32,32,3)\n",
        "#[(None, 32, 32, 3), (None, 32, 32, 3), (None, 32, 32, 3), (None, 32, 32, 3), (None, 32, 32, 3), (None, 32, 32, 3), (None, 32, 32, 3), (None, 32, 32, 3), (None, 32, 32, 3), (None, 32, 32, 3), (None, 32, 32, 3)]\n",
        "#rt = tf.ragged.constant([[9.0, 8.0, 7.0], [], [6.0, 5.0], [4.0]])\n",
        "\n",
        "in1 = Input(shape=(32,32,3))\n",
        "in2 = Input(shape=(32,32,3))\n",
        "in3 = Input(shape=(32,32,3))\n",
        "in4 = Input(shape=(32,32,3))\n",
        "in5 = Input(shape=(32,32,3))\n",
        "in6 = Input(shape=(32,32,3))\n",
        "in7 = Input(shape=(32,32,3))\n",
        "in8 = Input(shape=(32,32,3))\n",
        "in9 = Input(shape=(32,32,3))\n",
        "in10 = Input(shape=(32,32,3))\n",
        "in11 = Input(shape=(32,32,3))\n",
        "\n",
        "inputs = [in1,in2,in3,in4,in5,in6,in7,in8,in9,in10,in11]\n",
        "densenet_121_model = DenseNet121(include_top=False)(inputs)\n",
        "output = Dense(units=11, activation='relu')(densenet_121_model)\n",
        "\n",
        "model = Model(inputs=inputs, outputs=output)"
      ],
      "execution_count": 0,
      "outputs": [
        {
          "output_type": "error",
          "ename": "ValueError",
          "evalue": "ignored",
          "traceback": [
            "\u001b[0;31m---------------------------------------------------------------------------\u001b[0m",
            "\u001b[0;31mValueError\u001b[0m                                Traceback (most recent call last)",
            "\u001b[0;32m<ipython-input-26-49d38cc5c930>\u001b[0m in \u001b[0;36m<module>\u001b[0;34m()\u001b[0m\n\u001b[1;32m     24\u001b[0m \u001b[0;34m\u001b[0m\u001b[0m\n\u001b[1;32m     25\u001b[0m \u001b[0minputs\u001b[0m \u001b[0;34m=\u001b[0m \u001b[0;34m[\u001b[0m\u001b[0min1\u001b[0m\u001b[0;34m,\u001b[0m\u001b[0min2\u001b[0m\u001b[0;34m,\u001b[0m\u001b[0min3\u001b[0m\u001b[0;34m,\u001b[0m\u001b[0min4\u001b[0m\u001b[0;34m,\u001b[0m\u001b[0min5\u001b[0m\u001b[0;34m,\u001b[0m\u001b[0min6\u001b[0m\u001b[0;34m,\u001b[0m\u001b[0min7\u001b[0m\u001b[0;34m,\u001b[0m\u001b[0min8\u001b[0m\u001b[0;34m,\u001b[0m\u001b[0min9\u001b[0m\u001b[0;34m,\u001b[0m\u001b[0min10\u001b[0m\u001b[0;34m,\u001b[0m\u001b[0min11\u001b[0m\u001b[0;34m]\u001b[0m\u001b[0;34m\u001b[0m\u001b[0;34m\u001b[0m\u001b[0m\n\u001b[0;32m---> 26\u001b[0;31m \u001b[0mdensenet_121_model\u001b[0m \u001b[0;34m=\u001b[0m \u001b[0mDenseNet121\u001b[0m\u001b[0;34m(\u001b[0m\u001b[0minclude_top\u001b[0m\u001b[0;34m=\u001b[0m\u001b[0;32mFalse\u001b[0m\u001b[0;34m)\u001b[0m\u001b[0;34m(\u001b[0m\u001b[0minputs\u001b[0m\u001b[0;34m)\u001b[0m\u001b[0;34m\u001b[0m\u001b[0;34m\u001b[0m\u001b[0m\n\u001b[0m\u001b[1;32m     27\u001b[0m \u001b[0moutput\u001b[0m \u001b[0;34m=\u001b[0m \u001b[0mDense\u001b[0m\u001b[0;34m(\u001b[0m\u001b[0munits\u001b[0m\u001b[0;34m=\u001b[0m\u001b[0;36m11\u001b[0m\u001b[0;34m,\u001b[0m \u001b[0mactivation\u001b[0m\u001b[0;34m=\u001b[0m\u001b[0;34m'relu'\u001b[0m\u001b[0;34m)\u001b[0m\u001b[0;34m(\u001b[0m\u001b[0mdensenet_121_model\u001b[0m\u001b[0;34m)\u001b[0m\u001b[0;34m\u001b[0m\u001b[0;34m\u001b[0m\u001b[0m\n\u001b[1;32m     28\u001b[0m \u001b[0;34m\u001b[0m\u001b[0m\n",
            "\u001b[0;32m/usr/local/lib/python3.6/dist-packages/keras/engine/base_layer.py\u001b[0m in \u001b[0;36m__call__\u001b[0;34m(self, inputs, **kwargs)\u001b[0m\n\u001b[1;32m    466\u001b[0m             if all([s is not None\n\u001b[1;32m    467\u001b[0m                     for s in to_list(input_shape)]):\n\u001b[0;32m--> 468\u001b[0;31m                 \u001b[0moutput_shape\u001b[0m \u001b[0;34m=\u001b[0m \u001b[0mself\u001b[0m\u001b[0;34m.\u001b[0m\u001b[0mcompute_output_shape\u001b[0m\u001b[0;34m(\u001b[0m\u001b[0minput_shape\u001b[0m\u001b[0;34m)\u001b[0m\u001b[0;34m\u001b[0m\u001b[0;34m\u001b[0m\u001b[0m\n\u001b[0m\u001b[1;32m    469\u001b[0m             \u001b[0;32melse\u001b[0m\u001b[0;34m:\u001b[0m\u001b[0;34m\u001b[0m\u001b[0;34m\u001b[0m\u001b[0m\n\u001b[1;32m    470\u001b[0m                 \u001b[0;32mif\u001b[0m \u001b[0misinstance\u001b[0m\u001b[0;34m(\u001b[0m\u001b[0minput_shape\u001b[0m\u001b[0;34m,\u001b[0m \u001b[0mlist\u001b[0m\u001b[0;34m)\u001b[0m\u001b[0;34m:\u001b[0m\u001b[0;34m\u001b[0m\u001b[0;34m\u001b[0m\u001b[0m\n",
            "\u001b[0;32m/usr/local/lib/python3.6/dist-packages/keras/engine/network.py\u001b[0m in \u001b[0;36mcompute_output_shape\u001b[0;34m(self, input_shape)\u001b[0m\n\u001b[1;32m    597\u001b[0m             raise ValueError('Invalid input_shape argument ' +\n\u001b[1;32m    598\u001b[0m                              \u001b[0mstr\u001b[0m\u001b[0;34m(\u001b[0m\u001b[0minput_shape\u001b[0m\u001b[0;34m)\u001b[0m \u001b[0;34m+\u001b[0m \u001b[0;34m': model has '\u001b[0m \u001b[0;34m+\u001b[0m\u001b[0;34m\u001b[0m\u001b[0;34m\u001b[0m\u001b[0m\n\u001b[0;32m--> 599\u001b[0;31m                              str(len(self._input_layers)) + ' tensor inputs.')\n\u001b[0m\u001b[1;32m    600\u001b[0m \u001b[0;34m\u001b[0m\u001b[0m\n\u001b[1;32m    601\u001b[0m         \u001b[0mcache_key\u001b[0m \u001b[0;34m=\u001b[0m \u001b[0;34m', '\u001b[0m\u001b[0;34m.\u001b[0m\u001b[0mjoin\u001b[0m\u001b[0;34m(\u001b[0m\u001b[0;34m[\u001b[0m\u001b[0mstr\u001b[0m\u001b[0;34m(\u001b[0m\u001b[0mx\u001b[0m\u001b[0;34m)\u001b[0m \u001b[0;32mfor\u001b[0m \u001b[0mx\u001b[0m \u001b[0;32min\u001b[0m \u001b[0minput_shapes\u001b[0m\u001b[0;34m]\u001b[0m\u001b[0;34m)\u001b[0m\u001b[0;34m\u001b[0m\u001b[0;34m\u001b[0m\u001b[0m\n",
            "\u001b[0;31mValueError\u001b[0m: Invalid input_shape argument [(None, 32, 32, 3), (None, 32, 32, 3), (None, 32, 32, 3), (None, 32, 32, 3), (None, 32, 32, 3), (None, 32, 32, 3), (None, 32, 32, 3), (None, 32, 32, 3), (None, 32, 32, 3), (None, 32, 32, 3), (None, 32, 32, 3)]: model has 1 tensor inputs."
          ]
        }
      ]
    },
    {
      "cell_type": "code",
      "metadata": {
        "id": "QfYuZaIyrnGQ",
        "colab_type": "code",
        "outputId": "50552790-7d0e-481b-cf68-e7ce32cd4a4c",
        "colab": {
          "base_uri": "https://localhost:8080/",
          "height": 578
        }
      },
      "source": [
        "%tensorflow_version 1.x\n",
        "import tensorflow\n",
        "import keras\n",
        "from keras import Input, Model\n",
        "from keras.applications.densenet import DenseNet121\n",
        "from keras.layers import Dense, Flatten, Concatenate\n",
        "from keras.activations import relu\n",
        "\n",
        "# Multiple inputs\n",
        "in1 = Input(shape=(128,128,3))\n",
        "in2 = Input(shape=(128,128,3))\n",
        "in3 = Input(shape=(128,128,3))\n",
        "\n",
        "# CNN output\n",
        "cnn = DenseNet121(include_top=False)\n",
        "#cnn.summary()\n",
        "\n",
        "out1 = cnn(in1)\n",
        "out2 = cnn(in2)\n",
        "out3 = cnn(in3)\n",
        "\n",
        "# Flattening the output for the dense layer\n",
        "fout1 = Flatten()(out1)\n",
        "fout2 = Flatten()(out2)\n",
        "fout3 = Flatten()(out3)\n",
        "\n",
        "# Getting the dense output\n",
        "dense = Dense(1, activation='softmax')\n",
        "\n",
        "dout1 = dense(fout1)\n",
        "dout2 = dense(fout2)\n",
        "dout3 = dense(fout3)\n",
        "\n",
        "# Concatenating the final output\n",
        "out = Concatenate(axis=-1)([dout1, dout2, dout3])\n",
        "\n",
        "# Creating the model\n",
        "model = Model(inputs=[in1,in2,in3], outputs=out)\n",
        "model.summary()"
      ],
      "execution_count": 0,
      "outputs": [
        {
          "output_type": "stream",
          "text": [
            "TensorFlow is already loaded. Please restart the runtime to change versions.\n",
            "Model: \"model_2\"\n",
            "__________________________________________________________________________________________________\n",
            "Layer (type)                    Output Shape         Param #     Connected to                     \n",
            "==================================================================================================\n",
            "input_306 (InputLayer)          (None, 128, 128, 3)  0                                            \n",
            "__________________________________________________________________________________________________\n",
            "input_307 (InputLayer)          (None, 128, 128, 3)  0                                            \n",
            "__________________________________________________________________________________________________\n",
            "input_308 (InputLayer)          (None, 128, 128, 3)  0                                            \n",
            "__________________________________________________________________________________________________\n",
            "densenet121 (Model)             multiple             7037504     input_306[0][0]                  \n",
            "                                                                 input_307[0][0]                  \n",
            "                                                                 input_308[0][0]                  \n",
            "__________________________________________________________________________________________________\n",
            "flatten_1 (Flatten)             (None, 16384)        0           densenet121[1][0]                \n",
            "__________________________________________________________________________________________________\n",
            "flatten_2 (Flatten)             (None, 16384)        0           densenet121[2][0]                \n",
            "__________________________________________________________________________________________________\n",
            "flatten_3 (Flatten)             (None, 16384)        0           densenet121[3][0]                \n",
            "__________________________________________________________________________________________________\n",
            "dense_12 (Dense)                (None, 1)            16385       flatten_1[0][0]                  \n",
            "                                                                 flatten_2[0][0]                  \n",
            "                                                                 flatten_3[0][0]                  \n",
            "__________________________________________________________________________________________________\n",
            "concatenate_1 (Concatenate)     (None, 3)            0           dense_12[0][0]                   \n",
            "                                                                 dense_12[1][0]                   \n",
            "                                                                 dense_12[2][0]                   \n",
            "==================================================================================================\n",
            "Total params: 7,053,889\n",
            "Trainable params: 6,970,241\n",
            "Non-trainable params: 83,648\n",
            "__________________________________________________________________________________________________\n"
          ],
          "name": "stdout"
        }
      ]
    },
    {
      "cell_type": "markdown",
      "metadata": {
        "id": "-1vXRhpz0mou",
        "colab_type": "text"
      },
      "source": [
        "# Padding = Same and Padding = Valid \n",
        "https://stackoverflow.com/questions/60323897/tensorflow-keras-conv2d-layers-with-padding-same-behave-strangely"
      ]
    },
    {
      "cell_type": "code",
      "metadata": {
        "id": "CRHrSh0u0m5p",
        "colab_type": "code",
        "outputId": "4ecd0ad4-7a7e-469b-dc6a-c34a6a9a199a",
        "colab": {
          "base_uri": "https://localhost:8080/",
          "height": 187
        }
      },
      "source": [
        "# (1) Importing dependency\n",
        "%tensorflow_version 1.x\n",
        "import tensorflow as tf\n",
        "import keras\n",
        "from keras import backend as K\n",
        "from keras.models import Sequential\n",
        "from keras.layers import Dense, Activation, Dropout, Flatten, Conv2D, MaxPooling2D\n",
        "\n",
        "# (3) Create a sequential model\n",
        "model = Sequential()\n",
        "\n",
        "# 1st Convolutional Layer\n",
        "model.add(Conv2D(filters=24, input_shape=(5,5,1), kernel_size=(2,2), strides =(2,2) ,padding='Same'))\n",
        "\n",
        "model.summary()"
      ],
      "execution_count": 0,
      "outputs": [
        {
          "output_type": "stream",
          "text": [
            "Model: \"sequential_4\"\n",
            "_________________________________________________________________\n",
            "Layer (type)                 Output Shape              Param #   \n",
            "=================================================================\n",
            "conv2d_4 (Conv2D)            (None, 3, 3, 24)          120       \n",
            "=================================================================\n",
            "Total params: 120\n",
            "Trainable params: 120\n",
            "Non-trainable params: 0\n",
            "_________________________________________________________________\n"
          ],
          "name": "stdout"
        }
      ]
    },
    {
      "cell_type": "code",
      "metadata": {
        "id": "rooePLzj1y5h",
        "colab_type": "code",
        "outputId": "a73f7aa2-3b5b-46e3-a405-087f68ea8dbc",
        "colab": {
          "base_uri": "https://localhost:8080/",
          "height": 187
        }
      },
      "source": [
        "# Importing dependency\n",
        "%tensorflow_version 1.x\n",
        "import keras\n",
        "from keras.models import Sequential\n",
        "from keras.layers import Conv2D\n",
        "\n",
        "# Create a sequential model\n",
        "model = Sequential()\n",
        "\n",
        "# Convolutional Layer\n",
        "model.add(Conv2D(filters=24, input_shape=(5,5,1), kernel_size=(2,2), strides =(2,2) ,padding='Valid'))\n",
        "\n",
        "# Model Summary\n",
        "model.summary()"
      ],
      "execution_count": 0,
      "outputs": [
        {
          "output_type": "stream",
          "text": [
            "Model: \"sequential_5\"\n",
            "_________________________________________________________________\n",
            "Layer (type)                 Output Shape              Param #   \n",
            "=================================================================\n",
            "conv2d_5 (Conv2D)            (None, 2, 2, 24)          120       \n",
            "=================================================================\n",
            "Total params: 120\n",
            "Trainable params: 120\n",
            "Non-trainable params: 0\n",
            "_________________________________________________________________\n"
          ],
          "name": "stdout"
        }
      ]
    },
    {
      "cell_type": "code",
      "metadata": {
        "id": "llW_6Wnp3izz",
        "colab_type": "code",
        "outputId": "c66f1c28-231e-4c32-85f0-eff16eb44b22",
        "colab": {
          "base_uri": "https://localhost:8080/",
          "height": 187
        }
      },
      "source": [
        "# Importing dependency\n",
        "%tensorflow_version 1.x\n",
        "import keras\n",
        "from keras.models import Sequential\n",
        "from keras.layers import Conv2D\n",
        "\n",
        "# Create a sequential model\n",
        "model = Sequential()\n",
        "\n",
        "# Convolutional Layer\n",
        "model.add(Conv2D(filters=24, input_shape=(6,6,1), kernel_size=(2,2), strides =(2,2) ,padding='Valid'))\n",
        "\n",
        "# Model Summary\n",
        "model.summary()"
      ],
      "execution_count": 0,
      "outputs": [
        {
          "output_type": "stream",
          "text": [
            "Model: \"sequential_6\"\n",
            "_________________________________________________________________\n",
            "Layer (type)                 Output Shape              Param #   \n",
            "=================================================================\n",
            "conv2d_6 (Conv2D)            (None, 3, 3, 24)          120       \n",
            "=================================================================\n",
            "Total params: 120\n",
            "Trainable params: 120\n",
            "Non-trainable params: 0\n",
            "_________________________________________________________________\n"
          ],
          "name": "stdout"
        }
      ]
    },
    {
      "cell_type": "markdown",
      "metadata": {
        "id": "Mk6am3SF58J6",
        "colab_type": "text"
      },
      "source": [
        "# model.fit_generator Plot\n",
        "https://stackoverflow.com/questions/60306753/drawing-the-accuracy-of-multiple-validation-of-diffferent-cnn-classifiers"
      ]
    },
    {
      "cell_type": "code",
      "metadata": {
        "id": "W_MWlH9u58Xw",
        "colab_type": "code",
        "outputId": "ca563510-05a9-490c-e53c-97da4a3ff2a3",
        "colab": {
          "base_uri": "https://localhost:8080/",
          "height": 0
        }
      },
      "source": [
        "import tensorflow as tf\n",
        "from tensorflow.keras.models import Sequential\n",
        "from tensorflow.keras.layers import Dense, Conv2D, Flatten, Dropout, MaxPooling2D\n",
        "from tensorflow.keras.preprocessing.image import ImageDataGenerator\n",
        "from tensorflow.keras.optimizers import Adam\n",
        "\n",
        "import os\n",
        "import numpy as np\n",
        "import matplotlib.pyplot as plt\n",
        "\n",
        "_URL = 'https://storage.googleapis.com/mledu-datasets/cats_and_dogs_filtered.zip'\n",
        "\n",
        "path_to_zip = tf.keras.utils.get_file('cats_and_dogs.zip', origin=_URL, extract=True)\n",
        "\n",
        "PATH = os.path.join(os.path.dirname(path_to_zip), 'cats_and_dogs_filtered')\n",
        "\n",
        "train_dir = os.path.join(PATH, 'train')\n",
        "validation_dir = os.path.join(PATH, 'validation')\n",
        "\n",
        "train_cats_dir = os.path.join(train_dir, 'cats')  # directory with our training cat pictures\n",
        "train_dogs_dir = os.path.join(train_dir, 'dogs')  # directory with our training dog pictures\n",
        "validation_cats_dir = os.path.join(validation_dir, 'cats')  # directory with our validation cat pictures\n",
        "validation_dogs_dir = os.path.join(validation_dir, 'dogs')  # directory with our validation dog pictures\n",
        "\n",
        "num_cats_tr = len(os.listdir(train_cats_dir))\n",
        "num_dogs_tr = len(os.listdir(train_dogs_dir))\n",
        "\n",
        "num_cats_val = len(os.listdir(validation_cats_dir))\n",
        "num_dogs_val = len(os.listdir(validation_dogs_dir))\n",
        "\n",
        "total_train = num_cats_tr + num_dogs_tr\n",
        "total_val = num_cats_val + num_dogs_val\n",
        "\n",
        "batch_size = 128\n",
        "epochs = 15\n",
        "IMG_HEIGHT = 150\n",
        "IMG_WIDTH = 150\n",
        "\n",
        "train_image_generator = ImageDataGenerator(rescale=1./255,brightness_range=[0.5,1.5]) # Generator for our training data\n",
        "validation_image_generator = ImageDataGenerator(rescale=1./255,brightness_range=[0.5,1.5]) # Generator for our validation data\n",
        "\n",
        "train_data_gen = train_image_generator.flow_from_directory(batch_size=batch_size,\n",
        "                                                           directory=train_dir,\n",
        "                                                           shuffle=True,\n",
        "                                                           target_size=(IMG_HEIGHT, IMG_WIDTH),\n",
        "                                                           class_mode='binary')\n",
        "\n",
        "val_data_gen = validation_image_generator.flow_from_directory(batch_size=batch_size,\n",
        "                                                              directory=validation_dir,\n",
        "                                                              target_size=(IMG_HEIGHT, IMG_WIDTH),\n",
        "                                                              class_mode='binary')\n",
        "\n",
        "model = Sequential([\n",
        "    Conv2D(16, 3, padding='same', activation='relu', input_shape=(IMG_HEIGHT, IMG_WIDTH ,3)),\n",
        "    MaxPooling2D(),\n",
        "    Conv2D(32, 3, padding='same', activation='relu'),\n",
        "    MaxPooling2D(),\n",
        "    Conv2D(64, 3, padding='same', activation='relu'),\n",
        "    MaxPooling2D(),\n",
        "    Flatten(),\n",
        "    Dense(512, activation='relu'),\n",
        "    Dense(1)\n",
        "])\n",
        "\n",
        "lr=0.01\n",
        "\n",
        "for i in range(5):\n",
        "\n",
        "    adam = Adam(lr)\n",
        "\n",
        "    print(\"Model using learning rate of\",lr)\n",
        "\n",
        "    lr = lr + 0.01\n",
        "\n",
        "    model.compile(optimizer=adam, \n",
        "              loss=tf.keras.losses.BinaryCrossentropy(from_logits=True),\n",
        "              metrics=['accuracy'])\n",
        "\n",
        "    history = model.fit_generator(\n",
        "              train_data_gen,\n",
        "              steps_per_epoch=total_train // batch_size,\n",
        "              epochs=epochs,\n",
        "              validation_data=val_data_gen,\n",
        "              validation_steps=total_val // batch_size)\n",
        "    \n",
        "    plt.plot(history.history['val_accuracy'])\n",
        "\n",
        "plt.title('Model Accuracy')\n",
        "plt.ylabel('accuracy')\n",
        "plt.xlabel('epoch')\n",
        "plt.legend(['LR=0.01', 'LR=0.02', 'LR=0.03', 'LR=0.04', 'LR=0.05'], loc='upper left')\n",
        "plt.show()"
      ],
      "execution_count": 1,
      "outputs": [
        {
          "output_type": "stream",
          "text": [
            "Found 2000 images belonging to 2 classes.\n",
            "Found 1000 images belonging to 2 classes.\n",
            "Model using learning rate of 0.01\n",
            "WARNING:tensorflow:From <ipython-input-1-bd4428ee6d16>:84: Model.fit_generator (from tensorflow.python.keras.engine.training) is deprecated and will be removed in a future version.\n",
            "Instructions for updating:\n",
            "Please use Model.fit, which supports generators.\n",
            "Epoch 1/15\n",
            "15/15 [==============================] - 9s 587ms/step - loss: 7.5758 - accuracy: 0.5057 - val_loss: 0.6948 - val_accuracy: 0.4967\n",
            "Epoch 2/15\n",
            "15/15 [==============================] - 9s 601ms/step - loss: 0.6955 - accuracy: 0.4947 - val_loss: 0.6946 - val_accuracy: 0.5045\n",
            "Epoch 3/15\n",
            "15/15 [==============================] - 9s 602ms/step - loss: 0.6936 - accuracy: 0.5064 - val_loss: 0.6932 - val_accuracy: 0.5011\n",
            "Epoch 4/15\n",
            "15/15 [==============================] - 9s 602ms/step - loss: 0.6936 - accuracy: 0.4995 - val_loss: 0.6932 - val_accuracy: 0.5011\n",
            "Epoch 5/15\n",
            "15/15 [==============================] - 9s 599ms/step - loss: 0.6933 - accuracy: 0.4947 - val_loss: 0.6931 - val_accuracy: 0.4978\n",
            "Epoch 6/15\n",
            "15/15 [==============================] - 9s 594ms/step - loss: 0.6933 - accuracy: 0.4947 - val_loss: 0.6939 - val_accuracy: 0.5067\n",
            "Epoch 7/15\n",
            "15/15 [==============================] - 9s 595ms/step - loss: 0.6941 - accuracy: 0.5011 - val_loss: 0.6933 - val_accuracy: 0.4978\n",
            "Epoch 8/15\n",
            "15/15 [==============================] - 9s 590ms/step - loss: 0.6935 - accuracy: 0.5128 - val_loss: 0.6932 - val_accuracy: 0.5033\n",
            "Epoch 9/15\n",
            "15/15 [==============================] - 9s 595ms/step - loss: 0.6935 - accuracy: 0.4936 - val_loss: 0.6931 - val_accuracy: 0.4978\n",
            "Epoch 10/15\n",
            "15/15 [==============================] - 9s 594ms/step - loss: 0.6932 - accuracy: 0.4995 - val_loss: 0.6932 - val_accuracy: 0.5067\n",
            "Epoch 11/15\n",
            "15/15 [==============================] - 9s 593ms/step - loss: 0.6933 - accuracy: 0.5000 - val_loss: 0.6932 - val_accuracy: 0.5056\n",
            "Epoch 12/15\n",
            "15/15 [==============================] - 9s 594ms/step - loss: 0.6933 - accuracy: 0.5118 - val_loss: 0.6932 - val_accuracy: 0.4967\n",
            "Epoch 13/15\n",
            "15/15 [==============================] - 9s 596ms/step - loss: 0.6933 - accuracy: 0.4824 - val_loss: 0.6933 - val_accuracy: 0.5112\n",
            "Epoch 14/15\n",
            "15/15 [==============================] - 9s 595ms/step - loss: 0.6939 - accuracy: 0.5064 - val_loss: 0.6931 - val_accuracy: 0.4989\n",
            "Epoch 15/15\n",
            "15/15 [==============================] - 9s 597ms/step - loss: 0.6948 - accuracy: 0.5011 - val_loss: 0.6934 - val_accuracy: 0.5011\n",
            "Model using learning rate of 0.02\n",
            "Epoch 1/15\n",
            "15/15 [==============================] - 9s 603ms/step - loss: 0.6941 - accuracy: 0.4984 - val_loss: 0.6931 - val_accuracy: 0.4978\n",
            "Epoch 2/15\n",
            "15/15 [==============================] - 9s 599ms/step - loss: 0.6933 - accuracy: 0.5037 - val_loss: 0.6932 - val_accuracy: 0.5033\n",
            "Epoch 3/15\n",
            "15/15 [==============================] - 9s 604ms/step - loss: 0.6933 - accuracy: 0.4990 - val_loss: 0.6932 - val_accuracy: 0.5000\n",
            "Epoch 4/15\n",
            "15/15 [==============================] - 9s 618ms/step - loss: 0.6932 - accuracy: 0.5021 - val_loss: 0.6931 - val_accuracy: 0.5056\n",
            "Epoch 5/15\n",
            "15/15 [==============================] - 9s 597ms/step - loss: 0.6934 - accuracy: 0.4931 - val_loss: 0.6936 - val_accuracy: 0.5067\n",
            "Epoch 6/15\n",
            "15/15 [==============================] - 9s 597ms/step - loss: 0.6934 - accuracy: 0.5032 - val_loss: 0.6935 - val_accuracy: 0.4877\n",
            "Epoch 7/15\n",
            "15/15 [==============================] - 9s 598ms/step - loss: 0.6929 - accuracy: 0.5128 - val_loss: 0.6929 - val_accuracy: 0.5100\n",
            "Epoch 8/15\n",
            "15/15 [==============================] - 9s 594ms/step - loss: 0.6936 - accuracy: 0.4882 - val_loss: 0.6932 - val_accuracy: 0.4989\n",
            "Epoch 9/15\n",
            "15/15 [==============================] - 9s 591ms/step - loss: 0.6932 - accuracy: 0.4941 - val_loss: 0.6934 - val_accuracy: 0.5123\n",
            "Epoch 10/15\n",
            "15/15 [==============================] - 9s 589ms/step - loss: 0.6936 - accuracy: 0.5032 - val_loss: 0.6932 - val_accuracy: 0.5022\n",
            "Epoch 11/15\n",
            "15/15 [==============================] - 9s 596ms/step - loss: 0.6933 - accuracy: 0.5027 - val_loss: 0.6932 - val_accuracy: 0.5045\n",
            "Epoch 12/15\n",
            "15/15 [==============================] - 9s 594ms/step - loss: 0.6933 - accuracy: 0.5075 - val_loss: 0.6932 - val_accuracy: 0.4955\n",
            "Epoch 13/15\n",
            "15/15 [==============================] - 9s 597ms/step - loss: 0.6934 - accuracy: 0.4936 - val_loss: 0.6932 - val_accuracy: 0.4933\n",
            "Epoch 14/15\n",
            "15/15 [==============================] - 9s 593ms/step - loss: 0.6932 - accuracy: 0.4968 - val_loss: 0.6931 - val_accuracy: 0.5089\n",
            "Epoch 15/15\n",
            "15/15 [==============================] - 9s 599ms/step - loss: 0.6933 - accuracy: 0.4941 - val_loss: 0.6931 - val_accuracy: 0.4978\n",
            "Model using learning rate of 0.03\n",
            "Epoch 1/15\n",
            "15/15 [==============================] - 9s 608ms/step - loss: 0.6942 - accuracy: 0.5085 - val_loss: 0.6929 - val_accuracy: 0.5100\n",
            "Epoch 2/15\n",
            "15/15 [==============================] - 9s 595ms/step - loss: 0.6938 - accuracy: 0.5091 - val_loss: 0.6933 - val_accuracy: 0.5078\n",
            "Epoch 3/15\n",
            "15/15 [==============================] - 9s 594ms/step - loss: 0.6933 - accuracy: 0.4952 - val_loss: 0.6931 - val_accuracy: 0.5045\n",
            "Epoch 4/15\n",
            "15/15 [==============================] - 9s 592ms/step - loss: 0.6933 - accuracy: 0.4979 - val_loss: 0.6931 - val_accuracy: 0.5022\n",
            "Epoch 5/15\n",
            "15/15 [==============================] - 9s 595ms/step - loss: 0.6932 - accuracy: 0.4984 - val_loss: 0.6931 - val_accuracy: 0.4933\n",
            "Epoch 6/15\n",
            "15/15 [==============================] - 9s 604ms/step - loss: 0.6941 - accuracy: 0.5000 - val_loss: 0.6932 - val_accuracy: 0.5022\n",
            "Epoch 7/15\n",
            "15/15 [==============================] - 9s 594ms/step - loss: 0.6933 - accuracy: 0.5069 - val_loss: 0.6932 - val_accuracy: 0.5000\n",
            "Epoch 8/15\n",
            "15/15 [==============================] - 9s 600ms/step - loss: 0.6934 - accuracy: 0.5011 - val_loss: 0.6933 - val_accuracy: 0.4955\n",
            "Epoch 9/15\n",
            "15/15 [==============================] - 9s 603ms/step - loss: 0.6933 - accuracy: 0.4904 - val_loss: 0.6932 - val_accuracy: 0.4967\n",
            "Epoch 10/15\n",
            "15/15 [==============================] - 9s 599ms/step - loss: 0.6934 - accuracy: 0.5107 - val_loss: 0.6933 - val_accuracy: 0.5000\n",
            "Epoch 11/15\n",
            "15/15 [==============================] - 9s 596ms/step - loss: 0.6937 - accuracy: 0.4904 - val_loss: 0.6932 - val_accuracy: 0.5045\n",
            "Epoch 12/15\n",
            "15/15 [==============================] - 9s 596ms/step - loss: 0.6933 - accuracy: 0.5043 - val_loss: 0.6932 - val_accuracy: 0.5011\n",
            "Epoch 13/15\n",
            "15/15 [==============================] - 9s 597ms/step - loss: 0.6932 - accuracy: 0.4968 - val_loss: 0.6932 - val_accuracy: 0.5000\n",
            "Epoch 14/15\n",
            "15/15 [==============================] - 9s 594ms/step - loss: 0.6932 - accuracy: 0.5075 - val_loss: 0.6931 - val_accuracy: 0.5033\n",
            "Epoch 15/15\n",
            "15/15 [==============================] - 9s 592ms/step - loss: 0.6934 - accuracy: 0.4931 - val_loss: 0.6932 - val_accuracy: 0.5089\n",
            "Model using learning rate of 0.04\n",
            "Epoch 1/15\n",
            "15/15 [==============================] - 9s 594ms/step - loss: 0.6939 - accuracy: 0.4995 - val_loss: 0.6932 - val_accuracy: 0.4955\n",
            "Epoch 2/15\n",
            "15/15 [==============================] - 9s 596ms/step - loss: 0.6932 - accuracy: 0.4941 - val_loss: 0.6930 - val_accuracy: 0.4922\n",
            "Epoch 3/15\n",
            "15/15 [==============================] - 9s 597ms/step - loss: 0.6933 - accuracy: 0.5016 - val_loss: 0.6932 - val_accuracy: 0.4955\n",
            "Epoch 4/15\n",
            "15/15 [==============================] - 9s 596ms/step - loss: 0.6933 - accuracy: 0.5085 - val_loss: 0.6933 - val_accuracy: 0.4989\n",
            "Epoch 5/15\n",
            "15/15 [==============================] - 9s 594ms/step - loss: 0.6938 - accuracy: 0.4931 - val_loss: 0.6932 - val_accuracy: 0.5011\n",
            "Epoch 6/15\n",
            "15/15 [==============================] - 9s 595ms/step - loss: 0.6934 - accuracy: 0.4979 - val_loss: 0.6931 - val_accuracy: 0.4933\n",
            "Epoch 7/15\n",
            "15/15 [==============================] - 9s 600ms/step - loss: 0.6934 - accuracy: 0.4953 - val_loss: 0.6931 - val_accuracy: 0.4978\n",
            "Epoch 8/15\n",
            "15/15 [==============================] - 9s 618ms/step - loss: 0.6934 - accuracy: 0.5048 - val_loss: 0.6933 - val_accuracy: 0.4989\n",
            "Epoch 9/15\n",
            "15/15 [==============================] - 9s 595ms/step - loss: 0.6933 - accuracy: 0.5037 - val_loss: 0.6932 - val_accuracy: 0.5011\n",
            "Epoch 10/15\n",
            "15/15 [==============================] - 9s 596ms/step - loss: 0.6933 - accuracy: 0.5101 - val_loss: 0.6933 - val_accuracy: 0.5033\n",
            "Epoch 11/15\n",
            "15/15 [==============================] - 9s 596ms/step - loss: 0.6942 - accuracy: 0.4904 - val_loss: 0.6933 - val_accuracy: 0.4989\n",
            "Epoch 12/15\n",
            "15/15 [==============================] - 9s 605ms/step - loss: 0.6932 - accuracy: 0.4893 - val_loss: 0.6932 - val_accuracy: 0.4967\n",
            "Epoch 13/15\n",
            "15/15 [==============================] - 9s 595ms/step - loss: 0.6934 - accuracy: 0.5080 - val_loss: 0.6938 - val_accuracy: 0.4944\n",
            "Epoch 14/15\n",
            "15/15 [==============================] - 9s 594ms/step - loss: 0.6936 - accuracy: 0.4957 - val_loss: 0.6931 - val_accuracy: 0.5056\n",
            "Epoch 15/15\n",
            "15/15 [==============================] - 9s 596ms/step - loss: 0.6934 - accuracy: 0.5027 - val_loss: 0.6931 - val_accuracy: 0.4944\n",
            "Model using learning rate of 0.05\n",
            "Epoch 1/15\n",
            "15/15 [==============================] - 9s 609ms/step - loss: 0.6932 - accuracy: 0.5224 - val_loss: 0.6956 - val_accuracy: 0.5033\n",
            "Epoch 2/15\n",
            "15/15 [==============================] - 9s 604ms/step - loss: 0.6976 - accuracy: 0.4845 - val_loss: 0.6937 - val_accuracy: 0.5011\n",
            "Epoch 3/15\n",
            "15/15 [==============================] - 9s 597ms/step - loss: 0.6937 - accuracy: 0.5037 - val_loss: 0.6932 - val_accuracy: 0.4955\n",
            "Epoch 4/15\n",
            "15/15 [==============================] - 9s 604ms/step - loss: 0.6938 - accuracy: 0.4856 - val_loss: 0.6934 - val_accuracy: 0.4978\n",
            "Epoch 5/15\n",
            "15/15 [==============================] - 9s 607ms/step - loss: 0.6940 - accuracy: 0.4995 - val_loss: 0.6932 - val_accuracy: 0.4989\n",
            "Epoch 6/15\n",
            "15/15 [==============================] - 9s 611ms/step - loss: 0.6940 - accuracy: 0.4973 - val_loss: 0.6931 - val_accuracy: 0.5089\n",
            "Epoch 7/15\n",
            "15/15 [==============================] - 9s 608ms/step - loss: 0.6932 - accuracy: 0.5075 - val_loss: 0.6933 - val_accuracy: 0.5056\n",
            "Epoch 8/15\n",
            "15/15 [==============================] - 9s 601ms/step - loss: 0.6934 - accuracy: 0.5000 - val_loss: 0.6931 - val_accuracy: 0.4967\n",
            "Epoch 9/15\n",
            "15/15 [==============================] - 9s 613ms/step - loss: 0.6940 - accuracy: 0.5010 - val_loss: 0.6931 - val_accuracy: 0.5067\n",
            "Epoch 10/15\n",
            "15/15 [==============================] - 9s 623ms/step - loss: 0.6933 - accuracy: 0.5011 - val_loss: 0.6931 - val_accuracy: 0.4911\n",
            "Epoch 11/15\n",
            "15/15 [==============================] - 9s 610ms/step - loss: 0.6934 - accuracy: 0.4963 - val_loss: 0.6933 - val_accuracy: 0.4978\n",
            "Epoch 12/15\n",
            "15/15 [==============================] - 9s 618ms/step - loss: 0.6935 - accuracy: 0.5000 - val_loss: 0.6931 - val_accuracy: 0.5056\n",
            "Epoch 13/15\n",
            "15/15 [==============================] - 9s 608ms/step - loss: 0.6933 - accuracy: 0.5059 - val_loss: 0.6931 - val_accuracy: 0.5033\n",
            "Epoch 14/15\n",
            "15/15 [==============================] - 9s 611ms/step - loss: 0.6934 - accuracy: 0.4952 - val_loss: 0.6933 - val_accuracy: 0.5033\n",
            "Epoch 15/15\n",
            "15/15 [==============================] - 9s 614ms/step - loss: 0.6934 - accuracy: 0.5112 - val_loss: 0.6935 - val_accuracy: 0.5033\n"
          ],
          "name": "stdout"
        },
        {
          "output_type": "display_data",
          "data": {
            "image/png": "[encoded data removed]",
            "text/plain": [
              "<Figure size 432x288 with 1 Axes>"
            ]
          },
          "metadata": {
            "tags": [],
            "needs_background": "light"
          }
        }
      ]
    },
    {
      "cell_type": "code",
      "metadata": {
        "id": "7rJtqLmjYX1w",
        "colab_type": "code",
        "outputId": "da76c5d1-05fd-4ec8-83f6-5d12348adada",
        "colab": {
          "base_uri": "https://localhost:8080/",
          "height": 0
        }
      },
      "source": [
        "import tensorflow as tf\n",
        "from tensorflow.keras.models import Sequential\n",
        "from tensorflow.keras.layers import Dense, Conv2D, Flatten, Dropout, MaxPooling2D\n",
        "from tensorflow.keras.preprocessing.image import ImageDataGenerator\n",
        "from tensorflow.keras.optimizers import Adam\n",
        "\n",
        "import os\n",
        "import numpy as np\n",
        "import matplotlib.pyplot as plt\n",
        "\n",
        "_URL = 'https://storage.googleapis.com/mledu-datasets/cats_and_dogs_filtered.zip'\n",
        "\n",
        "path_to_zip = tf.keras.utils.get_file('cats_and_dogs.zip', origin=_URL, extract=True)\n",
        "\n",
        "PATH = os.path.join(os.path.dirname(path_to_zip), 'cats_and_dogs_filtered')\n",
        "\n",
        "train_dir = os.path.join(PATH, 'train')\n",
        "validation_dir = os.path.join(PATH, 'validation')\n",
        "\n",
        "train_cats_dir = os.path.join(train_dir, 'cats')  # directory with our training cat pictures\n",
        "train_dogs_dir = os.path.join(train_dir, 'dogs')  # directory with our training dog pictures\n",
        "validation_cats_dir = os.path.join(validation_dir, 'cats')  # directory with our validation cat pictures\n",
        "validation_dogs_dir = os.path.join(validation_dir, 'dogs')  # directory with our validation dog pictures\n",
        "\n",
        "num_cats_tr = len(os.listdir(train_cats_dir))\n",
        "num_dogs_tr = len(os.listdir(train_dogs_dir))\n",
        "\n",
        "num_cats_val = len(os.listdir(validation_cats_dir))\n",
        "num_dogs_val = len(os.listdir(validation_dogs_dir))\n",
        "\n",
        "total_train = num_cats_tr + num_dogs_tr\n",
        "total_val = num_cats_val + num_dogs_val\n",
        "\n",
        "batch_size = 128\n",
        "epochs = 15\n",
        "IMG_HEIGHT = 150\n",
        "IMG_WIDTH = 150\n",
        "\n",
        "train_image_generator = ImageDataGenerator(rescale=1./255,brightness_range=[0.5,1.5]) # Generator for our training data\n",
        "validation_image_generator = ImageDataGenerator(rescale=1./255,brightness_range=[0.5,1.5]) # Generator for our validation data\n",
        "\n",
        "train_data_gen = train_image_generator.flow_from_directory(batch_size=batch_size,\n",
        "                                                           directory=train_dir,\n",
        "                                                           shuffle=True,\n",
        "                                                           target_size=(IMG_HEIGHT, IMG_WIDTH),\n",
        "                                                           class_mode='binary')\n",
        "\n",
        "val_data_gen = validation_image_generator.flow_from_directory(batch_size=batch_size,\n",
        "                                                              directory=validation_dir,\n",
        "                                                              target_size=(IMG_HEIGHT, IMG_WIDTH),\n",
        "                                                              class_mode='binary')\n",
        "\n",
        "model = Sequential([\n",
        "    Conv2D(16, 3, padding='same', activation='relu', input_shape=(IMG_HEIGHT, IMG_WIDTH ,3)),\n",
        "    MaxPooling2D(),\n",
        "    Conv2D(32, 3, padding='same', activation='relu'),\n",
        "    MaxPooling2D(),\n",
        "    Conv2D(64, 3, padding='same', activation='relu'),\n",
        "    MaxPooling2D(),\n",
        "    Flatten(),\n",
        "    Dense(512, activation='relu'),\n",
        "    Dense(1)\n",
        "])\n",
        "\n",
        "optimizer = ['SGD', 'RMSprop', 'Adagrad', 'Adadelta', 'Adam', 'Adamax', 'Nadam']\n",
        "\n",
        "for i in range(7):\n",
        "\n",
        "    print(\"Model using\",optimizer[i],\"optimizer\")\n",
        "\n",
        "    model.compile(optimizer=optimizer[i], \n",
        "              loss=tf.keras.losses.BinaryCrossentropy(from_logits=True),\n",
        "              metrics=['accuracy'])\n",
        "\n",
        "    history = model.fit_generator(\n",
        "              train_data_gen,\n",
        "              steps_per_epoch=total_train // batch_size,\n",
        "              epochs=epochs,\n",
        "              validation_data=val_data_gen,\n",
        "              validation_steps=total_val // batch_size)\n",
        "    \n",
        "    plt.plot(history.history['val_accuracy'])\n",
        "\n",
        "plt.title('Validation Accuracy')\n",
        "plt.ylabel('accuracy')\n",
        "plt.xlabel('epoch')\n",
        "plt.legend(['SGD', 'RMSprop', 'Adagrad', 'Adadelta', 'Adam', 'Adamax', 'Nadam'], loc='upper left')\n",
        "plt.show()"
      ],
      "execution_count": 2,
      "outputs": [
        {
          "output_type": "error",
          "ename": "NameError",
          "evalue": "ignored",
          "traceback": [
            "\u001b[0;31m---------------------------------------------------------------------------\u001b[0m",
            "\u001b[0;31mNameError\u001b[0m                                 Traceback (most recent call last)",
            "\u001b[0;32m<ipython-input-2-559fbc13edeb>\u001b[0m in \u001b[0;36m<module>\u001b[0;34m()\u001b[0m\n\u001b[1;32m     18\u001b[0m \u001b[0mvalidation_dir\u001b[0m \u001b[0;34m=\u001b[0m \u001b[0mos\u001b[0m\u001b[0;34m.\u001b[0m\u001b[0mpath\u001b[0m\u001b[0;34m.\u001b[0m\u001b[0mjoin\u001b[0m\u001b[0;34m(\u001b[0m\u001b[0mPATH\u001b[0m\u001b[0;34m,\u001b[0m \u001b[0;34m'validation'\u001b[0m\u001b[0;34m)\u001b[0m\u001b[0;34m\u001b[0m\u001b[0;34m\u001b[0m\u001b[0m\n\u001b[1;32m     19\u001b[0m \u001b[0;34m\u001b[0m\u001b[0m\n\u001b[0;32m---> 20\u001b[0;31m \u001b[0mnum_cats_tr\u001b[0m \u001b[0;34m=\u001b[0m \u001b[0mlen\u001b[0m\u001b[0;34m(\u001b[0m\u001b[0mos\u001b[0m\u001b[0;34m.\u001b[0m\u001b[0mlistdir\u001b[0m\u001b[0;34m(\u001b[0m\u001b[0mtrain_cats_dir\u001b[0m\u001b[0;34m)\u001b[0m\u001b[0;34m)\u001b[0m\u001b[0;34m\u001b[0m\u001b[0;34m\u001b[0m\u001b[0m\n\u001b[0m\u001b[1;32m     21\u001b[0m \u001b[0mnum_dogs_tr\u001b[0m \u001b[0;34m=\u001b[0m \u001b[0mlen\u001b[0m\u001b[0;34m(\u001b[0m\u001b[0mos\u001b[0m\u001b[0;34m.\u001b[0m\u001b[0mlistdir\u001b[0m\u001b[0;34m(\u001b[0m\u001b[0mtrain_dogs_dir\u001b[0m\u001b[0;34m)\u001b[0m\u001b[0;34m)\u001b[0m\u001b[0;34m\u001b[0m\u001b[0;34m\u001b[0m\u001b[0m\n\u001b[1;32m     22\u001b[0m \u001b[0;34m\u001b[0m\u001b[0m\n",
            "\u001b[0;31mNameError\u001b[0m: name 'train_cats_dir' is not defined"
          ]
        }
      ]
    },
    {
      "cell_type": "markdown",
      "metadata": {
        "id": "2Ip33pHpNOVU",
        "colab_type": "text"
      },
      "source": [
        "# Visualizing the Conv3D and Conv2D Kernel\n",
        "https://stackoverflow.com/questions/60456336/weight-visualization-of-3d-convolutional-kernel\n",
        "\n",
        "Interesting Read that helps in visualizing the image after every layer - https://machinelearningmastery.com/how-to-visualize-filters-and-feature-maps-in-convolutional-neural-networks/\n",
        "\n",
        "Params of a layer -\n",
        "“(n* m * l+1)*k”\n",
        "- The filter size is “n*m”.\n",
        "- “l” feature maps as the input \n",
        "- “k” feature maps as output\n"
      ]
    },
    {
      "cell_type": "markdown",
      "metadata": {
        "id": "SVB8mbWfNCIF",
        "colab_type": "text"
      },
      "source": [
        "## Conv3D Visualization"
      ]
    },
    {
      "cell_type": "code",
      "metadata": {
        "id": "F96V691CNOeP",
        "colab_type": "code",
        "outputId": "5c3e41e7-a9b8-4c40-a1d8-f3eb8d8390d6",
        "colab": {
          "base_uri": "https://localhost:8080/"
        }
      },
      "source": [
        "# (1) Importing dependency\n",
        "%tensorflow_version 1.x\n",
        "import tensorflow as tf\n",
        "import keras\n",
        "from keras import backend as K\n",
        "from keras.models import Sequential\n",
        "from keras.layers import Dense, Activation, Dropout, Flatten, Conv2D, MaxPooling2D, Conv3D\n",
        "from keras.layers.normalization import BatchNormalization\n",
        "import numpy as np\n",
        "\n",
        "np.random.seed(1000)\n",
        "    \n",
        "# (2) Get Data\n",
        "import tflearn.datasets.oxflower17 as oxflower17\n",
        "x, y = oxflower17.load_data(one_hot=True)\n",
        "x = np.expand_dims(x,-1)\n",
        "    \n",
        "# (3) Create a sequential model\n",
        "model = Sequential()\n",
        "    \n",
        "# 1st Convolutional Layer\n",
        "model.add(Conv3D(filters=2, input_shape=(224,224,3,1), kernel_size=(3,3,3), strides=(4,4,4), padding='Same'))\n",
        "model.add(Activation('relu'))\n",
        "    \n",
        "# 2nd Convolutional Layer\n",
        "model.add(Conv3D(filters=4, kernel_size=(4,4,4), strides=(1,1,1), padding='Same'))\n",
        "model.add(Activation('relu'))\n",
        "    \n",
        "# 3rd Convolutional Layer\n",
        "model.add(Conv3D(filters=2, kernel_size=(4,4,4), strides=(1,1,1), padding='Same'))\n",
        "model.add(Activation('relu'))\n",
        "\n",
        "# Passing it to a dense layer\n",
        "model.add(Flatten())\n",
        "# 1st Dense Layer\n",
        "model.add(Dense(100))\n",
        "model.add(Activation('relu'))\n",
        "\n",
        "# Output Layer\n",
        "model.add(Dense(17))\n",
        "model.add(Activation('softmax'))\n",
        "\n",
        "model.summary()\n",
        "\n",
        "# (4) Compile \n",
        "model.compile(loss='categorical_crossentropy', optimizer='adam', metrics=['accuracy'])\n",
        "\n",
        "\n",
        "model.fit(x, y, batch_size=64, epochs= 4, verbose=1, validation_split=0.2, shuffle=True)"
      ],
      "execution_count": 0,
      "outputs": [
        {
          "output_type": "stream",
          "text": [
            "TensorFlow is already loaded. Please restart the runtime to change versions.\n",
            "Model: \"sequential_3\"\n",
            "_________________________________________________________________\n",
            "Layer (type)                 Output Shape              Param #   \n",
            "=================================================================\n",
            "conv3d_4 (Conv3D)            (None, 56, 56, 1, 2)      56        \n",
            "_________________________________________________________________\n",
            "activation_11 (Activation)   (None, 56, 56, 1, 2)      0         \n",
            "_________________________________________________________________\n",
            "conv3d_5 (Conv3D)            (None, 56, 56, 1, 4)      516       \n",
            "_________________________________________________________________\n",
            "activation_12 (Activation)   (None, 56, 56, 1, 4)      0         \n",
            "_________________________________________________________________\n",
            "conv3d_6 (Conv3D)            (None, 56, 56, 1, 2)      514       \n",
            "_________________________________________________________________\n",
            "activation_13 (Activation)   (None, 56, 56, 1, 2)      0         \n",
            "_________________________________________________________________\n",
            "flatten_3 (Flatten)          (None, 6272)              0         \n",
            "_________________________________________________________________\n",
            "dense_5 (Dense)              (None, 100)               627300    \n",
            "_________________________________________________________________\n",
            "activation_14 (Activation)   (None, 100)               0         \n",
            "_________________________________________________________________\n",
            "dense_6 (Dense)              (None, 17)                1717      \n",
            "_________________________________________________________________\n",
            "activation_15 (Activation)   (None, 17)                0         \n",
            "=================================================================\n",
            "Total params: 630,103\n",
            "Trainable params: 630,103\n",
            "Non-trainable params: 0\n",
            "_________________________________________________________________\n",
            "Train on 1088 samples, validate on 272 samples\n",
            "Epoch 1/4\n",
            "1088/1088 [==============================] - 1s 1ms/step - loss: 2.8280 - acc: 0.0524 - val_loss: 2.8091 - val_acc: 0.0699\n",
            "Epoch 2/4\n",
            "1088/1088 [==============================] - 1s 698us/step - loss: 2.7028 - acc: 0.1847 - val_loss: 2.5356 - val_acc: 0.2279\n",
            "Epoch 3/4\n",
            "1088/1088 [==============================] - 1s 713us/step - loss: 2.2128 - acc: 0.2978 - val_loss: 2.1192 - val_acc: 0.2574\n",
            "Epoch 4/4\n",
            "1088/1088 [==============================] - 1s 713us/step - loss: 1.7553 - acc: 0.4237 - val_loss: 1.9295 - val_acc: 0.3640\n"
          ],
          "name": "stdout"
        },
        {
          "output_type": "execute_result",
          "data": {
            "text/plain": [
              "<keras.callbacks.History at 0x7fd3d006f668>"
            ]
          },
          "metadata": {
            "tags": []
          },
          "execution_count": 3
        }
      ]
    },
    {
      "cell_type": "code",
      "metadata": {
        "id": "5-P_eKgE1yqR",
        "colab_type": "code",
        "colab": {}
      },
      "source": [
        "import numpy as np\n",
        "x = model.layers[4].kernel\n",
        "\n",
        "with tf.Session() as sess:\n",
        "    sess.run(tf.global_variables_initializer())\n",
        "    print(sess.run(x))"
      ],
      "execution_count": 0,
      "outputs": []
    },
    {
      "cell_type": "code",
      "metadata": {
        "colab_type": "code",
        "outputId": "19bc9c7b-f444-42da-9dcf-0eb5cb000dbd",
        "id": "g6rmQdDrNeYq",
        "colab": {
          "base_uri": "https://localhost:8080/"
        }
      },
      "source": [
        "# summarize filter shapes\n",
        "for layer in model.layers:\n",
        "\t# check for convolutional layer\n",
        "\tif 'conv' in layer.name:\n",
        "\t  # get filter weights\n",
        "\t  filters, biases = layer.get_weights()\n",
        "\t  print(layer.name, filters.shape)\n",
        "\t \n",
        "#print(biases)"
      ],
      "execution_count": 0,
      "outputs": [
        {
          "output_type": "stream",
          "text": [
            "conv3d_4 (3, 3, 3, 1, 2)\n",
            "conv3d_5 (4, 4, 4, 2, 4)\n",
            "conv3d_6 (4, 4, 4, 4, 2)\n"
          ],
          "name": "stdout"
        }
      ]
    },
    {
      "cell_type": "markdown",
      "metadata": {
        "id": "F4vQ3EuZqoQi",
        "colab_type": "text"
      },
      "source": [
        "### To print Color Image"
      ]
    },
    {
      "cell_type": "code",
      "metadata": {
        "colab_type": "code",
        "outputId": "2c5d4258-e392-4964-d7ad-19ca8525ba37",
        "id": "PP5fNoi1qnHV",
        "colab": {
          "base_uri": "https://localhost:8080/"
        }
      },
      "source": [
        "from matplotlib import pyplot\n",
        "\n",
        "# # summarize filter shapes\n",
        "# for layer in model.layers:\n",
        "# \t# check for convolutional layer\n",
        "# \tif 'conv' in layer.name:\n",
        "# \t  # get filter weights\n",
        "# \t  filters, biases = layer.get_weights()\n",
        "   \n",
        "# retrieve weights from the second hidden layer\n",
        "filters, biases = model.layers[4].get_weights()\n",
        "\n",
        "# normalize filter values to 0-1 so we can visualize them\n",
        "f_min, f_max = filters.min(), filters.max()\n",
        "filters = (filters - f_min) / (f_max - f_min)\n",
        "# plot first few filters\n",
        "# n_filters = outgoing channels\n",
        "outgoing_channels = 2\n",
        "n_filters, ix = outgoing_channels, 1\n",
        "for i in range(n_filters):\n",
        "\t# get the filter\n",
        "\tf = filters[:, :, :, :, i]\n",
        "\t# plot each channel separately\n",
        "\t# Range of incoming channels\n",
        "\tincoming_channels = 4\n",
        "\tfor j in range(incoming_channels):\n",
        "\t\t\t# specify subplot and turn of axis\n",
        "\t\t\tax = pyplot.subplot(3, incoming_channels, ix)\n",
        "\t\t\tax.set_xticks([])\n",
        "\t\t\tax.set_yticks([])\n",
        "\t\t\t# plot filter channel in grayscale\n",
        "\t\t\tpyplot.imshow(f[:, :, :,j], cmap='gray')\n",
        "\t\t\tix += 1\n",
        "# show the figure\n",
        "pyplot.show()"
      ],
      "execution_count": 0,
      "outputs": [
        {
          "output_type": "display_data",
          "data": {
            "image/png": "[encoded data removed]",
            "text/plain": [
              "<Figure size 432x288 with 8 Axes>"
            ]
          },
          "metadata": {
            "tags": []
          }
        }
      ]
    },
    {
      "cell_type": "markdown",
      "metadata": {
        "id": "BBM6yqw3qh3Q",
        "colab_type": "text"
      },
      "source": [
        "### To print Gray scale image"
      ]
    },
    {
      "cell_type": "code",
      "metadata": {
        "id": "vnYdGbqnZ3pg",
        "colab_type": "code",
        "outputId": "dd2d112f-229d-4299-ee37-22e8f2b63000",
        "colab": {
          "base_uri": "https://localhost:8080/"
        }
      },
      "source": [
        "from matplotlib import pyplot\n",
        "\n",
        "# # summarize filter shapes\n",
        "# for layer in model.layers:\n",
        "# \t# check for convolutional layer\n",
        "# \tif 'conv' in layer.name:\n",
        "# \t  # get filter weights\n",
        "# \t  filters, biases = layer.get_weights()\n",
        "   \n",
        "# retrieve weights from the second hidden layer\n",
        "filters, biases = model.layers[4].get_weights()\n",
        "\n",
        "# normalize filter values to 0-1 so we can visualize them\n",
        "f_min, f_max = filters.min(), filters.max()\n",
        "filters = (filters - f_min) / (f_max - f_min)\n",
        "# plot first few filters\n",
        "# n_filters = outgoing channels\n",
        "outgoing_channels = 2\n",
        "n_filters, ix = outgoing_channels, 1\n",
        "for i in range(n_filters):\n",
        "\t# get the filter\n",
        "\tf = filters[:, :, :, :, i]\n",
        "\t# plot each channel separately\n",
        "\t# Range of incoming channels\n",
        "\tincoming_channels = 4\n",
        "\tfor j in range(incoming_channels):\n",
        "\t\t# Range of Depth of the kernel .i.e. 3\n",
        "\t\tDepth = 4\n",
        "\t\tfor k in range(Depth):\n",
        "\t\t\t# specify subplot and turn of axis\n",
        "\t\t\tax = pyplot.subplot((outgoing_channels*Depth), incoming_channels, ix)\n",
        "\t\t\tax.set_xticks([])\n",
        "\t\t\tax.set_yticks([])\n",
        "\t\t\t# plot filter channel in grayscale\n",
        "\t\t\tpyplot.imshow(f[:, :, k,j], cmap='gray')\n",
        "\t\t\tix += 1\n",
        "# show the figure\n",
        "pyplot.show()"
      ],
      "execution_count": 0,
      "outputs": [
        {
          "output_type": "display_data",
          "data": {
            "image/png": "[encoded data removed]",
            "text/plain": [
              "<Figure size 432x288 with 32 Axes>"
            ]
          },
          "metadata": {
            "tags": []
          }
        }
      ]
    },
    {
      "cell_type": "markdown",
      "metadata": {
        "colab_type": "text",
        "id": "4s_VHK_PNWCO"
      },
      "source": [
        "## Conv2D Visualization"
      ]
    },
    {
      "cell_type": "code",
      "metadata": {
        "colab_type": "code",
        "outputId": "a13d4066-6386-4c6c-86c0-0d1d27415c05",
        "id": "1G6Jyc2_NP93",
        "colab": {
          "base_uri": "https://localhost:8080/"
        }
      },
      "source": [
        "# (1) Importing dependency\n",
        "%tensorflow_version 1.x\n",
        "import tensorflow as tf\n",
        "import keras\n",
        "from keras import backend as K\n",
        "from keras.models import Sequential\n",
        "from keras.layers import Dense, Activation, Dropout, Flatten, Conv2D, MaxPooling2D, Conv3D\n",
        "from keras.layers.normalization import BatchNormalization\n",
        "import numpy as np\n",
        "\n",
        "np.random.seed(1000)\n",
        "    \n",
        "# (2) Get Data\n",
        "import tflearn.datasets.oxflower17 as oxflower17\n",
        "x, y = oxflower17.load_data(one_hot=True)\n",
        "    \n",
        "# (3) Create a sequential model\n",
        "model = Sequential()\n",
        "    \n",
        "# 1st Convolutional Layer\n",
        "model.add(Conv2D(filters=2, input_shape=(224,224,3), kernel_size=(3,3), strides=(4,4), padding='Same'))\n",
        "model.add(Activation('relu'))\n",
        "    \n",
        "# 2nd Convolutional Layer\n",
        "model.add(Conv2D(filters=4, kernel_size=(3,3), strides=(1,1), padding='Same'))\n",
        "model.add(Activation('relu'))\n",
        "    \n",
        "# 3rd Convolutional Layer\n",
        "model.add(Conv2D(filters=2, kernel_size=(3,3), strides=(1,1), padding='Same'))\n",
        "model.add(Activation('relu'))\n",
        "\n",
        "# Passing it to a dense layer\n",
        "model.add(Flatten())\n",
        "# 1st Dense Layer\n",
        "model.add(Dense(100))\n",
        "model.add(Activation('relu'))\n",
        "\n",
        "# Output Layer\n",
        "model.add(Dense(17))\n",
        "model.add(Activation('softmax'))\n",
        "\n",
        "model.summary()\n",
        "\n",
        "# (4) Compile \n",
        "model.compile(loss='categorical_crossentropy', optimizer='adam', metrics=['accuracy'])\n",
        "epoch_gradient = []\n",
        "\n",
        "def get_gradient_func(model):\n",
        "    grads = K.gradients(model.total_loss, model.trainable_weights)\n",
        "    inputs = model.model._feed_inputs + model.model._feed_targets + model.model._feed_sample_weights\n",
        "    func = K.function(inputs, grads)\n",
        "    return func\n",
        "\n",
        "# Define the Required Callback Function\n",
        "class GradientCalcCallback(tf.keras.callbacks.Callback):\n",
        "  def on_epoch_end(self, epoch, logs=None):\n",
        "      get_gradient = get_gradient_func(model)\n",
        "      grads = get_gradient([x, y, np.ones(len(y))])\n",
        "      epoch_gradient.append(grads)\n",
        "    \n",
        "epoch = 4\n",
        "\n",
        "model.fit(x, y, batch_size=64, epochs= epoch, verbose=1, validation_split=0.2, shuffle=True, callbacks=[GradientCalcCallback()])\n",
        "    \n",
        "# (7) Convert to a 2 dimensiaonal array of (epoch, gradients) type\n",
        "gradient = np.asarray(epoch_gradient)\n",
        "print(\"Total number of epochs run:\", epoch)\n",
        "print(\"Gradient Array has the shape:\",gradient.shape)"
      ],
      "execution_count": 0,
      "outputs": [
        {
          "output_type": "stream",
          "text": [
            "TensorFlow 1.x selected.\n"
          ],
          "name": "stdout"
        },
        {
          "output_type": "stream",
          "text": [
            "Using TensorFlow backend.\n"
          ],
          "name": "stderr"
        },
        {
          "output_type": "stream",
          "text": [
            "WARNING:tensorflow:From /tensorflow-1.15.2/python3.6/tflearn/helpers/summarizer.py:9: The name tf.summary.merge is deprecated. Please use tf.compat.v1.summary.merge instead.\n",
            "\n",
            "WARNING:tensorflow:From /tensorflow-1.15.2/python3.6/tflearn/helpers/trainer.py:25: The name tf.summary.FileWriter is deprecated. Please use tf.compat.v1.summary.FileWriter instead.\n",
            "\n",
            "WARNING:tensorflow:From /tensorflow-1.15.2/python3.6/tflearn/collections.py:13: The name tf.GraphKeys is deprecated. Please use tf.compat.v1.GraphKeys instead.\n",
            "\n",
            "WARNING:tensorflow:From /tensorflow-1.15.2/python3.6/tflearn/config.py:123: The name tf.get_collection is deprecated. Please use tf.compat.v1.get_collection instead.\n",
            "\n",
            "WARNING:tensorflow:From /tensorflow-1.15.2/python3.6/tflearn/config.py:129: The name tf.add_to_collection is deprecated. Please use tf.compat.v1.add_to_collection instead.\n",
            "\n",
            "WARNING:tensorflow:From /tensorflow-1.15.2/python3.6/tflearn/config.py:131: The name tf.assign is deprecated. Please use tf.compat.v1.assign instead.\n",
            "\n",
            "Downloading Oxford 17 category Flower Dataset, Please wait...\n"
          ],
          "name": "stdout"
        },
        {
          "output_type": "stream",
          "text": [
            "100.0% 60276736 / 60270631\n"
          ],
          "name": "stderr"
        },
        {
          "output_type": "stream",
          "text": [
            "('Succesfully downloaded', '17flowers.tgz', 60270631, 'bytes.')\n",
            "File Extracted\n",
            "Starting to parse images...\n",
            "Parsing Done!\n",
            "WARNING:tensorflow:From /usr/local/lib/python3.6/dist-packages/keras/backend/tensorflow_backend.py:66: The name tf.get_default_graph is deprecated. Please use tf.compat.v1.get_default_graph instead.\n",
            "\n",
            "WARNING:tensorflow:From /usr/local/lib/python3.6/dist-packages/keras/backend/tensorflow_backend.py:541: The name tf.placeholder is deprecated. Please use tf.compat.v1.placeholder instead.\n",
            "\n",
            "WARNING:tensorflow:From /usr/local/lib/python3.6/dist-packages/keras/backend/tensorflow_backend.py:4432: The name tf.random_uniform is deprecated. Please use tf.random.uniform instead.\n",
            "\n",
            "Model: \"sequential_1\"\n",
            "_________________________________________________________________\n",
            "Layer (type)                 Output Shape              Param #   \n",
            "=================================================================\n",
            "conv2d_1 (Conv2D)            (None, 56, 56, 2)         56        \n",
            "_________________________________________________________________\n",
            "activation_1 (Activation)    (None, 56, 56, 2)         0         \n",
            "_________________________________________________________________\n",
            "conv2d_2 (Conv2D)            (None, 56, 56, 4)         76        \n",
            "_________________________________________________________________\n",
            "activation_2 (Activation)    (None, 56, 56, 4)         0         \n",
            "_________________________________________________________________\n",
            "conv2d_3 (Conv2D)            (None, 56, 56, 2)         74        \n",
            "_________________________________________________________________\n",
            "activation_3 (Activation)    (None, 56, 56, 2)         0         \n",
            "_________________________________________________________________\n",
            "flatten_1 (Flatten)          (None, 6272)              0         \n",
            "_________________________________________________________________\n",
            "dense_1 (Dense)              (None, 100)               627300    \n",
            "_________________________________________________________________\n",
            "activation_4 (Activation)    (None, 100)               0         \n",
            "_________________________________________________________________\n",
            "dense_2 (Dense)              (None, 17)                1717      \n",
            "_________________________________________________________________\n",
            "activation_5 (Activation)    (None, 17)                0         \n",
            "=================================================================\n",
            "Total params: 629,223\n",
            "Trainable params: 629,223\n",
            "Non-trainable params: 0\n",
            "_________________________________________________________________\n",
            "WARNING:tensorflow:From /usr/local/lib/python3.6/dist-packages/keras/optimizers.py:793: The name tf.train.Optimizer is deprecated. Please use tf.compat.v1.train.Optimizer instead.\n",
            "\n",
            "WARNING:tensorflow:From /usr/local/lib/python3.6/dist-packages/keras/backend/tensorflow_backend.py:3576: The name tf.log is deprecated. Please use tf.math.log instead.\n",
            "\n",
            "WARNING:tensorflow:From /tensorflow-1.15.2/python3.6/tensorflow_core/python/ops/math_grad.py:1424: where (from tensorflow.python.ops.array_ops) is deprecated and will be removed in a future version.\n",
            "Instructions for updating:\n",
            "Use tf.where in 2.0, which has the same broadcast rule as np.where\n",
            "WARNING:tensorflow:From /usr/local/lib/python3.6/dist-packages/keras/backend/tensorflow_backend.py:1033: The name tf.assign_add is deprecated. Please use tf.compat.v1.assign_add instead.\n",
            "\n",
            "WARNING:tensorflow:From /usr/local/lib/python3.6/dist-packages/keras/backend/tensorflow_backend.py:3005: The name tf.Session is deprecated. Please use tf.compat.v1.Session instead.\n",
            "\n",
            "Train on 1088 samples, validate on 272 samples\n",
            "Epoch 1/4\n",
            "WARNING:tensorflow:From /usr/local/lib/python3.6/dist-packages/keras/backend/tensorflow_backend.py:190: The name tf.get_default_session is deprecated. Please use tf.compat.v1.get_default_session instead.\n",
            "\n",
            "WARNING:tensorflow:From /usr/local/lib/python3.6/dist-packages/keras/backend/tensorflow_backend.py:197: The name tf.ConfigProto is deprecated. Please use tf.compat.v1.ConfigProto instead.\n",
            "\n",
            "WARNING:tensorflow:From /usr/local/lib/python3.6/dist-packages/keras/backend/tensorflow_backend.py:207: The name tf.global_variables is deprecated. Please use tf.compat.v1.global_variables instead.\n",
            "\n",
            "WARNING:tensorflow:From /usr/local/lib/python3.6/dist-packages/keras/backend/tensorflow_backend.py:216: The name tf.is_variable_initialized is deprecated. Please use tf.compat.v1.is_variable_initialized instead.\n",
            "\n",
            "WARNING:tensorflow:From /usr/local/lib/python3.6/dist-packages/keras/backend/tensorflow_backend.py:223: The name tf.variables_initializer is deprecated. Please use tf.compat.v1.variables_initializer instead.\n",
            "\n",
            "1088/1088 [==============================] - 14s 13ms/step - loss: 2.8319 - acc: 0.0533 - val_loss: 2.8246 - val_acc: 0.0662\n"
          ],
          "name": "stdout"
        },
        {
          "output_type": "stream",
          "text": [
            "/usr/local/lib/python3.6/dist-packages/keras/engine/sequential.py:111: UserWarning: `Sequential.model` is deprecated. `Sequential` is a subclass of `Model`, you can just use your `Sequential` instance directly.\n",
            "  warnings.warn('`Sequential.model` is deprecated. '\n"
          ],
          "name": "stderr"
        },
        {
          "output_type": "stream",
          "text": [
            "Epoch 2/4\n",
            "1088/1088 [==============================] - 1s 567us/step - loss: 2.7434 - acc: 0.2426 - val_loss: 2.7336 - val_acc: 0.1250\n"
          ],
          "name": "stdout"
        },
        {
          "output_type": "stream",
          "text": [
            "/usr/local/lib/python3.6/dist-packages/keras/engine/sequential.py:111: UserWarning: `Sequential.model` is deprecated. `Sequential` is a subclass of `Model`, you can just use your `Sequential` instance directly.\n",
            "  warnings.warn('`Sequential.model` is deprecated. '\n"
          ],
          "name": "stderr"
        },
        {
          "output_type": "stream",
          "text": [
            "Epoch 3/4\n",
            "1088/1088 [==============================] - 1s 579us/step - loss: 2.2730 - acc: 0.4384 - val_loss: 2.4033 - val_acc: 0.2794\n"
          ],
          "name": "stdout"
        },
        {
          "output_type": "stream",
          "text": [
            "/usr/local/lib/python3.6/dist-packages/keras/engine/sequential.py:111: UserWarning: `Sequential.model` is deprecated. `Sequential` is a subclass of `Model`, you can just use your `Sequential` instance directly.\n",
            "  warnings.warn('`Sequential.model` is deprecated. '\n"
          ],
          "name": "stderr"
        },
        {
          "output_type": "stream",
          "text": [
            "Epoch 4/4\n",
            "1088/1088 [==============================] - 1s 555us/step - loss: 1.3170 - acc: 0.6884 - val_loss: 2.2917 - val_acc: 0.2794\n"
          ],
          "name": "stdout"
        },
        {
          "output_type": "stream",
          "text": [
            "/usr/local/lib/python3.6/dist-packages/keras/engine/sequential.py:111: UserWarning: `Sequential.model` is deprecated. `Sequential` is a subclass of `Model`, you can just use your `Sequential` instance directly.\n",
            "  warnings.warn('`Sequential.model` is deprecated. '\n"
          ],
          "name": "stderr"
        },
        {
          "output_type": "stream",
          "text": [
            "Total number of epochs run: 4\n",
            "Gradient Array has the shape: (4, 10)\n"
          ],
          "name": "stdout"
        }
      ]
    },
    {
      "cell_type": "code",
      "metadata": {
        "id": "qwSYQQEW9vDj",
        "colab_type": "code",
        "outputId": "8cde4e2a-88f5-4416-9858-8523bfcfdb09",
        "colab": {
          "base_uri": "https://localhost:8080/",
          "height": 799
        }
      },
      "source": [
        "import numpy as np\n",
        "x = model.layers[4].kernel\n",
        "gr = tf.get_default_graph()\n",
        "\n",
        "with tf.Session() as sess:\n",
        "    sess.run(tf.global_variables_initializer())\n",
        "    conv1_kernel_val = gr.get_tensor_by_name('conv1/kernel:0').eval()\n",
        "    print(sess.run(x))"
      ],
      "execution_count": 0,
      "outputs": [
        {
          "output_type": "stream",
          "text": [
            "[[[[-0.07628679  0.31725606]\n",
            "   [-0.29280648  0.10707554]\n",
            "   [-0.1409379  -0.14117424]\n",
            "   [-0.04934797 -0.17769067]]\n",
            "\n",
            "  [[-0.22811215  0.2088342 ]\n",
            "   [ 0.12845007 -0.10234594]\n",
            "   [ 0.29518536  0.22939327]\n",
            "   [-0.102254   -0.16633217]]\n",
            "\n",
            "  [[ 0.23566589  0.06252447]\n",
            "   [ 0.12485743 -0.2845057 ]\n",
            "   [ 0.17910227 -0.09911792]\n",
            "   [ 0.09142479 -0.17152238]]]\n",
            "\n",
            "\n",
            " [[[-0.23811015 -0.16541886]\n",
            "   [-0.33333215 -0.13665256]\n",
            "   [ 0.09643212  0.07662854]\n",
            "   [ 0.05305314 -0.23696613]]\n",
            "\n",
            "  [[ 0.0339109   0.16784325]\n",
            "   [-0.04169551 -0.0482665 ]\n",
            "   [ 0.08657351  0.12973014]\n",
            "   [ 0.05880824  0.05947757]]\n",
            "\n",
            "  [[ 0.11017862 -0.14729127]\n",
            "   [ 0.2464253  -0.19549426]\n",
            "   [-0.2609269   0.25060275]\n",
            "   [-0.26333413 -0.13276713]]]\n",
            "\n",
            "\n",
            " [[[-0.06246376  0.0363799 ]\n",
            "   [-0.02949128  0.32878068]\n",
            "   [ 0.15073076 -0.30452785]\n",
            "   [-0.24252614 -0.09735529]]\n",
            "\n",
            "  [[ 0.23945466  0.01562142]\n",
            "   [ 0.22383246  0.09923801]\n",
            "   [-0.2536789  -0.09304142]\n",
            "   [-0.22144732  0.3057051 ]]\n",
            "\n",
            "  [[ 0.05687061 -0.2811746 ]\n",
            "   [-0.2436115  -0.1616823 ]\n",
            "   [ 0.06709924 -0.24549572]\n",
            "   [ 0.04901949 -0.06542149]]]]\n"
          ],
          "name": "stdout"
        }
      ]
    },
    {
      "cell_type": "code",
      "metadata": {
        "colab_type": "code",
        "outputId": "4a22d8ba-a297-43c2-b58a-36280e0b695c",
        "id": "lQneZbNRNP98",
        "colab": {
          "base_uri": "https://localhost:8080/",
          "height": 68
        }
      },
      "source": [
        "# summarize filter shapes\n",
        "for layer in model.layers:\n",
        "\t# check for convolutional layer\n",
        "\tif 'conv' in layer.name:\n",
        "\t  # get filter weights\n",
        "\t  filters, biases = layer.get_weights()\n",
        "\t  print(layer.name, filters.shape)\n",
        "\t \n",
        "#print(filters[:,:,:,0])"
      ],
      "execution_count": 0,
      "outputs": [
        {
          "output_type": "stream",
          "text": [
            "conv2d_4 (3, 3, 3, 2)\n",
            "conv2d_5 (3, 3, 2, 4)\n",
            "conv2d_6 (3, 3, 4, 2)\n"
          ],
          "name": "stdout"
        }
      ]
    },
    {
      "cell_type": "code",
      "metadata": {
        "colab_type": "code",
        "outputId": "d82d2727-0fe7-4a83-cf25-de643d609776",
        "id": "xnNFITm2NP-E",
        "colab": {
          "base_uri": "https://localhost:8080/",
          "height": 252
        }
      },
      "source": [
        "from matplotlib import pyplot\n",
        "\n",
        "# # summarize filter shapes\n",
        "# for layer in model.layers:\n",
        "# \t# check for convolutional layer\n",
        "# \tif 'conv' in layer.name:\n",
        "# \t  # get filter weights\n",
        "# \t  filters, biases = layer.get_weights()\n",
        "   \n",
        "# retrieve weights from the second hidden layer\n",
        "filters, biases = model.layers[4].get_weights()\n",
        "\n",
        "# normalize filter values to 0-1 so we can visualize them\n",
        "f_min, f_max = filters.min(), filters.max()\n",
        "filters = (filters - f_min) / (f_max - f_min)\n",
        "# plot first few filters\n",
        "# n_filters = outgoing filters\n",
        "n_filters, ix = 2, 1 \n",
        "for i in range(n_filters):\n",
        "\t# get the filter\n",
        "\tf = filters[:, :, :, i]\n",
        "\t#print(f)\n",
        "\t# plot each channel separately\n",
        "\t# Range of incoming filters\n",
        "\tfor j in range(4):\n",
        "\t\t# specify subplot and turn of axis\n",
        "\t\tax = pyplot.subplot(3, 3, ix)\n",
        "\t\tax.set_xticks([])\n",
        "\t\tax.set_yticks([])\n",
        "\t\t# plot filter channel in grayscale\n",
        "\t\tpyplot.imshow(f[:, :, j], cmap='gray')\n",
        "\t  #print(f[:, :, j])\n",
        "\t\tix += 1\n",
        "# show the figure\n",
        "pyplot.show()"
      ],
      "execution_count": 0,
      "outputs": [
        {
          "output_type": "display_data",
          "data": {
            "image/png": "[encoded data removed]",
            "text/plain": [
              "<Figure size 432x288 with 8 Axes>"
            ]
          },
          "metadata": {
            "tags": []
          }
        }
      ]
    },
    {
      "cell_type": "markdown",
      "metadata": {
        "id": "Wjw2f-GyThTk",
        "colab_type": "text"
      },
      "source": [
        "# Tensorflow Reduce_max\n",
        "https://stackoverflow.com/questions/60277848/tensorflow-reduce-max-for-different-dimensions"
      ]
    },
    {
      "cell_type": "code",
      "metadata": {
        "id": "0-OCxARrThgJ",
        "colab_type": "code",
        "outputId": "d9069138-1565-411e-d052-fab527b16df1",
        "colab": {
          "base_uri": "https://localhost:8080/",
          "height": 254
        }
      },
      "source": [
        "%tensorflow_version 2.x\n",
        "import tensorflow as tf\n",
        "\n",
        "# Create a Ragged Tensor of variable length\n",
        "rt = tf.ragged.constant([[9, 8, 7], [], [6, 5], [4]])\n",
        "print(\"Ragged Tensor:\",\"\\n\",rt,\"\\n\")\n",
        "\n",
        "# Convert to Tensor to have same length\n",
        "rt = rt.to_tensor()\n",
        "print(\"Tensor of same length:\",\"\\n\",rt,\"\\n\")\n",
        "\n",
        "# Apply reduce_max to get the max value along axis=1\n",
        "rt = tf.reduce_max(rt, axis=1)\n",
        "print(\"Reduce Max Tensor:\",\"\\n\",rt,\"\\n\")"
      ],
      "execution_count": 0,
      "outputs": [
        {
          "output_type": "stream",
          "text": [
            "Ragged Tensor: \n",
            " <tf.RaggedTensor [[9, 8, 7], [], [6, 5], [4]]> \n",
            "\n",
            "Tensor of same length: \n",
            " tf.Tensor(\n",
            "[[9 8 7]\n",
            " [0 0 0]\n",
            " [6 5 0]\n",
            " [4 0 0]], shape=(4, 3), dtype=int32) \n",
            "\n",
            "Reduce Max Tensor: \n",
            " tf.Tensor([9 0 6 4], shape=(4,), dtype=int32) \n",
            "\n"
          ],
          "name": "stdout"
        }
      ]
    },
    {
      "cell_type": "markdown",
      "metadata": {
        "id": "hzPFRXDg4Di0",
        "colab_type": "text"
      },
      "source": [
        "# Save and Load Model\n",
        "https://stackoverflow.com/questions/60198878/proper-way-to-save-model-in-keras\n",
        "\n",
        "Good Article for Load and Save in Keras - https://machinelearningmastery.com/save-load-keras-deep-learning-models/"
      ]
    },
    {
      "cell_type": "markdown",
      "metadata": {
        "id": "6kEKp1C76nw6",
        "colab_type": "text"
      },
      "source": [
        "## Build and Save the Model"
      ]
    },
    {
      "cell_type": "code",
      "metadata": {
        "id": "DeSykV1cqtSm",
        "colab_type": "code",
        "outputId": "6ba6877c-33f5-4a33-e2c3-4be5b2f7e936",
        "colab": {
          "base_uri": "https://localhost:8080/",
          "height": 308
        }
      },
      "source": [
        "# MLP for Pima Indians Dataset saved to single file\n",
        "import numpy as np\n",
        "from numpy import loadtxt\n",
        "from keras.models import Sequential\n",
        "from keras.layers import Dense\n",
        "\n",
        "# load pima indians dataset\n",
        "dataset = np.loadtxt(\"/content/pima-indians-diabetes.csv\", delimiter=\",\")\n",
        "\n",
        "# split into input (X) and output (Y) variables\n",
        "X = dataset[:,0:8]\n",
        "Y = dataset[:,8]\n",
        "\n",
        "# define model\n",
        "model = Sequential()\n",
        "model.add(Dense(12, input_dim=8, activation='relu'))\n",
        "model.add(Dense(8, activation='relu'))\n",
        "model.add(Dense(1, activation='sigmoid'))\n",
        "\n",
        "# compile model\n",
        "model.compile(loss='binary_crossentropy', optimizer='adam', metrics=['accuracy'])\n",
        "\n",
        "# Model Summary\n",
        "model.summary()\n",
        "\n",
        "# Fit the model\n",
        "model.fit(X, Y, epochs=150, batch_size=10, verbose=0)\n",
        "\n",
        "# evaluate the model\n",
        "scores = model.evaluate(X, Y, verbose=0)\n",
        "print(\"%s: %.2f%%\" % (model.metrics_names[1], scores[1]*100))\n",
        "\n",
        "# save model and architecture to single file\n",
        "model.save(\"model.h5\")\n",
        "print(\"Saved model to disk\")"
      ],
      "execution_count": 0,
      "outputs": [
        {
          "output_type": "stream",
          "text": [
            "Model: \"sequential_3\"\n",
            "_________________________________________________________________\n",
            "Layer (type)                 Output Shape              Param #   \n",
            "=================================================================\n",
            "dense_7 (Dense)              (None, 12)                108       \n",
            "_________________________________________________________________\n",
            "dense_8 (Dense)              (None, 8)                 104       \n",
            "_________________________________________________________________\n",
            "dense_9 (Dense)              (None, 1)                 9         \n",
            "=================================================================\n",
            "Total params: 221\n",
            "Trainable params: 221\n",
            "Non-trainable params: 0\n",
            "_________________________________________________________________\n",
            "acc: 77.08%\n",
            "Saved model to disk\n"
          ],
          "name": "stdout"
        }
      ]
    },
    {
      "cell_type": "markdown",
      "metadata": {
        "id": "cWYVNZs-6ujU",
        "colab_type": "text"
      },
      "source": [
        "## Load the Model"
      ]
    },
    {
      "cell_type": "code",
      "metadata": {
        "id": "Cw7iWQwy5KP8",
        "colab_type": "code",
        "outputId": "eb78d817-a764-4b1a-9af3-68a3ea75f74a",
        "colab": {
          "base_uri": "https://localhost:8080/",
          "height": 290
        }
      },
      "source": [
        "# load and evaluate a saved model\n",
        "from numpy import loadtxt\n",
        "from keras.models import load_model\n",
        " \n",
        "# load model\n",
        "model = load_model('model.h5')\n",
        "\n",
        "# summarize model.\n",
        "model.summary()\n",
        "\n",
        "# load dataset\n",
        "dataset = loadtxt(\"pima-indians-diabetes.csv\", delimiter=\",\")\n",
        "\n",
        "# split into input (X) and output (Y) variables\n",
        "X = dataset[:,0:8]\n",
        "Y = dataset[:,8]\n",
        "\n",
        "# evaluate the model\n",
        "score = model.evaluate(X, Y, verbose=0)\n",
        "print(\"%s: %.2f%%\" % (model.metrics_names[1], score[1]*100))"
      ],
      "execution_count": 0,
      "outputs": [
        {
          "output_type": "stream",
          "text": [
            "Model: \"sequential_3\"\n",
            "_________________________________________________________________\n",
            "Layer (type)                 Output Shape              Param #   \n",
            "=================================================================\n",
            "dense_7 (Dense)              (None, 12)                108       \n",
            "_________________________________________________________________\n",
            "dense_8 (Dense)              (None, 8)                 104       \n",
            "_________________________________________________________________\n",
            "dense_9 (Dense)              (None, 1)                 9         \n",
            "=================================================================\n",
            "Total params: 221\n",
            "Trainable params: 221\n",
            "Non-trainable params: 0\n",
            "_________________________________________________________________\n",
            "acc: 77.08%\n"
          ],
          "name": "stdout"
        }
      ]
    },
    {
      "cell_type": "markdown",
      "metadata": {
        "id": "0fARWvSOS0xo",
        "colab_type": "text"
      },
      "source": [
        "# Feed Dict Example\n"
      ]
    },
    {
      "cell_type": "code",
      "metadata": {
        "id": "PYzDEyNw-qYu",
        "colab_type": "code",
        "outputId": "8adf273d-edbd-4d44-8412-f382940ad0de",
        "colab": {
          "base_uri": "https://localhost:8080/",
          "height": 34
        }
      },
      "source": [
        "%tensorflow_version 1.x\n",
        "import tensorflow as tf\n",
        "\n",
        "x = tf.placeholder(tf.float32)\n",
        "y = x * 42\n",
        "\n",
        "with tf.Session() as sess:\n",
        "  train_accuracy = y.eval(session=sess,feed_dict={x: (2, 4)})\n",
        "  print(train_accuracy)"
      ],
      "execution_count": 0,
      "outputs": [
        {
          "output_type": "stream",
          "text": [
            "[ 84. 168.]\n"
          ],
          "name": "stdout"
        }
      ]
    },
    {
      "cell_type": "markdown",
      "metadata": {
        "id": "sUvdRR4EyO6-",
        "colab_type": "text"
      },
      "source": [
        "# Dealing with Session Error Explained\n",
        "https://stackoverflow.com/questions/61006702/cannot-use-the-given-session-to-evaluate-tensor-the-tensors-graph-is-different"
      ]
    },
    {
      "cell_type": "markdown",
      "metadata": {
        "id": "nj1v2ptOIvyc",
        "colab_type": "text"
      },
      "source": [
        "## Simple Error and Fix "
      ]
    },
    {
      "cell_type": "code",
      "metadata": {
        "id": "eybmrlAanGFK",
        "colab_type": "code",
        "outputId": "765073db-13b0-4c71-b4fe-a04db6b5d3be",
        "colab": {
          "base_uri": "https://localhost:8080/",
          "height": 394
        }
      },
      "source": [
        "%tensorflow_version 1.x\n",
        "import tensorflow as tf\n",
        "\n",
        "g = tf.Graph()\n",
        "with g.as_default():\n",
        "  x = tf.constant(1.0)  # x is created in graph g\n",
        "\n",
        "s = tf.Session(graph=g)\n",
        "with s.as_default() as sess:\n",
        "  print(x.eval()) # x was created in graph g and it is evaluated in session s\n",
        "                  # which is tied to graph g, so everything is ok.\n",
        "  y = tf.constant(2.0) # y is created in TensorFlow's default graph!!!\n",
        "  print(y.eval()) # y was created in TF's default graph, but it is evaluated in\n",
        "                  # session s which is tied to graph g => ERROR"
      ],
      "execution_count": 0,
      "outputs": [
        {
          "output_type": "stream",
          "text": [
            "1.0\n"
          ],
          "name": "stdout"
        },
        {
          "output_type": "error",
          "ename": "ValueError",
          "evalue": "ignored",
          "traceback": [
            "\u001b[0;31m---------------------------------------------------------------------------\u001b[0m",
            "\u001b[0;31mValueError\u001b[0m                                Traceback (most recent call last)",
            "\u001b[0;32m<ipython-input-3-56f6710c85ae>\u001b[0m in \u001b[0;36m<module>\u001b[0;34m()\u001b[0m\n\u001b[1;32m     11\u001b[0m                   \u001b[0;31m# which is tied to graph g, so everything is ok.\u001b[0m\u001b[0;34m\u001b[0m\u001b[0;34m\u001b[0m\u001b[0;34m\u001b[0m\u001b[0m\n\u001b[1;32m     12\u001b[0m   \u001b[0my\u001b[0m \u001b[0;34m=\u001b[0m \u001b[0mtf\u001b[0m\u001b[0;34m.\u001b[0m\u001b[0mconstant\u001b[0m\u001b[0;34m(\u001b[0m\u001b[0;36m2.0\u001b[0m\u001b[0;34m)\u001b[0m \u001b[0;31m# y is created in TensorFlow's default graph!!!\u001b[0m\u001b[0;34m\u001b[0m\u001b[0;34m\u001b[0m\u001b[0m\n\u001b[0;32m---> 13\u001b[0;31m   \u001b[0mprint\u001b[0m\u001b[0;34m(\u001b[0m\u001b[0my\u001b[0m\u001b[0;34m.\u001b[0m\u001b[0meval\u001b[0m\u001b[0;34m(\u001b[0m\u001b[0;34m)\u001b[0m\u001b[0;34m)\u001b[0m \u001b[0;31m# y was created in TF's default graph, but it is evaluated in\u001b[0m\u001b[0;34m\u001b[0m\u001b[0;34m\u001b[0m\u001b[0m\n\u001b[0m\u001b[1;32m     14\u001b[0m                   \u001b[0;31m# session s which is tied to graph g => ERROR\u001b[0m\u001b[0;34m\u001b[0m\u001b[0;34m\u001b[0m\u001b[0;34m\u001b[0m\u001b[0m\n",
            "\u001b[0;32m/tensorflow-1.15.2/python3.6/tensorflow_core/python/framework/ops.py\u001b[0m in \u001b[0;36meval\u001b[0;34m(self, feed_dict, session)\u001b[0m\n\u001b[1;32m    796\u001b[0m \u001b[0;34m\u001b[0m\u001b[0m\n\u001b[1;32m    797\u001b[0m     \"\"\"\n\u001b[0;32m--> 798\u001b[0;31m     \u001b[0;32mreturn\u001b[0m \u001b[0m_eval_using_default_session\u001b[0m\u001b[0;34m(\u001b[0m\u001b[0mself\u001b[0m\u001b[0;34m,\u001b[0m \u001b[0mfeed_dict\u001b[0m\u001b[0;34m,\u001b[0m \u001b[0mself\u001b[0m\u001b[0;34m.\u001b[0m\u001b[0mgraph\u001b[0m\u001b[0;34m,\u001b[0m \u001b[0msession\u001b[0m\u001b[0;34m)\u001b[0m\u001b[0;34m\u001b[0m\u001b[0;34m\u001b[0m\u001b[0m\n\u001b[0m\u001b[1;32m    799\u001b[0m \u001b[0;34m\u001b[0m\u001b[0m\n\u001b[1;32m    800\u001b[0m   \u001b[0;32mdef\u001b[0m \u001b[0mexperimental_ref\u001b[0m\u001b[0;34m(\u001b[0m\u001b[0mself\u001b[0m\u001b[0;34m)\u001b[0m\u001b[0;34m:\u001b[0m\u001b[0;34m\u001b[0m\u001b[0;34m\u001b[0m\u001b[0m\n",
            "\u001b[0;32m/tensorflow-1.15.2/python3.6/tensorflow_core/python/framework/ops.py\u001b[0m in \u001b[0;36m_eval_using_default_session\u001b[0;34m(tensors, feed_dict, graph, session)\u001b[0m\n\u001b[1;32m   5396\u001b[0m                        \"`eval(session=sess)`\")\n\u001b[1;32m   5397\u001b[0m     \u001b[0;32mif\u001b[0m \u001b[0msession\u001b[0m\u001b[0;34m.\u001b[0m\u001b[0mgraph\u001b[0m \u001b[0;32mis\u001b[0m \u001b[0;32mnot\u001b[0m \u001b[0mgraph\u001b[0m\u001b[0;34m:\u001b[0m\u001b[0;34m\u001b[0m\u001b[0;34m\u001b[0m\u001b[0m\n\u001b[0;32m-> 5398\u001b[0;31m       raise ValueError(\"Cannot use the default session to evaluate tensor: \"\n\u001b[0m\u001b[1;32m   5399\u001b[0m                        \u001b[0;34m\"the tensor's graph is different from the session's \"\u001b[0m\u001b[0;34m\u001b[0m\u001b[0;34m\u001b[0m\u001b[0m\n\u001b[1;32m   5400\u001b[0m                        \u001b[0;34m\"graph. Pass an explicit session to \"\u001b[0m\u001b[0;34m\u001b[0m\u001b[0;34m\u001b[0m\u001b[0m\n",
            "\u001b[0;31mValueError\u001b[0m: Cannot use the default session to evaluate tensor: the tensor's graph is different from the session's graph. Pass an explicit session to `eval(session=sess)`."
          ]
        }
      ]
    },
    {
      "cell_type": "code",
      "metadata": {
        "id": "KhZjS6zEqHYg",
        "colab_type": "code",
        "outputId": "cdbf2509-90ca-4d6b-f90e-ce9741d8a828",
        "colab": {
          "base_uri": "https://localhost:8080/",
          "height": 51
        }
      },
      "source": [
        "%tensorflow_version 1.x\n",
        "import tensorflow as tf\n",
        "\n",
        "g = tf.Graph()\n",
        "with g.as_default():\n",
        "  x = tf.constant(1.0)  # x is created in graph g\n",
        "  y = tf.constant(2.0) # y is created in graph g\n",
        "\n",
        "s = tf.Session(graph=g)\n",
        "with s.as_default() as sess:\n",
        "  print(x.eval()) # x was created in graph g and it is evaluated in session s\n",
        "                         # which is tied to graph g, so everything is ok.\n",
        "  print(y.eval()) # y was created in graph g and it is evaluated in session s\n",
        "                         # which is tied to graph g, so everything is ok."
      ],
      "execution_count": 0,
      "outputs": [
        {
          "output_type": "stream",
          "text": [
            "1.0\n",
            "2.0\n"
          ],
          "name": "stdout"
        }
      ]
    },
    {
      "cell_type": "markdown",
      "metadata": {
        "id": "ssuiDS6xJxkn",
        "colab_type": "text"
      },
      "source": [
        "## Error and Fix Explained in Detail"
      ]
    },
    {
      "cell_type": "markdown",
      "metadata": {
        "id": "nvI2gcXuUZ_A",
        "colab_type": "text"
      },
      "source": [
        "### Error with default session and using variable created in another graph"
      ]
    },
    {
      "cell_type": "code",
      "metadata": {
        "colab_type": "code",
        "outputId": "c68196dd-39c9-4e4f-b074-9630c2d3d207",
        "id": "_MjHucq4TEJ7",
        "colab": {
          "base_uri": "https://localhost:8080/",
          "height": 391
        }
      },
      "source": [
        "%tensorflow_version 1.x\n",
        "import tensorflow as tf\n",
        "\n",
        "g = tf.Graph()\n",
        "with g.as_default():\n",
        "  x = tf.constant(1.0)  # x is created in graph g\n",
        "\n",
        "with tf.Session().as_default() as sess:\n",
        "  y = tf.constant(2.0) # y is created in TensorFlow's default graph!!!\n",
        "  print(y.eval(session=sess)) # y was created in TF's default graph, and is evaluated in\n",
        "                  # default session, so everything is ok.  \n",
        "  print(x.eval(session=sess)) # x was created in graph g and it is evaluated in session s\n",
        "                  # which is tied to graph g, but it is evaluated in\n",
        "                  # session s which is tied to graph g => ERROR"
      ],
      "execution_count": 0,
      "outputs": [
        {
          "output_type": "stream",
          "text": [
            "2.0\n"
          ],
          "name": "stdout"
        },
        {
          "output_type": "error",
          "ename": "ValueError",
          "evalue": "ignored",
          "traceback": [
            "\u001b[0;31m---------------------------------------------------------------------------\u001b[0m",
            "\u001b[0;31mValueError\u001b[0m                                Traceback (most recent call last)",
            "\u001b[0;32m<ipython-input-5-f35cb204cf59>\u001b[0m in \u001b[0;36m<module>\u001b[0;34m()\u001b[0m\n\u001b[1;32m     10\u001b[0m   \u001b[0mprint\u001b[0m\u001b[0;34m(\u001b[0m\u001b[0my\u001b[0m\u001b[0;34m.\u001b[0m\u001b[0meval\u001b[0m\u001b[0;34m(\u001b[0m\u001b[0msession\u001b[0m\u001b[0;34m=\u001b[0m\u001b[0msess\u001b[0m\u001b[0;34m)\u001b[0m\u001b[0;34m)\u001b[0m \u001b[0;31m# y was created in TF's default graph, and is evaluated in\u001b[0m\u001b[0;34m\u001b[0m\u001b[0;34m\u001b[0m\u001b[0m\n\u001b[1;32m     11\u001b[0m                   \u001b[0;31m# default session, so everything is ok.\u001b[0m\u001b[0;34m\u001b[0m\u001b[0;34m\u001b[0m\u001b[0;34m\u001b[0m\u001b[0m\n\u001b[0;32m---> 12\u001b[0;31m   \u001b[0mprint\u001b[0m\u001b[0;34m(\u001b[0m\u001b[0mx\u001b[0m\u001b[0;34m.\u001b[0m\u001b[0meval\u001b[0m\u001b[0;34m(\u001b[0m\u001b[0msession\u001b[0m\u001b[0;34m=\u001b[0m\u001b[0msess\u001b[0m\u001b[0;34m)\u001b[0m\u001b[0;34m)\u001b[0m \u001b[0;31m# x was created in graph g and it is evaluated in session s\u001b[0m\u001b[0;34m\u001b[0m\u001b[0;34m\u001b[0m\u001b[0m\n\u001b[0m\u001b[1;32m     13\u001b[0m                   \u001b[0;31m# which is tied to graph g, but it is evaluated in\u001b[0m\u001b[0;34m\u001b[0m\u001b[0;34m\u001b[0m\u001b[0;34m\u001b[0m\u001b[0m\n\u001b[1;32m     14\u001b[0m                   \u001b[0;31m# session s which is tied to graph g => ERROR\u001b[0m\u001b[0;34m\u001b[0m\u001b[0;34m\u001b[0m\u001b[0;34m\u001b[0m\u001b[0m\n",
            "\u001b[0;32m/tensorflow-1.15.2/python3.6/tensorflow_core/python/framework/ops.py\u001b[0m in \u001b[0;36meval\u001b[0;34m(self, feed_dict, session)\u001b[0m\n\u001b[1;32m    796\u001b[0m \u001b[0;34m\u001b[0m\u001b[0m\n\u001b[1;32m    797\u001b[0m     \"\"\"\n\u001b[0;32m--> 798\u001b[0;31m     \u001b[0;32mreturn\u001b[0m \u001b[0m_eval_using_default_session\u001b[0m\u001b[0;34m(\u001b[0m\u001b[0mself\u001b[0m\u001b[0;34m,\u001b[0m \u001b[0mfeed_dict\u001b[0m\u001b[0;34m,\u001b[0m \u001b[0mself\u001b[0m\u001b[0;34m.\u001b[0m\u001b[0mgraph\u001b[0m\u001b[0;34m,\u001b[0m \u001b[0msession\u001b[0m\u001b[0;34m)\u001b[0m\u001b[0;34m\u001b[0m\u001b[0;34m\u001b[0m\u001b[0m\n\u001b[0m\u001b[1;32m    799\u001b[0m \u001b[0;34m\u001b[0m\u001b[0m\n\u001b[1;32m    800\u001b[0m   \u001b[0;32mdef\u001b[0m \u001b[0mexperimental_ref\u001b[0m\u001b[0;34m(\u001b[0m\u001b[0mself\u001b[0m\u001b[0;34m)\u001b[0m\u001b[0;34m:\u001b[0m\u001b[0;34m\u001b[0m\u001b[0;34m\u001b[0m\u001b[0m\n",
            "\u001b[0;32m/tensorflow-1.15.2/python3.6/tensorflow_core/python/framework/ops.py\u001b[0m in \u001b[0;36m_eval_using_default_session\u001b[0;34m(tensors, feed_dict, graph, session)\u001b[0m\n\u001b[1;32m   5402\u001b[0m   \u001b[0;32melse\u001b[0m\u001b[0;34m:\u001b[0m\u001b[0;34m\u001b[0m\u001b[0;34m\u001b[0m\u001b[0m\n\u001b[1;32m   5403\u001b[0m     \u001b[0;32mif\u001b[0m \u001b[0msession\u001b[0m\u001b[0;34m.\u001b[0m\u001b[0mgraph\u001b[0m \u001b[0;32mis\u001b[0m \u001b[0;32mnot\u001b[0m \u001b[0mgraph\u001b[0m\u001b[0;34m:\u001b[0m\u001b[0;34m\u001b[0m\u001b[0;34m\u001b[0m\u001b[0m\n\u001b[0;32m-> 5404\u001b[0;31m       raise ValueError(\"Cannot use the given session to evaluate tensor: \"\n\u001b[0m\u001b[1;32m   5405\u001b[0m                        \u001b[0;34m\"the tensor's graph is different from the session's \"\u001b[0m\u001b[0;34m\u001b[0m\u001b[0;34m\u001b[0m\u001b[0m\n\u001b[1;32m   5406\u001b[0m                        \"graph.\")\n",
            "\u001b[0;31mValueError\u001b[0m: Cannot use the given session to evaluate tensor: the tensor's graph is different from the session's graph."
          ]
        }
      ]
    },
    {
      "cell_type": "markdown",
      "metadata": {
        "id": "nyAx1Zp1Us4F",
        "colab_type": "text"
      },
      "source": [
        "### Error with graph session as default and using variable created in default graph"
      ]
    },
    {
      "cell_type": "code",
      "metadata": {
        "id": "og4q09R-GHlL",
        "colab_type": "code",
        "outputId": "08030e4e-bd58-4126-bad6-51e9a8e86096",
        "colab": {
          "base_uri": "https://localhost:8080/",
          "height": 394
        }
      },
      "source": [
        "%tensorflow_version 1.x\n",
        "import tensorflow as tf\n",
        "\n",
        "g = tf.Graph()\n",
        "with g.as_default():\n",
        "  x = tf.constant(1.0)  # x is created in graph g\n",
        "\n",
        "with tf.Session(graph=g).as_default() as sess:\n",
        "  print(x.eval(session=sess)) # x was created in graph g and it is evaluated in session s\n",
        "                         # which is tied to graph g, so everything is ok.\n",
        "  y = tf.constant(2.0) # y is created in TensorFlow's default graph!!!\n",
        "  print(y.eval()) # y was created in TF's default graph, but it is evaluated in\n",
        "                  # session s which is tied to graph g => ERROR"
      ],
      "execution_count": 0,
      "outputs": [
        {
          "output_type": "stream",
          "text": [
            "1.0\n"
          ],
          "name": "stdout"
        },
        {
          "output_type": "error",
          "ename": "ValueError",
          "evalue": "ignored",
          "traceback": [
            "\u001b[0;31m---------------------------------------------------------------------------\u001b[0m",
            "\u001b[0;31mValueError\u001b[0m                                Traceback (most recent call last)",
            "\u001b[0;32m<ipython-input-15-6b8b687c5178>\u001b[0m in \u001b[0;36m<module>\u001b[0;34m()\u001b[0m\n\u001b[1;32m     10\u001b[0m                          \u001b[0;31m# which is tied to graph g, so everything is ok.\u001b[0m\u001b[0;34m\u001b[0m\u001b[0;34m\u001b[0m\u001b[0;34m\u001b[0m\u001b[0m\n\u001b[1;32m     11\u001b[0m   \u001b[0my\u001b[0m \u001b[0;34m=\u001b[0m \u001b[0mtf\u001b[0m\u001b[0;34m.\u001b[0m\u001b[0mconstant\u001b[0m\u001b[0;34m(\u001b[0m\u001b[0;36m2.0\u001b[0m\u001b[0;34m)\u001b[0m \u001b[0;31m# y is created in TensorFlow's default graph!!!\u001b[0m\u001b[0;34m\u001b[0m\u001b[0;34m\u001b[0m\u001b[0m\n\u001b[0;32m---> 12\u001b[0;31m   \u001b[0mprint\u001b[0m\u001b[0;34m(\u001b[0m\u001b[0my\u001b[0m\u001b[0;34m.\u001b[0m\u001b[0meval\u001b[0m\u001b[0;34m(\u001b[0m\u001b[0;34m)\u001b[0m\u001b[0;34m)\u001b[0m \u001b[0;31m# y was created in TF's default graph, but it is evaluated in\u001b[0m\u001b[0;34m\u001b[0m\u001b[0;34m\u001b[0m\u001b[0m\n\u001b[0m\u001b[1;32m     13\u001b[0m                   \u001b[0;31m# session s which is tied to graph g => ERROR\u001b[0m\u001b[0;34m\u001b[0m\u001b[0;34m\u001b[0m\u001b[0;34m\u001b[0m\u001b[0m\n",
            "\u001b[0;32m/tensorflow-1.15.2/python3.6/tensorflow_core/python/framework/ops.py\u001b[0m in \u001b[0;36meval\u001b[0;34m(self, feed_dict, session)\u001b[0m\n\u001b[1;32m    796\u001b[0m \u001b[0;34m\u001b[0m\u001b[0m\n\u001b[1;32m    797\u001b[0m     \"\"\"\n\u001b[0;32m--> 798\u001b[0;31m     \u001b[0;32mreturn\u001b[0m \u001b[0m_eval_using_default_session\u001b[0m\u001b[0;34m(\u001b[0m\u001b[0mself\u001b[0m\u001b[0;34m,\u001b[0m \u001b[0mfeed_dict\u001b[0m\u001b[0;34m,\u001b[0m \u001b[0mself\u001b[0m\u001b[0;34m.\u001b[0m\u001b[0mgraph\u001b[0m\u001b[0;34m,\u001b[0m \u001b[0msession\u001b[0m\u001b[0;34m)\u001b[0m\u001b[0;34m\u001b[0m\u001b[0;34m\u001b[0m\u001b[0m\n\u001b[0m\u001b[1;32m    799\u001b[0m \u001b[0;34m\u001b[0m\u001b[0m\n\u001b[1;32m    800\u001b[0m   \u001b[0;32mdef\u001b[0m \u001b[0mexperimental_ref\u001b[0m\u001b[0;34m(\u001b[0m\u001b[0mself\u001b[0m\u001b[0;34m)\u001b[0m\u001b[0;34m:\u001b[0m\u001b[0;34m\u001b[0m\u001b[0;34m\u001b[0m\u001b[0m\n",
            "\u001b[0;32m/tensorflow-1.15.2/python3.6/tensorflow_core/python/framework/ops.py\u001b[0m in \u001b[0;36m_eval_using_default_session\u001b[0;34m(tensors, feed_dict, graph, session)\u001b[0m\n\u001b[1;32m   5396\u001b[0m                        \"`eval(session=sess)`\")\n\u001b[1;32m   5397\u001b[0m     \u001b[0;32mif\u001b[0m \u001b[0msession\u001b[0m\u001b[0;34m.\u001b[0m\u001b[0mgraph\u001b[0m \u001b[0;32mis\u001b[0m \u001b[0;32mnot\u001b[0m \u001b[0mgraph\u001b[0m\u001b[0;34m:\u001b[0m\u001b[0;34m\u001b[0m\u001b[0;34m\u001b[0m\u001b[0m\n\u001b[0;32m-> 5398\u001b[0;31m       raise ValueError(\"Cannot use the default session to evaluate tensor: \"\n\u001b[0m\u001b[1;32m   5399\u001b[0m                        \u001b[0;34m\"the tensor's graph is different from the session's \"\u001b[0m\u001b[0;34m\u001b[0m\u001b[0;34m\u001b[0m\u001b[0m\n\u001b[1;32m   5400\u001b[0m                        \u001b[0;34m\"graph. Pass an explicit session to \"\u001b[0m\u001b[0;34m\u001b[0m\u001b[0;34m\u001b[0m\u001b[0m\n",
            "\u001b[0;31mValueError\u001b[0m: Cannot use the default session to evaluate tensor: the tensor's graph is different from the session's graph. Pass an explicit session to `eval(session=sess)`."
          ]
        }
      ]
    },
    {
      "cell_type": "markdown",
      "metadata": {
        "colab_type": "text",
        "id": "4ecy2vH3X6gU"
      },
      "source": [
        "### Error with graph session as default and using variable created in default graph and also session=sess"
      ]
    },
    {
      "cell_type": "code",
      "metadata": {
        "colab_type": "code",
        "outputId": "6281a25e-0b0e-48a1-f713-0dc083f4d347",
        "id": "EoznhA2nX6gW",
        "colab": {
          "base_uri": "https://localhost:8080/",
          "height": 374
        }
      },
      "source": [
        "%tensorflow_version 1.x\n",
        "import tensorflow as tf\n",
        "\n",
        "g = tf.Graph()\n",
        "with g.as_default():\n",
        "  x = tf.constant(1.0)  # x is created in graph g\n",
        "\n",
        "with tf.Session(graph=g).as_default() as sess:\n",
        "  print(x.eval(session=sess)) # x was created in graph g and it is evaluated in session s\n",
        "                         # which is tied to graph g, so everything is ok.\n",
        "  y = tf.constant(2.0) # y is created in TensorFlow's default graph!!!\n",
        "  print(y.eval(session=sess)) # y was created in TF's default graph, but it is evaluated in\n",
        "                  # session s which is tied to graph g => ERROR"
      ],
      "execution_count": 0,
      "outputs": [
        {
          "output_type": "stream",
          "text": [
            "1.0\n"
          ],
          "name": "stdout"
        },
        {
          "output_type": "error",
          "ename": "ValueError",
          "evalue": "ignored",
          "traceback": [
            "\u001b[0;31m---------------------------------------------------------------------------\u001b[0m",
            "\u001b[0;31mValueError\u001b[0m                                Traceback (most recent call last)",
            "\u001b[0;32m<ipython-input-16-83809aa4e485>\u001b[0m in \u001b[0;36m<module>\u001b[0;34m()\u001b[0m\n\u001b[1;32m     10\u001b[0m                          \u001b[0;31m# which is tied to graph g, so everything is ok.\u001b[0m\u001b[0;34m\u001b[0m\u001b[0;34m\u001b[0m\u001b[0;34m\u001b[0m\u001b[0m\n\u001b[1;32m     11\u001b[0m   \u001b[0my\u001b[0m \u001b[0;34m=\u001b[0m \u001b[0mtf\u001b[0m\u001b[0;34m.\u001b[0m\u001b[0mconstant\u001b[0m\u001b[0;34m(\u001b[0m\u001b[0;36m2.0\u001b[0m\u001b[0;34m)\u001b[0m \u001b[0;31m# y is created in TensorFlow's default graph!!!\u001b[0m\u001b[0;34m\u001b[0m\u001b[0;34m\u001b[0m\u001b[0m\n\u001b[0;32m---> 12\u001b[0;31m   \u001b[0mprint\u001b[0m\u001b[0;34m(\u001b[0m\u001b[0my\u001b[0m\u001b[0;34m.\u001b[0m\u001b[0meval\u001b[0m\u001b[0;34m(\u001b[0m\u001b[0msession\u001b[0m\u001b[0;34m=\u001b[0m\u001b[0msess\u001b[0m\u001b[0;34m)\u001b[0m\u001b[0;34m)\u001b[0m \u001b[0;31m# y was created in TF's default graph, but it is evaluated in\u001b[0m\u001b[0;34m\u001b[0m\u001b[0;34m\u001b[0m\u001b[0m\n\u001b[0m\u001b[1;32m     13\u001b[0m                   \u001b[0;31m# session s which is tied to graph g => ERROR\u001b[0m\u001b[0;34m\u001b[0m\u001b[0;34m\u001b[0m\u001b[0;34m\u001b[0m\u001b[0m\n",
            "\u001b[0;32m/tensorflow-1.15.2/python3.6/tensorflow_core/python/framework/ops.py\u001b[0m in \u001b[0;36meval\u001b[0;34m(self, feed_dict, session)\u001b[0m\n\u001b[1;32m    796\u001b[0m \u001b[0;34m\u001b[0m\u001b[0m\n\u001b[1;32m    797\u001b[0m     \"\"\"\n\u001b[0;32m--> 798\u001b[0;31m     \u001b[0;32mreturn\u001b[0m \u001b[0m_eval_using_default_session\u001b[0m\u001b[0;34m(\u001b[0m\u001b[0mself\u001b[0m\u001b[0;34m,\u001b[0m \u001b[0mfeed_dict\u001b[0m\u001b[0;34m,\u001b[0m \u001b[0mself\u001b[0m\u001b[0;34m.\u001b[0m\u001b[0mgraph\u001b[0m\u001b[0;34m,\u001b[0m \u001b[0msession\u001b[0m\u001b[0;34m)\u001b[0m\u001b[0;34m\u001b[0m\u001b[0;34m\u001b[0m\u001b[0m\n\u001b[0m\u001b[1;32m    799\u001b[0m \u001b[0;34m\u001b[0m\u001b[0m\n\u001b[1;32m    800\u001b[0m   \u001b[0;32mdef\u001b[0m \u001b[0mexperimental_ref\u001b[0m\u001b[0;34m(\u001b[0m\u001b[0mself\u001b[0m\u001b[0;34m)\u001b[0m\u001b[0;34m:\u001b[0m\u001b[0;34m\u001b[0m\u001b[0;34m\u001b[0m\u001b[0m\n",
            "\u001b[0;32m/tensorflow-1.15.2/python3.6/tensorflow_core/python/framework/ops.py\u001b[0m in \u001b[0;36m_eval_using_default_session\u001b[0;34m(tensors, feed_dict, graph, session)\u001b[0m\n\u001b[1;32m   5402\u001b[0m   \u001b[0;32melse\u001b[0m\u001b[0;34m:\u001b[0m\u001b[0;34m\u001b[0m\u001b[0;34m\u001b[0m\u001b[0m\n\u001b[1;32m   5403\u001b[0m     \u001b[0;32mif\u001b[0m \u001b[0msession\u001b[0m\u001b[0;34m.\u001b[0m\u001b[0mgraph\u001b[0m \u001b[0;32mis\u001b[0m \u001b[0;32mnot\u001b[0m \u001b[0mgraph\u001b[0m\u001b[0;34m:\u001b[0m\u001b[0;34m\u001b[0m\u001b[0;34m\u001b[0m\u001b[0m\n\u001b[0;32m-> 5404\u001b[0;31m       raise ValueError(\"Cannot use the given session to evaluate tensor: \"\n\u001b[0m\u001b[1;32m   5405\u001b[0m                        \u001b[0;34m\"the tensor's graph is different from the session's \"\u001b[0m\u001b[0;34m\u001b[0m\u001b[0;34m\u001b[0m\u001b[0m\n\u001b[1;32m   5406\u001b[0m                        \"graph.\")\n",
            "\u001b[0;31mValueError\u001b[0m: Cannot use the given session to evaluate tensor: the tensor's graph is different from the session's graph."
          ]
        }
      ]
    },
    {
      "cell_type": "markdown",
      "metadata": {
        "id": "H0zJAoNLU7pu",
        "colab_type": "text"
      },
      "source": [
        "### Fix with default session and variable not assigned to any graph"
      ]
    },
    {
      "cell_type": "code",
      "metadata": {
        "colab_type": "code",
        "outputId": "42c47425-d833-4f5b-f9f3-196dbf8bef18",
        "id": "5Nx158TXTCT1",
        "colab": {
          "base_uri": "https://localhost:8080/",
          "height": 51
        }
      },
      "source": [
        "%tensorflow_version 1.x\n",
        "import tensorflow as tf\n",
        "\n",
        "x = tf.constant(1.0)  # x is in not assigned to any graph\n",
        "\n",
        "with tf.Session().as_default() as sess:\n",
        "  y = tf.constant(2.0) # y is created in TensorFlow's default graph!!!\n",
        "  print(y.eval(session=sess)) # y was created in TF's default graph, and is evaluated in\n",
        "                  # default session, so everything is ok.  \n",
        "  print(x.eval(session=sess)) # x not assigned to any graph, and is evaluated in\n",
        "                  # default session, so everything is ok.  "
      ],
      "execution_count": 0,
      "outputs": [
        {
          "output_type": "stream",
          "text": [
            "2.0\n",
            "1.0\n"
          ],
          "name": "stdout"
        }
      ]
    },
    {
      "cell_type": "markdown",
      "metadata": {
        "id": "5u1qthgoVMUL",
        "colab_type": "text"
      },
      "source": [
        "### The best fix is to cleanly separate the construction phase and the execution phase"
      ]
    },
    {
      "cell_type": "code",
      "metadata": {
        "id": "UftJHIz3VM4d",
        "colab_type": "code",
        "outputId": "40824b97-fc1e-4135-ada3-a2f657975046",
        "colab": {
          "base_uri": "https://localhost:8080/",
          "height": 51
        }
      },
      "source": [
        "import tensorflow as tf\n",
        "\n",
        "g = tf.Graph()\n",
        "with g.as_default():\n",
        "  x = tf.constant(1.0)  # x is created in graph g\n",
        "  y = tf.constant(2.0) # y is created in graph g\n",
        "\n",
        "with tf.Session(graph=g).as_default() as sess:\n",
        "  print(x.eval()) # x was created in graph g and it is evaluated in session s\n",
        "                         # which is tied to graph g, so everything is ok.\n",
        "  print(y.eval()) # y was created in graph g and it is evaluated in session s\n",
        "                         # which is tied to graph g, so everything is ok."
      ],
      "execution_count": 0,
      "outputs": [
        {
          "output_type": "stream",
          "text": [
            "1.0\n",
            "2.0\n"
          ],
          "name": "stdout"
        }
      ]
    },
    {
      "cell_type": "markdown",
      "metadata": {
        "id": "7x-CnHNIH0r1",
        "colab_type": "text"
      },
      "source": [
        "# softmax and log_softmax\n"
      ]
    },
    {
      "cell_type": "code",
      "metadata": {
        "id": "odVe5AwJH023",
        "colab_type": "code",
        "outputId": "5624739e-54a9-4bf0-fe45-ffe44020d124",
        "colab": {
          "base_uri": "https://localhost:8080/",
          "height": 51
        }
      },
      "source": [
        "%tensorflow_version 1.x\n",
        "import tensorflow as tf\n",
        "x = tf.nn.softmax([0.12345,0.3256,0.2356,-0.3256,0.13562])\n",
        "y = -tf.nn.log_softmax([0.12345,0.3256,0.2356,-0.3256,0.13562])\n",
        "\n",
        "with tf.Session() as sess:\n",
        "   print(x.eval())\n",
        "   print(y.eval())"
      ],
      "execution_count": 0,
      "outputs": [
        {
          "output_type": "stream",
          "text": [
            "[0.20027274 0.24514017 0.22404124 0.12782091 0.20272495]\n",
            "[1.6080751 1.4059252 1.4959252 2.057125  1.5959052]\n"
          ],
          "name": "stdout"
        }
      ]
    },
    {
      "cell_type": "markdown",
      "metadata": {
        "id": "xDqxUBulbZua",
        "colab_type": "text"
      },
      "source": [
        "# Tensor to array\n",
        "https://stackoverflow.com/questions/59875172/typeerror-when-trying-to-use-earlystopping-with-f1-metric-as-stopping-criterion"
      ]
    },
    {
      "cell_type": "code",
      "metadata": {
        "id": "syOHTseMZN5F",
        "colab_type": "code",
        "outputId": "9adb1ba5-0d4e-443a-e71b-468f7661ec19",
        "colab": {
          "base_uri": "https://localhost:8080/",
          "height": 68
        }
      },
      "source": [
        "%tensorflow_version 1.x\n",
        "print(tf.__version__)\n",
        "import tensorflow as tf\n",
        "import numpy as np\n",
        "\n",
        "x = tf.constant([1,2,3,4,5,6])\n",
        "print(\"Type of x:\",x)\n",
        "\n",
        "with tf.Session() as sess:\n",
        "  y = np.array(x.eval())\n",
        "  print(\"Type of y:\",y.shape,y)"
      ],
      "execution_count": 0,
      "outputs": [
        {
          "output_type": "stream",
          "text": [
            "1.15.2\n",
            "Type of x: Tensor(\"Const_24:0\", shape=(6,), dtype=int32)\n",
            "Type of y: (6,) [1 2 3 4 5 6]\n"
          ],
          "name": "stdout"
        }
      ]
    },
    {
      "cell_type": "markdown",
      "metadata": {
        "id": "3yg9AIIvdD7b",
        "colab_type": "text"
      },
      "source": [
        "# Fit_generator simple example\n",
        "https://stackoverflow.com/questions/59417210/keras-losing-axis-with-brightness-range-during-image-augmentation"
      ]
    },
    {
      "cell_type": "code",
      "metadata": {
        "colab_type": "code",
        "outputId": "f3161cd1-305c-4a42-dcab-817db4a35bad",
        "id": "iJ2O5F28dF3i",
        "colab": {
          "base_uri": "https://localhost:8080/",
          "height": 0
        }
      },
      "source": [
        "import tensorflow as tf\n",
        "from tensorflow.keras.models import Sequential\n",
        "from tensorflow.keras.layers import Dense, Conv2D, Flatten, Dropout, MaxPooling2D\n",
        "from tensorflow.keras.preprocessing.image import ImageDataGenerator\n",
        "from tensorflow.keras.optimizers import Adam\n",
        "\n",
        "import os\n",
        "import numpy as np\n",
        "import matplotlib.pyplot as plt\n",
        "\n",
        "_URL = 'https://storage.googleapis.com/mledu-datasets/cats_and_dogs_filtered.zip'\n",
        "\n",
        "path_to_zip = tf.keras.utils.get_file('cats_and_dogs.zip', origin=_URL, extract=True)\n",
        "\n",
        "PATH = os.path.join(os.path.dirname(path_to_zip), 'cats_and_dogs_filtered')\n",
        "\n",
        "train_dir = os.path.join(PATH, 'train')\n",
        "validation_dir = os.path.join(PATH, 'validation')\n",
        "\n",
        "train_cats_dir = os.path.join(train_dir, 'cats')  # directory with our training cat pictures\n",
        "train_dogs_dir = os.path.join(train_dir, 'dogs')  # directory with our training dog pictures\n",
        "validation_cats_dir = os.path.join(validation_dir, 'cats')  # directory with our validation cat pictures\n",
        "validation_dogs_dir = os.path.join(validation_dir, 'dogs')  # directory with our validation dog pictures\n",
        "\n",
        "num_cats_tr = len(os.listdir(train_cats_dir))\n",
        "num_dogs_tr = len(os.listdir(train_dogs_dir))\n",
        "\n",
        "num_cats_val = len(os.listdir(validation_cats_dir))\n",
        "num_dogs_val = len(os.listdir(validation_dogs_dir))\n",
        "\n",
        "total_train = num_cats_tr + num_dogs_tr\n",
        "total_val = num_cats_val + num_dogs_val\n",
        "\n",
        "batch_size = 128\n",
        "epochs = 15\n",
        "IMG_HEIGHT = 150\n",
        "IMG_WIDTH = 150\n",
        "\n",
        "train_image_generator = ImageDataGenerator(rescale=1./255,brightness_range=[0.5,1.5]) # Generator for our training data\n",
        "validation_image_generator = ImageDataGenerator(rescale=1./255,brightness_range=[0.5,1.5]) # Generator for our validation data\n",
        "\n",
        "train_data_gen = train_image_generator.flow_from_directory(batch_size=batch_size,\n",
        "                                                           directory=train_dir,\n",
        "                                                           shuffle=True,\n",
        "                                                           target_size=(IMG_HEIGHT, IMG_WIDTH),\n",
        "                                                           class_mode='binary')\n",
        "\n",
        "val_data_gen = validation_image_generator.flow_from_directory(batch_size=batch_size,\n",
        "                                                              directory=validation_dir,\n",
        "                                                              target_size=(IMG_HEIGHT, IMG_WIDTH),\n",
        "                                                              class_mode='binary')\n",
        "\n",
        "model = Sequential([\n",
        "    Conv2D(16, 3, padding='same', activation='relu', input_shape=(IMG_HEIGHT, IMG_WIDTH ,3)),\n",
        "    MaxPooling2D(),\n",
        "    Conv2D(32, 3, padding='same', activation='relu'),\n",
        "    MaxPooling2D(),\n",
        "    Conv2D(64, 3, padding='same', activation='relu'),\n",
        "    MaxPooling2D(),\n",
        "    Flatten(),\n",
        "    Dense(512, activation='relu'),\n",
        "    Dense(1)\n",
        "])\n",
        "\n",
        "model.compile(optimizer=\"adam\", \n",
        "          loss=tf.keras.losses.BinaryCrossentropy(from_logits=True),\n",
        "          metrics=['accuracy'])\n",
        "\n",
        "history = model.fit_generator(\n",
        "          train_data_gen,\n",
        "          steps_per_epoch=total_train // batch_size,\n",
        "          epochs=epochs,\n",
        "          validation_data=val_data_gen,\n",
        "          validation_steps=total_val // batch_size)"
      ],
      "execution_count": 2,
      "outputs": [
        {
          "output_type": "stream",
          "text": [
            "Found 2000 images belonging to 2 classes.\n",
            "Found 1000 images belonging to 2 classes.\n",
            "WARNING:tensorflow:From <ipython-input-2-2b8537e7d5b3>:74: Model.fit_generator (from tensorflow.python.keras.engine.training) is deprecated and will be removed in a future version.\n",
            "Instructions for updating:\n",
            "Please use Model.fit, which supports generators.\n",
            "Epoch 1/15\n",
            "15/15 [==============================] - 9s 591ms/step - loss: 1.0527 - accuracy: 0.5010 - val_loss: 0.6918 - val_accuracy: 0.5089\n",
            "Epoch 2/15\n",
            "15/15 [==============================] - 9s 609ms/step - loss: 0.6790 - accuracy: 0.5337 - val_loss: 0.6473 - val_accuracy: 0.5647\n",
            "Epoch 3/15\n",
            "15/15 [==============================] - 9s 610ms/step - loss: 0.6340 - accuracy: 0.5983 - val_loss: 0.6208 - val_accuracy: 0.6172\n",
            "Epoch 4/15\n",
            "15/15 [==============================] - 9s 609ms/step - loss: 0.5899 - accuracy: 0.6464 - val_loss: 0.5938 - val_accuracy: 0.6585\n",
            "Epoch 5/15\n",
            "15/15 [==============================] - 9s 599ms/step - loss: 0.5182 - accuracy: 0.7286 - val_loss: 0.6165 - val_accuracy: 0.7042\n",
            "Epoch 6/15\n",
            "15/15 [==============================] - 9s 608ms/step - loss: 0.4697 - accuracy: 0.7682 - val_loss: 0.5853 - val_accuracy: 0.7109\n",
            "Epoch 7/15\n",
            "15/15 [==============================] - 9s 604ms/step - loss: 0.4393 - accuracy: 0.7746 - val_loss: 0.5826 - val_accuracy: 0.7132\n",
            "Epoch 8/15\n",
            "15/15 [==============================] - 9s 608ms/step - loss: 0.4115 - accuracy: 0.7895 - val_loss: 0.6602 - val_accuracy: 0.7042\n",
            "Epoch 9/15\n",
            "15/15 [==============================] - 9s 598ms/step - loss: 0.3831 - accuracy: 0.8162 - val_loss: 0.6254 - val_accuracy: 0.7076\n",
            "Epoch 10/15\n",
            "15/15 [==============================] - 9s 601ms/step - loss: 0.3151 - accuracy: 0.8531 - val_loss: 0.5924 - val_accuracy: 0.7098\n",
            "Epoch 11/15\n",
            "15/15 [==============================] - 9s 611ms/step - loss: 0.2904 - accuracy: 0.8632 - val_loss: 0.6664 - val_accuracy: 0.6964\n",
            "Epoch 12/15\n",
            "15/15 [==============================] - 9s 604ms/step - loss: 0.2524 - accuracy: 0.8921 - val_loss: 0.7111 - val_accuracy: 0.6752\n",
            "Epoch 13/15\n",
            "15/15 [==============================] - 9s 592ms/step - loss: 0.2143 - accuracy: 0.9081 - val_loss: 0.7246 - val_accuracy: 0.6953\n",
            "Epoch 14/15\n",
            "15/15 [==============================] - 9s 599ms/step - loss: 0.1829 - accuracy: 0.9284 - val_loss: 0.7323 - val_accuracy: 0.7221\n",
            "Epoch 15/15\n",
            "15/15 [==============================] - 9s 598ms/step - loss: 0.1469 - accuracy: 0.9460 - val_loss: 0.8435 - val_accuracy: 0.6998\n"
          ],
          "name": "stdout"
        }
      ]
    },
    {
      "cell_type": "markdown",
      "metadata": {
        "id": "OwhjPAkYvkBV",
        "colab_type": "text"
      },
      "source": [
        "# Convert Functional Model to Sequential and Vice Versa\n",
        "https://stackoverflow.com/questions/61130836/convert-functional-model-to-sequential-keras"
      ]
    },
    {
      "cell_type": "markdown",
      "metadata": {
        "id": "aWjlUrHl0Nr1",
        "colab_type": "text"
      },
      "source": [
        "## User Code has one functional model and another sequential model"
      ]
    },
    {
      "cell_type": "code",
      "metadata": {
        "id": "AbKDJJn5vka7",
        "colab_type": "code",
        "colab": {}
      },
      "source": [
        "import tensorflow as tf\n",
        "from tensorflow.python.keras import layers, models, applications, Input, Model\n",
        "from tensorflow.keras.layers import Convolution2D, MaxPooling2D, UpSampling2D\n",
        "\n",
        "#load in data using imagedatagenreator\n",
        "input_img = Input(shape=(128, 128,3))\n",
        "\n",
        "x = Convolution2D(16, (3, 3), activation='relu', padding='same')(input_img)\n",
        "x = MaxPooling2D((2, 2), padding='same')(x)\n",
        "x = Convolution2D(8, (3, 3), activation='relu', padding='same')(x)\n",
        "x = MaxPooling2D((2, 2), padding='same')(x)\n",
        "x = Convolution2D(8, (3, 3), activation='relu', padding='same')(x)\n",
        "encoded = MaxPooling2D((2, 2), padding='same')(x)\n",
        "\n",
        "# at this point the representation is (8, 4, 4) i.e. 128-dimensional\n",
        "x = Convolution2D(8, (3, 3), activation='relu', padding='same')(encoded)\n",
        "x = UpSampling2D((2, 2))(x)\n",
        "x = Convolution2D(8, (3, 3), activation='relu', padding='same')(x)\n",
        "x = UpSampling2D((2, 2))(x)\n",
        "x = Convolution2D(16, (3, 3), activation='relu', padding='same')(x)\n",
        "x = UpSampling2D((2, 2))(x)\n",
        "decoded = Convolution2D(3, (3, 3), activation='sigmoid', padding='same')(x)\n",
        "\n",
        "#compile and run\n",
        "\n",
        "##save weights and and model start conv network with these weights\n",
        "encoder = Model(input_img, encoded)\n",
        "encoder.save('Encoded.h5')"
      ],
      "execution_count": 0,
      "outputs": []
    },
    {
      "cell_type": "code",
      "metadata": {
        "id": "S-lHnunPzC4q",
        "colab_type": "code",
        "colab": {
          "base_uri": "https://localhost:8080/",
          "height": 0
        },
        "outputId": "048645df-a065-4535-ae2e-fb70b895365f"
      },
      "source": [
        "import tensorflow as tf\n",
        "from tensorflow.python.keras import layers, models, applications, Input, Model, Sequential\n",
        "from tensorflow.keras.layers import Convolution2D, MaxPooling2D, UpSampling2D, Conv2D, Dense, Dropout, Flatten, BatchNormalization\n",
        "from tensorflow.keras.models import load_model\n",
        "\n",
        "#load in data using imagedatagenreator\n",
        "model = load_model('Encoded.h5')\n",
        "model.summary()\n",
        "\n",
        "model = Sequential()\n",
        "model.add(Conv2D(64,(3,3), input_shape=(424,424,3), activation='relu'))#3x3 is default\n",
        "model.add(MaxPooling2D(pool_size=(3,3)))\n",
        "#model.add(Dropout(.1))#test\n",
        "model.add(Dense(32, activation='relu'))#test\n",
        "model.add(Conv2D(64,(3,3), activation='relu'))#input_shape=(424,424,3)\n",
        "model.add(MaxPooling2D(pool_size=(3,3)))\n",
        "model.add(Dense(64, activation='relu'))\n",
        "model.add(Dropout(.3))#test\n",
        "model.add(Conv2D(64,(3,3), activation='relu'))#input_shape=(424,424,3)\n",
        "model.add(MaxPooling2D(pool_size=(3,3)))\n",
        "model.add(Dropout(.3))\n",
        "model.add(Flatten(input_shape=(424,424,3)))\n",
        "model.add(BatchNormalization())\n",
        "model.add(Dense(2, activation='softmax'))\n",
        "\n",
        "model.summary()"
      ],
      "execution_count": 13,
      "outputs": [
        {
          "output_type": "stream",
          "text": [
            "WARNING:tensorflow:No training configuration found in the save file, so the model was *not* compiled. Compile it manually.\n",
            "WARNING:tensorflow:No training configuration found in the save file, so the model was *not* compiled. Compile it manually.\n",
            "Model: \"model\"\n",
            "_________________________________________________________________\n",
            "Layer (type)                 Output Shape              Param #   \n",
            "=================================================================\n",
            "input_3 (InputLayer)         [(None, 128, 128, 3)]     0         \n",
            "_________________________________________________________________\n",
            "conv2d_4 (Conv2D)            (None, 128, 128, 16)      448       \n",
            "_________________________________________________________________\n",
            "max_pooling2d_3 (MaxPooling2 (None, 64, 64, 16)        0         \n",
            "_________________________________________________________________\n",
            "conv2d_5 (Conv2D)            (None, 64, 64, 8)         1160      \n",
            "_________________________________________________________________\n",
            "max_pooling2d_4 (MaxPooling2 (None, 32, 32, 8)         0         \n",
            "_________________________________________________________________\n",
            "conv2d_6 (Conv2D)            (None, 32, 32, 8)         584       \n",
            "_________________________________________________________________\n",
            "max_pooling2d_5 (MaxPooling2 (None, 16, 16, 8)         0         \n",
            "=================================================================\n",
            "Total params: 2,192\n",
            "Trainable params: 2,192\n",
            "Non-trainable params: 0\n",
            "_________________________________________________________________\n",
            "Model: \"sequential_4\"\n",
            "_________________________________________________________________\n",
            "Layer (type)                 Output Shape              Param #   \n",
            "=================================================================\n",
            "conv2d_14 (Conv2D)           (None, 422, 422, 64)      1792      \n",
            "_________________________________________________________________\n",
            "max_pooling2d_9 (MaxPooling2 (None, 140, 140, 64)      0         \n",
            "_________________________________________________________________\n",
            "dense_3 (Dense)              (None, 140, 140, 32)      2080      \n",
            "_________________________________________________________________\n",
            "conv2d_15 (Conv2D)           (None, 138, 138, 64)      18496     \n",
            "_________________________________________________________________\n",
            "max_pooling2d_10 (MaxPooling (None, 46, 46, 64)        0         \n",
            "_________________________________________________________________\n",
            "dense_4 (Dense)              (None, 46, 46, 64)        4160      \n",
            "_________________________________________________________________\n",
            "dropout_2 (Dropout)          (None, 46, 46, 64)        0         \n",
            "_________________________________________________________________\n",
            "conv2d_16 (Conv2D)           (None, 44, 44, 64)        36928     \n",
            "_________________________________________________________________\n",
            "max_pooling2d_11 (MaxPooling (None, 14, 14, 64)        0         \n",
            "_________________________________________________________________\n",
            "dropout_3 (Dropout)          (None, 14, 14, 64)        0         \n",
            "_________________________________________________________________\n",
            "flatten_1 (Flatten)          (None, 12544)             0         \n",
            "_________________________________________________________________\n",
            "batch_normalization_1 (Batch (None, 12544)             50176     \n",
            "_________________________________________________________________\n",
            "dense_5 (Dense)              (None, 2)                 25090     \n",
            "=================================================================\n",
            "Total params: 138,722\n",
            "Trainable params: 113,634\n",
            "Non-trainable params: 25,088\n",
            "_________________________________________________________________\n"
          ],
          "name": "stdout"
        }
      ]
    },
    {
      "cell_type": "markdown",
      "metadata": {
        "colab_type": "text",
        "id": "n9_kieW013Bh"
      },
      "source": [
        "## Convert functional model to sequential model"
      ]
    },
    {
      "cell_type": "code",
      "metadata": {
        "colab_type": "code",
        "id": "dFclXAGr1u3Q",
        "colab": {
          "base_uri": "https://localhost:8080/",
          "height": 0
        },
        "outputId": "2aad0bd2-ed53-41c4-dbeb-a978e21b6d89"
      },
      "source": [
        "import tensorflow as tf\n",
        "from tensorflow.python.keras import layers, models, applications, Input, Model\n",
        "from tensorflow.keras.layers import Convolution2D, MaxPooling2D, UpSampling2D\n",
        "\n",
        "# Create the Sequential Model\n",
        "model = Sequential()\n",
        "model.add(Convolution2D(16, (3, 3), input_shape=(424,424,3), activation='relu', padding='same'))\n",
        "model.add(MaxPooling2D((2, 2), padding='same'))\n",
        "model.add(Convolution2D(8, (3, 3), activation='relu', padding='same'))\n",
        "model.add(MaxPooling2D((2, 2), padding='same'))\n",
        "model.add(Convolution2D(8, (3, 3), activation='relu', padding='same'))\n",
        "model.add(MaxPooling2D((2, 2), padding='same'))\n",
        "\n",
        "# Model summary\n",
        "model.summary()\n",
        "\n",
        "# Save the Model and Architecture\n",
        "model.save('Encoded.h5')"
      ],
      "execution_count": 27,
      "outputs": [
        {
          "output_type": "stream",
          "text": [
            "Model: \"sequential_8\"\n",
            "_________________________________________________________________\n",
            "Layer (type)                 Output Shape              Param #   \n",
            "=================================================================\n",
            "conv2d_60 (Conv2D)           (None, 424, 424, 16)      448       \n",
            "_________________________________________________________________\n",
            "max_pooling2d_45 (MaxPooling (None, 212, 212, 16)      0         \n",
            "_________________________________________________________________\n",
            "conv2d_61 (Conv2D)           (None, 212, 212, 8)       1160      \n",
            "_________________________________________________________________\n",
            "max_pooling2d_46 (MaxPooling (None, 106, 106, 8)       0         \n",
            "_________________________________________________________________\n",
            "conv2d_62 (Conv2D)           (None, 106, 106, 8)       584       \n",
            "_________________________________________________________________\n",
            "max_pooling2d_47 (MaxPooling (None, 53, 53, 8)         0         \n",
            "=================================================================\n",
            "Total params: 2,192\n",
            "Trainable params: 2,192\n",
            "Non-trainable params: 0\n",
            "_________________________________________________________________\n"
          ],
          "name": "stdout"
        }
      ]
    },
    {
      "cell_type": "code",
      "metadata": {
        "colab_type": "code",
        "outputId": "0b3bd82b-5ec8-4264-a6a0-ab73bf2b647c",
        "id": "PIp5DMAb1u3U",
        "colab": {
          "base_uri": "https://localhost:8080/",
          "height": 0
        }
      },
      "source": [
        "import tensorflow as tf\n",
        "from tensorflow.python.keras import layers, models, applications, Input, Model, Sequential\n",
        "from tensorflow.keras.layers import Convolution2D, MaxPooling2D, UpSampling2D, Conv2D, Dense, Dropout, Flatten, BatchNormalization\n",
        "from tensorflow.keras.models import load_model\n",
        "\n",
        "# Load the previoulsy saved enocdermodel \n",
        "model = load_model('Encoded.h5')\n",
        "\n",
        "# Add the additonal layers \n",
        "model.add(Conv2D(64,(3,3), activation='relu'))#3x3 is default\n",
        "model.add(MaxPooling2D(pool_size=(3,3)))\n",
        "#model.add(Dropout(.1))#test\n",
        "model.add(Dense(32, activation='relu'))#test\n",
        "model.add(Conv2D(64,(3,3), activation='relu'))#input_shape=(424,424,3)\n",
        "model.add(MaxPooling2D(pool_size=(3,3)))\n",
        "model.add(Dense(64, activation='relu'))\n",
        "model.add(Dropout(.3))#test\n",
        "model.add(Conv2D(64,(3,3), activation='relu'))#input_shape=(424,424,3)\n",
        "model.add(MaxPooling2D(pool_size=(3,3)))\n",
        "model.add(Dropout(.3))\n",
        "model.add(Flatten(input_shape=(424,424,3)))\n",
        "model.add(BatchNormalization())\n",
        "model.add(Dense(2, activation='softmax'))\n",
        "\n",
        "# Model summary \n",
        "model.summary()"
      ],
      "execution_count": 28,
      "outputs": [
        {
          "output_type": "stream",
          "text": [
            "WARNING:tensorflow:No training configuration found in the save file, so the model was *not* compiled. Compile it manually.\n",
            "Model: \"sequential_8\"\n",
            "_________________________________________________________________\n",
            "Layer (type)                 Output Shape              Param #   \n",
            "=================================================================\n",
            "conv2d_60 (Conv2D)           (None, 424, 424, 16)      448       \n",
            "_________________________________________________________________\n",
            "max_pooling2d_45 (MaxPooling (None, 212, 212, 16)      0         \n",
            "_________________________________________________________________\n",
            "conv2d_61 (Conv2D)           (None, 212, 212, 8)       1160      \n",
            "_________________________________________________________________\n",
            "max_pooling2d_46 (MaxPooling (None, 106, 106, 8)       0         \n",
            "_________________________________________________________________\n",
            "conv2d_62 (Conv2D)           (None, 106, 106, 8)       584       \n",
            "_________________________________________________________________\n",
            "max_pooling2d_47 (MaxPooling (None, 53, 53, 8)         0         \n",
            "_________________________________________________________________\n",
            "conv2d_63 (Conv2D)           (None, 51, 51, 64)        4672      \n",
            "_________________________________________________________________\n",
            "max_pooling2d_48 (MaxPooling (None, 17, 17, 64)        0         \n",
            "_________________________________________________________________\n",
            "dense_24 (Dense)             (None, 17, 17, 32)        2080      \n",
            "_________________________________________________________________\n",
            "conv2d_64 (Conv2D)           (None, 15, 15, 64)        18496     \n",
            "_________________________________________________________________\n",
            "max_pooling2d_49 (MaxPooling (None, 5, 5, 64)          0         \n",
            "_________________________________________________________________\n",
            "dense_25 (Dense)             (None, 5, 5, 64)          4160      \n",
            "_________________________________________________________________\n",
            "dropout_16 (Dropout)         (None, 5, 5, 64)          0         \n",
            "_________________________________________________________________\n",
            "conv2d_65 (Conv2D)           (None, 3, 3, 64)          36928     \n",
            "_________________________________________________________________\n",
            "max_pooling2d_50 (MaxPooling (None, 1, 1, 64)          0         \n",
            "_________________________________________________________________\n",
            "dropout_17 (Dropout)         (None, 1, 1, 64)          0         \n",
            "_________________________________________________________________\n",
            "flatten_8 (Flatten)          (None, 64)                0         \n",
            "_________________________________________________________________\n",
            "batch_normalization_8 (Batch (None, 64)                256       \n",
            "_________________________________________________________________\n",
            "dense_26 (Dense)             (None, 2)                 130       \n",
            "=================================================================\n",
            "Total params: 68,914\n",
            "Trainable params: 68,786\n",
            "Non-trainable params: 128\n",
            "_________________________________________________________________\n"
          ],
          "name": "stdout"
        }
      ]
    },
    {
      "cell_type": "markdown",
      "metadata": {
        "colab_type": "text",
        "id": "XjDDrht_4wca"
      },
      "source": [
        "## Convert sequential model to functional model"
      ]
    },
    {
      "cell_type": "code",
      "metadata": {
        "colab_type": "code",
        "id": "283hoBLI49D4",
        "colab": {
          "base_uri": "https://localhost:8080/",
          "height": 391
        },
        "outputId": "e1e91253-5ea9-469b-b632-12ffa2414a2f"
      },
      "source": [
        "import tensorflow as tf\n",
        "from tensorflow.python.keras import layers, models, applications, Input, Model\n",
        "from tensorflow.keras.layers import Convolution2D, MaxPooling2D, UpSampling2D\n",
        "\n",
        "#load in data using imagedatagenreator\n",
        "input_img = Input(shape=(424,424,3))\n",
        "\n",
        "x = Convolution2D(16, (3, 3), activation='relu', padding='same')(input_img)\n",
        "x = MaxPooling2D((2, 2), padding='same')(x)\n",
        "x = Convolution2D(8, (3, 3), activation='relu', padding='same')(x)\n",
        "x = MaxPooling2D((2, 2), padding='same')(x)\n",
        "x = Convolution2D(8, (3, 3), activation='relu', padding='same')(x)\n",
        "encoded = MaxPooling2D((2, 2), padding='same')(x)\n",
        "\n",
        "##save weights and and model start conv network with these weights\n",
        "encoder = Model(input_img, encoded)\n",
        "\n",
        "# Model Summary\n",
        "encoder.summary()\n",
        "\n",
        "encoder.save('Encoded.h5')"
      ],
      "execution_count": 29,
      "outputs": [
        {
          "output_type": "stream",
          "text": [
            "Model: \"model_5\"\n",
            "_________________________________________________________________\n",
            "Layer (type)                 Output Shape              Param #   \n",
            "=================================================================\n",
            "input_8 (InputLayer)         [(None, 424, 424, 3)]     0         \n",
            "_________________________________________________________________\n",
            "conv2d_66 (Conv2D)           (None, 424, 424, 16)      448       \n",
            "_________________________________________________________________\n",
            "max_pooling2d_51 (MaxPooling (None, 212, 212, 16)      0         \n",
            "_________________________________________________________________\n",
            "conv2d_67 (Conv2D)           (None, 212, 212, 8)       1160      \n",
            "_________________________________________________________________\n",
            "max_pooling2d_52 (MaxPooling (None, 106, 106, 8)       0         \n",
            "_________________________________________________________________\n",
            "conv2d_68 (Conv2D)           (None, 106, 106, 8)       584       \n",
            "_________________________________________________________________\n",
            "max_pooling2d_53 (MaxPooling (None, 53, 53, 8)         0         \n",
            "=================================================================\n",
            "Total params: 2,192\n",
            "Trainable params: 2,192\n",
            "Non-trainable params: 0\n",
            "_________________________________________________________________\n"
          ],
          "name": "stdout"
        }
      ]
    },
    {
      "cell_type": "code",
      "metadata": {
        "colab_type": "code",
        "outputId": "e09aee33-71c0-4197-8acc-e2635825bd46",
        "id": "tlicujIp4wcf",
        "colab": {
          "base_uri": "https://localhost:8080/",
          "height": 850
        }
      },
      "source": [
        "import tensorflow as tf\n",
        "from tensorflow.python.keras import layers, models, applications, Input, Model, Sequential\n",
        "from tensorflow.keras.layers import Convolution2D, MaxPooling2D, UpSampling2D, Conv2D, Dense, Dropout, Flatten, BatchNormalization\n",
        "from tensorflow.keras.models import load_model\n",
        "\n",
        "# Load the previoulsy saved enocdermodel \n",
        "load_model('Encoded.h5')\n",
        "\n",
        "# Add the additonal layers \n",
        "x = Convolution2D(64,(3,3), activation='relu')(encoded)#3x3 is default\n",
        "x = MaxPooling2D(pool_size=(3,3))(x)\n",
        "#model.add(Dropout(.1))#test\n",
        "x = Dense(32, activation='relu')(x)#test\n",
        "x = Conv2D(64,(3,3), activation='relu')(x)#input_shape=(424,424,3)\n",
        "x = MaxPooling2D(pool_size=(3,3))(x)\n",
        "x = Dense(64, activation='relu')(x)\n",
        "x = Dropout(.3)(x)#test\n",
        "x = Conv2D(64,(3,3), activation='relu')(x)#input_shape=(424,424,3)\n",
        "x = MaxPooling2D(pool_size=(3,3))(x)\n",
        "x = Dropout(.3)(x)\n",
        "x = Flatten(input_shape=(424,424,3))(x)\n",
        "x = BatchNormalization()(x)\n",
        "output = Dense(2, activation='softmax')(x)\n",
        "\n",
        "##save weights and and model start conv network with these weights\n",
        "model = Model(input_img, output)\n",
        "\n",
        "# Model summary \n",
        "model.summary()"
      ],
      "execution_count": 26,
      "outputs": [
        {
          "output_type": "stream",
          "text": [
            "WARNING:tensorflow:No training configuration found in the save file, so the model was *not* compiled. Compile it manually.\n",
            "Model: \"model_4\"\n",
            "_________________________________________________________________\n",
            "Layer (type)                 Output Shape              Param #   \n",
            "=================================================================\n",
            "input_7 (InputLayer)         [(None, 424, 424, 3)]     0         \n",
            "_________________________________________________________________\n",
            "conv2d_44 (Conv2D)           (None, 424, 424, 16)      448       \n",
            "_________________________________________________________________\n",
            "max_pooling2d_33 (MaxPooling (None, 212, 212, 16)      0         \n",
            "_________________________________________________________________\n",
            "conv2d_45 (Conv2D)           (None, 212, 212, 8)       1160      \n",
            "_________________________________________________________________\n",
            "max_pooling2d_34 (MaxPooling (None, 106, 106, 8)       0         \n",
            "_________________________________________________________________\n",
            "conv2d_46 (Conv2D)           (None, 106, 106, 8)       584       \n",
            "_________________________________________________________________\n",
            "max_pooling2d_35 (MaxPooling (None, 53, 53, 8)         0         \n",
            "_________________________________________________________________\n",
            "conv2d_57 (Conv2D)           (None, 51, 51, 64)        4672      \n",
            "_________________________________________________________________\n",
            "max_pooling2d_42 (MaxPooling (None, 17, 17, 64)        0         \n",
            "_________________________________________________________________\n",
            "dense_21 (Dense)             (None, 17, 17, 32)        2080      \n",
            "_________________________________________________________________\n",
            "conv2d_58 (Conv2D)           (None, 15, 15, 64)        18496     \n",
            "_________________________________________________________________\n",
            "max_pooling2d_43 (MaxPooling (None, 5, 5, 64)          0         \n",
            "_________________________________________________________________\n",
            "dense_22 (Dense)             (None, 5, 5, 64)          4160      \n",
            "_________________________________________________________________\n",
            "dropout_14 (Dropout)         (None, 5, 5, 64)          0         \n",
            "_________________________________________________________________\n",
            "conv2d_59 (Conv2D)           (None, 3, 3, 64)          36928     \n",
            "_________________________________________________________________\n",
            "max_pooling2d_44 (MaxPooling (None, 1, 1, 64)          0         \n",
            "_________________________________________________________________\n",
            "dropout_15 (Dropout)         (None, 1, 1, 64)          0         \n",
            "_________________________________________________________________\n",
            "flatten_7 (Flatten)          (None, 64)                0         \n",
            "_________________________________________________________________\n",
            "batch_normalization_7 (Batch (None, 64)                256       \n",
            "_________________________________________________________________\n",
            "dense_23 (Dense)             (None, 2)                 130       \n",
            "=================================================================\n",
            "Total params: 68,914\n",
            "Trainable params: 68,786\n",
            "Non-trainable params: 128\n",
            "_________________________________________________________________\n"
          ],
          "name": "stdout"
        }
      ]
    }
  ]
}